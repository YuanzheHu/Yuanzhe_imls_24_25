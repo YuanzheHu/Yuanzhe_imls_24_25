{
 "cells": [
  {
   "cell_type": "markdown",
   "metadata": {},
   "source": [
    "<div width=50% style=\"display: block; margin: auto\">\n",
    "    <img src=\"figures/ucl-logo.svg\" width=100%>\n",
    "</div>\n",
    "\n",
    "### [UCL-ELEC0136 Data Acquisition and Processing Systems 2024]()\n",
    "University College London\n",
    "# Lab 0: Setup\n",
    "\n",
    "\n",
    "<hr width=70% style=\"float: left\">"
   ]
  },
  {
   "cell_type": "markdown",
   "metadata": {},
   "source": [
    "### Objectives\n",
    "* Setup a python virtual environment and install the python packages you will use in the rest of the labs.\n",
    "* Install a MySQL server on your machine.\n",
    "* Create your free MongoDB Atlas account that you can use to create a NoSQL online database.\n",
    "* Troubleshoot any setup issues you might encounter this week so that you are good to go for the rest of the class.\n",
    "\n",
    "### Outline\n",
    "\n",
    "This Notebook aims at helping you set up everything you will need for the labs of this course.\n",
    "\n",
    "* 0.0 [Setting up a virtual environment and downloading python packages](##-0.0-Setting-up-tasks-from-Lab-0-and-Lab-1)\n",
    "* 0.1 [Setting up MySQL and its connection to the Notebook (for lab 3)](##-0.1-Setting-up-MySQL-and-its-connection-to-the-Notebook)\n",
    "* 0.2 [Setting up a NoSQL online database and its connection to the Notebook (for lab 3)](##-0.2-Setting-up-a-NoSQL-online-database-and-its-connection-to-the-Notebook)\n",
    "\n",
    "\n",
    "<hr width=70% style=\"float: left\">"
   ]
  },
  {
   "cell_type": "markdown",
   "metadata": {},
   "source": [
    "\n",
    "<div class=\"alert alert-heading alert-danger\" style=\"background-color: white; border: 2px solid; border-radius: 5px; color: #000; border-color:#AAA; padding: 10px\">\n",
    "    <b>💎 Tip</b>\n",
    "\n",
    "Hopefully, this setup lab will run smoothly. However, it is possible that you encounter versioning problems and installation errors. **If you do, please seek assistance from the TAs.**\n",
    "\n",
    "</div>\n",
    "\n",
    "Unfortunately, situations where you lose time trying to figure out why a package doesn't work on your machine are an inevitable part of your life if you work with software, and you will encounter such issues many times in your career. There is a silver lining: learning how to debug an installation is a valuable skill that will benefit you greatly!\n",
    "\n",
    "\n",
    "<div class=\"alert alert-block alert-danger\">\n",
    "<b>👩‍💻👨‍💻 Action required</b>\n",
    "\n",
    "**OS**\n",
    "- Make sure your OS is updated to the latest version\n",
    "- **Please switch the language of your OS to English to assist the TAs in trouble shooting.**\n",
    "\n",
    "**Git**\n",
    "* Install git on your computer from [the official git websiste](https://git-scm.com).\n",
    "* Make sure you're familiar with [git's basic commands](https://education.github.com/git-cheat-sheet-education.pdf)\n",
    "\n",
    "**VS Code**\n",
    "* Install [VS Code](https://code.visualstudio.com)\n",
    "* In VS Code, go to the extensions tab, and download the [python extension](https://marketplace.visualstudio.com/items?itemName=ms-python.python) and [jupyter extension](https://marketplace.visualstudio.com/items?itemName=ms-toolsai.jupyter).\n",
    "* If you are on a Windows laptop, please install the `Git bash terminal` by following [these instructions](https://www.geeksforgeeks.org/how-to-integrate-git-bash-with-visual-studio-code/). \n",
    "</div>"
   ]
  },
  {
   "cell_type": "markdown",
   "metadata": {},
   "source": [
    "## 0.0 Setting up a python virtual environment with a .yml file and a requirements.txt file\n",
    "\n",
    "You should already have installed [**Anaconda**](https://docs.anaconda.com/free/anaconda/) or an open-source equivalent (preferred), such as [**Miniconda**](https://docs.conda.io/projects/miniconda/en/latest/miniconda-install.html).\n",
    "\n",
    "The following task shows you how to mangage your python version using `conda` (e.g. Python 3.9 vs 3.10) and the packages required by Python using `pip`.\n",
    "This is a key step as it guarantees that your development environment is **reproducible** by somebody else.\n",
    "\n",
    "**Failing do to this in the final assignment will get you a score of 0 (zero) in reproducibility.**\n",
    "\n",
    "<div class=\"alert alert-block alert-danger\">\n",
    "<b>👩‍💻👨‍💻 Action required</b>\n",
    "    \n",
    "- Run throught the following checklist and make sure that you've done all of the tasks before moving on to parts 0.1 and 0.2.\n",
    "- If you encounter an issue, try to troubleshoot by looking online if other people have encountered the same issues and how they solved it.\n",
    "- If all fails, ask a TA during a lab or use the forum on Moodle to reach out to the teaching staff.\n",
    "\n",
    "    \n",
    "</div>"
   ]
  },
  {
   "cell_type": "markdown",
   "metadata": {},
   "source": [
    "\n",
    "- In the root directory (where you git cloned this lab and will clone all the others), create a `env` folder. \n",
    "- In the `/env` folder, create an empty file with your notepad app and name it `environment.yml`.\n",
    "- Look [here](https://github.com/UCL-ELEC0136/setup) to understand the structure of a standard environment.yml file, where the pip requirements are stored separate into another file.\n",
    "- Use the exemple to create your own environment file, with the environment name (not the file) `daps` and the version of python 3.11.\n",
    "- Create a text file called `requirements.txt`, add the following package names to be installed with your environment.\n",
    "\n",
    "```\n",
    "# lab 2\n",
    "jupyter\n",
    "jupyterlab\n",
    "requests\n",
    "\n",
    "# lab 3\n",
    "numpy\n",
    "pandas\n",
    "mysql-connector-python\n",
    "pymongo\n",
    "dnspython\n",
    "\n",
    "# lab 4\n",
    "folktables\n",
    "scikit-learn\n",
    "matplotlib\n",
    "seaborn\n",
    "sklearn\n",
    "fairlearn\n",
    "\n",
    "# lab 6\n",
    "ucimlrepo\n",
    "scikit-learn\n",
    "shap\n",
    "\n",
    "# lab 7\n",
    "datetime\n",
    "calendar\n",
    "``` \n",
    "\n",
    "\n",
    "- If you did everything right, you file structure should look like this, with `DAPS_root` being the folder in which you git cloned the lab:\n",
    "```plaintext\n",
    "├── DAPS_root\n",
    "│   ├── env\n",
    "│   │   ├── environment.yml\n",
    "│   │   ├── requirements.txt\n",
    "│   ├── 0-DAPS-SETUP\n",
    "│   │   ├── 0-SETUP.ipynb\n",
    "│   │   ├── figures\n",
    "│   │   ├── README.md\n",
    "│   │   ├── .gitignore\n",
    "│   ├── 1-GIT-AND-GITHUB\n",
    "            .\n",
    "            .\n",
    "            .\n",
    "```\n",
    "\n",
    "- Open a terminal and use cd to navigate to the root directory.\n",
    "- Run the command `sudo conda env create -f env/environment.yml`, enter the password of your session, press enter.\n",
    "- Run the command `conda info --envs` to check that the envirionment called daps has been created.\n",
    "- Run the command `conda activate daps` to activate the environment.\n",
    "- Install the dependencies using `pip install -r env/requirements.txt`. You can do this in the cell bellow or in your terminal.\n",
    "- In VS Code, verify that your Notebook is running on the python kernel `daps`.\n",
    "- **NOTE: for this lab and all future labs, make sure that your Notebook is running on the python kernel `daps`.** \n",
    "This is a key step as it guarantees that your development environment is **reproducible**.\n",
    "\n",
    "\n",
    "<div width=50% style=\"display: block; margin: auto\">\n",
    "    <img src=\"./figures/kernel.png\" width=75%>\n",
    "</div>\n",
    "\n",
    "\n",
    "\n",
    "<div class=\"alert alert-heading alert-danger\" style=\"background-color: white; border: 2px solid; border-radius: 5px; color: #000; border-color:#AAA; padding: 10px\">\n",
    "    <b>💎 Tip</b>\n",
    "\n",
    "If you wish to install other packages, please add them to the `requirements.txt` file and run `pip install -r env/requirements.txt`. This will install the new packages, and update the others to the latest version available with pip.\n",
    "\n",
    "</div>"
   ]
  },
  {
   "cell_type": "markdown",
   "metadata": {},
   "source": [
    "## 0.1 Setting up MySQL and its connection to the Notebook\n",
    "\n",
    "\n",
    "### 0.1.1 Setting up a MySQL server on your machine\n",
    "\n",
    "In this part, we will set up a [MySQL Community Server](https://dev.mysql.com/downloads/mysql/) on your machine, that we will be using in lab 3. \n",
    "\n",
    "Some students have struggled with this step in the past, so we ask that you do it now so that we have time to help you and get you ready on time.\n",
    "\n",
    "<div class=\"alert alert-heading alert-danger\" style=\"background-color: white; border: 2px solid; border-radius: 5px; color: #000; border-color:#AAA; padding: 10px\">\n",
    "    <b>💎 Tip</b>\n",
    "\n",
    "If at some point you make a mistake (you download the wrong version...), and want to start again, run in your terminal `pip3 uninstall mysql` to uninstall the version of mysql on your machine.\n",
    "</div>\n",
    "\n",
    "<div class=\"alert alert-block alert-danger\">\n",
    "<b>👩‍💻👨‍💻 Action required</b>\n",
    "\n",
    "- Download the version of MySQL Community server adapted to the machine you are working on from this website: https://dev.mysql.com/downloads/mysql/\n",
    "    \n",
    "- Install the MySQL Community server, you will be asked to create a password, **!!!-->PLEASE KEEP A RECORD OF THAT PASSWORD YOU WILL NEED IT LATER<--!!!**. \n",
    "\n",
    "    * [Linux tutorial](https://www.youtube.com/watch?v=0o0tSaVQfV4) \n",
    "\n",
    "    * [MAC tutorial](https://www.youtube.com/watch?v=5BQ5GvjiAR4) \n",
    "\n",
    "    * [Windows tutorial](https://www.youtube.com/watch?v=2HQC94la6go)\n",
    "    \n",
    "    **Note1: for MAC, install the x86 version if you have an Intel CPU, and the ARM version if you have an Apple CPU**\n",
    "    \n",
    "    **Note2: you don't need an Oracle account, just click on \"No thanks, just start my download.\"**\n",
    "    \n",
    "    **Note3: you don't need to install MySQL Workbench.**\n",
    "    \n",
    "    \n",
    "    \n",
    "- Run the cell bellow (or open a terminal and type `mysql -V`). This should give you the version of MySQL installed on your machine, which will let you know that the installation was successful. If it doesn't work, try restarting your machine, and if still unsucessful call for help.\n",
    "\n",
    "</div>\n",
    "    \n",
    "    \n"
   ]
  },
  {
   "cell_type": "code",
   "execution_count": 1,
   "metadata": {},
   "outputs": [
    {
     "name": "stdout",
     "output_type": "stream",
     "text": [
      "Version of python:\n",
      "Python 3.11.11\n",
      "mysql  Ver 9.0.1 for macos14.4 on arm64 (Homebrew)\n"
     ]
    }
   ],
   "source": [
    "!echo Version of python:\n",
    "!python --version \n",
    "!mysql -V"
   ]
  },
  {
   "cell_type": "markdown",
   "metadata": {},
   "source": [
    "### 0.1.2 Installing and importing important python libraries\n",
    "\n",
    "<div class=\"alert alert-block alert-danger\">\n",
    "<b>👩‍💻👨‍💻 Action required</b>\n",
    "\n",
    "- Go to the requirement.txt file, check that `mysql-connector-python` and `pandas`are in the list of packages.\n",
    "- Run the cell bellow.\n",
    "\n",
    "</div>"
   ]
  },
  {
   "cell_type": "code",
   "execution_count": 2,
   "metadata": {},
   "outputs": [
    {
     "name": "stdout",
     "output_type": "stream",
     "text": [
      "Name: mysql-connector-python\n",
      "Version: 9.0.0\n",
      "Summary: MySQL driver written in Python\n",
      "Home-page: http://dev.mysql.com/doc/connector-python/en/index.html\n",
      "Author: Oracle and/or its affiliates\n",
      "Author-email: \n",
      "License: GNU GPLv2 (with FOSS License Exception)\n",
      "Location: /Users/huyuanzhe/.local/lib/python3.11/site-packages\n",
      "Requires: \n",
      "Required-by: \n"
     ]
    }
   ],
   "source": [
    "#Install python librairies\n",
    "!pip show mysql-connector-python # Version of python of mysql-connector"
   ]
  },
  {
   "cell_type": "markdown",
   "metadata": {},
   "source": [
    "<div class=\"alert alert-block alert-danger\">\n",
    "<b>👩‍💻👨‍💻 Action required</b>\n",
    "\n",
    "- Run the cells bellow and check that no errors are returned.\n",
    "\n",
    "</div>"
   ]
  },
  {
   "cell_type": "code",
   "execution_count": 3,
   "metadata": {},
   "outputs": [],
   "source": [
    "#Import python librairies into your Jupyter shell\n",
    "import pandas as pd\n",
    "import mysql.connector\n",
    "from mysql.connector import Error\n",
    "\n",
    "\n",
    "# FOR DEBUGING IF THIS CELL RETURNS AN ERROR\n",
    "#!python --version # Version of python of this Notebook\n",
    "#!pip show mysql-connector-python # Version of python of mysql-connector and location of installation\n",
    "\n",
    "#import sys\n",
    "#sys.path.append('/usr/local/lib/python3.11/site-packages') #<-- Put here the path where \"mysql-connector-python\" was installed"
   ]
  },
  {
   "cell_type": "markdown",
   "metadata": {},
   "source": [
    "### 0.1.3 Connect python to the MySQL server\n",
    "\n",
    "<div class=\"alert alert-block alert-danger\">\n",
    "<b>👩‍💻👨‍💻 Action required</b>\n",
    "\n",
    "- Run the cells bellow and check that no errors are returned.\n",
    "- Change the password to the one you created when installing MySQL.\n",
    "\n",
    "</div>"
   ]
  },
  {
   "cell_type": "code",
   "execution_count": 4,
   "metadata": {},
   "outputs": [],
   "source": [
    "def create_server_connection(host_name, user_name, user_password):\n",
    "    \"\"\"\n",
    "    This function attempts to establish a connection to a MySQL database server\n",
    "    using the provided credentials.\n",
    "\n",
    "    Args:\n",
    "    - host_name (str): The hostname or IP address of the MySQL server.\n",
    "    - user_name (str): The username for authenticating with the MySQL server.\n",
    "    - user_password (str): The password for the user.\n",
    "\n",
    "    Returns:\n",
    "    - mysql.connector.connection.MySQLConnection or None: A MySQL database connection object if the connection is successful, or None if an error occurs during connection.\n",
    "    \n",
    "    Raises:\n",
    "    - mysql.connector.Error: If an error occurs during the database creation process.\n",
    "    \n",
    "    \n",
    "    \"\"\"\n",
    "    connection = None\n",
    "    try:\n",
    "        connection = mysql.connector.connect(\n",
    "            host=host_name,\n",
    "            user=user_name,\n",
    "            password=user_password\n",
    "        )\n",
    "        print(\"MySQL Database connection successful\")\n",
    "    except Error as err:\n",
    "        print(f\"Error: '{err}'\")\n",
    "\n",
    "    return connection"
   ]
  },
  {
   "cell_type": "code",
   "execution_count": 5,
   "metadata": {},
   "outputs": [
    {
     "name": "stdout",
     "output_type": "stream",
     "text": [
      "MySQL Database connection successful\n"
     ]
    }
   ],
   "source": [
    "###########################\n",
    "# Task: \n",
    "#   change pw with the MySQL server password you chose in 0.1.1, and run the cell\n",
    "#\n",
    "###########################\n",
    "\n",
    "# pw = \"hyz105101\" #<--- My password\n",
    "pw  = ''\n",
    "server_connection = create_server_connection(\"localhost\", \"root\", pw)"
   ]
  },
  {
   "cell_type": "markdown",
   "metadata": {},
   "source": [
    "## 0.2 Setting up a NoSQL online database and its connection to the Notebook\n",
    "\n",
    "### 0.2.1 Create a MongoDB ATLAS account\n",
    "\n",
    "In this part, we will set up a MongoDB account and create a noSQL database that you will use in lab 3. \n",
    "\n",
    "**What is MongoDB?**\n",
    "\n",
    "**MongoDB is a flexible and scalable NoSQL database system that stores data in a document-oriented format (BSON)**. MongoDB environments provide users with a server to create databases with MongoDB. MongoDB stores data as records that are made up of collections and documents. That server can be access via an API, which allows for data manipulation with a variaty of programming languages (C, C++, C#, Go, Java, Python, Ruby and Swift). \n",
    "\n",
    "**Data structures in MongoDB**\n",
    "\n",
    "In MongoDB, a **database** is the container for collections. A single **collection**  is the container for documents. **Documents** are usually key/value pairs but it can include arrays and subdocuments. It can support different data types. More information here: https://docs.mongodb.com/manual/reference/bson-types/. \n",
    "\n",
    "| Relational DB  | MongoDB  |\n",
    "|---|---|\n",
    "|  Database | Database  |  \n",
    "| Tables  |  Collections |\n",
    "| Rows  | Documents  |\n",
    "| Index  |  Index |\n",
    "\n",
    "\n",
    "\n",
    "You can find more information about MongoDB document structure https://docs.mongodb.com/manual/core/document/. If you are not familiar with JSON and BSON specifications, you might wish to read about them here:\n",
    "- JSON: https://www.json.org/json-en.html\n",
    "- BSON: http://bsonspec.org\n",
    "\n",
    "\n",
    "<div class=\"alert alert-block alert-danger\">\n",
    "<b>👩‍💻👨‍💻 Action required</b>\n",
    "\n",
    "- Follow the instructions in `TutorialMongoDB.pdf`. \n",
    "- Verify that `pymongo` and `dnspython` are in the `requirements.txt` file.\n",
    "- Open a terminal, navigate using `cd` to the root folder and run `pip3 install -r env/requirements.txt`.\n",
    "- Import `pymongo` and `dnspython`,  with the code below and check that there are no errors.\n",
    "</div>\n",
    " \t"
   ]
  },
  {
   "cell_type": "code",
   "execution_count": 9,
   "metadata": {},
   "outputs": [],
   "source": [
    "# Run cell to import librairies\n",
    "import pymongo\n",
    "from pprint import pprint\n",
    "from random import randint"
   ]
  },
  {
   "cell_type": "markdown",
   "metadata": {},
   "source": [
    "### 0.2.2 Connect the Notebook to MongoDB\n",
    "\n",
    "<div class=\"alert alert-block alert-danger\">\n",
    "<b>👩‍💻👨‍💻 Action required</b>\n",
    "\n",
    "- Replace uri with the link you copied from MongoDB's online platform when setting the connection to the cluster.\n",
    "    \n",
    "- Replace $<password>$ with your password (the one you created when setting up MongoDB).\n",
    "\n",
    "</div>\n"
   ]
  },
  {
   "cell_type": "code",
   "execution_count": 11,
   "metadata": {},
   "outputs": [
    {
     "name": "stdout",
     "output_type": "stream",
     "text": [
      "bad auth : authentication failed, full error: {'ok': 0, 'errmsg': 'bad auth : authentication failed', 'code': 8000, 'codeName': 'AtlasError'}\n"
     ]
    }
   ],
   "source": [
    "import pymongo\n",
    "\n",
    "username = \"root\"\n",
    "password = \"1\"\n",
    "cluster_url = \"cluster0.8v3mq.mongodb.net\"\n",
    "\n",
    "# Construct the URI\n",
    "uri = f\"mongodb+srv://{username}:{password}@{cluster_url}/?retryWrites=true&w=majority&appName=Cluster0\"\n",
    "\n",
    "# Create a new client and connect to the server\n",
    "client = pymongo.MongoClient(uri)\n",
    "\n",
    "# Send a ping to confirm a successful connection\n",
    "try:\n",
    "    client.admin.command('ping')\n",
    "    print(\"Pinged your deployment. You successfully connected to MongoDB!\")\n",
    "except Exception as e:\n",
    "    print(e)"
   ]
  },
  {
   "cell_type": "markdown",
   "metadata": {},
   "source": [
    "**All good, you are ready DAPS!**\n",
    "\n",
    "<div width=50% style=\"display: block; margin: auto\">\n",
    "    <img src=\"./figures/cat.jpeg\" width=40%>\n",
    "</div>\n",
    "\n"
   ]
  }
 ],
 "metadata": {
  "kernelspec": {
   "display_name": "Python 3",
   "language": "python",
   "name": "python3"
  },
  "language_info": {
   "codemirror_mode": {
    "name": "ipython",
    "version": 3
   },
   "file_extension": ".py",
   "mimetype": "text/x-python",
   "name": "python",
   "nbconvert_exporter": "python",
   "pygments_lexer": "ipython3",
   "version": "3.11.11"
  }
 },
 "nbformat": 4,
 "nbformat_minor": 4
}
