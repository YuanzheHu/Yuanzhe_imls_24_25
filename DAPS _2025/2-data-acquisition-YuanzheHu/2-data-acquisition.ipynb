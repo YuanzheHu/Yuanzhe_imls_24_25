{
 "cells": [
  {
   "cell_type": "markdown",
   "metadata": {},
   "source": [
    "<div width=50% style=\"display: block; margin: auto\">\n",
    "    <img src=\"figures/ucl-logo.svg\" width=100%>\n",
    "</div>\n",
    "\n",
    "### [UCL-ELEC0136 Data Acquisition and Processing Systems 2024]()\n",
    "University College London\n",
    "# Lab 2: Data Acquisition\n",
    "\n",
    "\n",
    "<hr width=70% style=\"float: left\">"
   ]
  },
  {
   "cell_type": "markdown",
   "metadata": {},
   "source": [
    "### Objectives\n",
    "\n",
    "The data acquisition lab aims to show how we can find and acquire various data sources (e.g., web scraping, social media, databases, sensors).   \n",
    "In this lab, you will learn:\n",
    "- How to use Python to acquire data from various sources\n",
    "- How to store data in a json format\n",
    "- How to commit and push your code to GitHub\n",
    "\n",
    "\n",
    "### Outline\n",
    "\n",
    "In this class we will cover the following topics:\n",
    "\n",
    "1. [GitHub Classrooms explained](#1.-GitHub-Classrooms-explained)\n",
    "2. [Activating the daps virtual environment](#3.-Creating-a-virtual-environment)\n",
    "3. [Acquiring data using the `requests` module and the GitHub RESTful APIs](#4.-Acquiring-data-using-the-requests-module-and-the-GitHub-RESTful-APIs)\n",
    "4. [Pushing your code to GitHub](#5.-Pushing-your-code-to-GitHub)\n",
    "5. [Submitting your assignment](#6.-Submitting-your-assignment)\n",
    "\n",
    "<hr width=70% style=\"float: left\">"
   ]
  },
  {
   "cell_type": "markdown",
   "metadata": {},
   "source": [
    "## 1. GitHub Classrooms explained\n",
    "### 1.1 Accepting an assignment"
   ]
  },
  {
   "cell_type": "markdown",
   "metadata": {},
   "source": [
    "- For every week of the course, you will be given an assignment to complete.\n",
    "\n",
    "- You can find the **links** to your assignments on Moodle.\n",
    "\n",
    "- When you click on the link, you will be redirected to GitHub Classroom, where you will be asked to accept the assignment. The page will look like this:\n",
    "\n",
    "- GitHub Classroom will create a **public repository** for you, which will contain the assignment, with pattern `<assignment-name>-<your-github-username>`.\n",
    "\n",
    "\n",
    "\n",
    "<div width=50% style=\"display: block; margin-left: auto\">\n",
    "    <img src=\"figures/accepted-assignment.png\" style=\"display: block; margin: auto\" width=50%>\n",
    "</div>\n"
   ]
  },
  {
   "cell_type": "markdown",
   "metadata": {},
   "source": [
    "### 1.2. Cloning a repository\n",
    "\n",
    "\n",
    "<div class=\"alert alert-block alert-danger\">\n",
    "<b>👩‍💻👨‍💻 Action required</b>\n",
    "\n",
    "- Open a terminal\n",
    "- Navigate to the directory where you want to store your assignment\n",
    "- Clone the repository using the command `git clone <repository-url>`\n",
    "- Navigate to the cloned repository using the command `cd <repository-name>`\n",
    "\n",
    "</div>\n",
    "\n",
    "Remember lab `0-DAPS-SETUP`, your file structure should look like: \n",
    "\n",
    "```plaintext\n",
    "├── root\n",
    "│   ├── env\n",
    "│   │   ├── environment.yml\n",
    "│   │   ├── requirements.txt\n",
    "│   ├── 0-DAPS-SETUP\n",
    "│   │   ├── 0-SETUP.ipynb\n",
    "│   │   ├── figures\n",
    "│   │   ├── README.md\n",
    "│   │   ├── .gitignore\n",
    "│   ├── 1-GIT-AND-GITHUB\n",
    "            .\n",
    "            .\n",
    "            .\n",
    "```"
   ]
  },
  {
   "cell_type": "markdown",
   "metadata": {},
   "source": [
    "## 3. Activating the daps virtual environment\n",
    "\n",
    "<div class=\"alert alert-block alert-danger\">\n",
    "<b>👩‍💻👨‍💻 Action required</b>\n",
    "\n",
    "- Make sure you have completed part 0.0 of the Notebook of lab `0-DAPS-SETUP` that instructs you how to create a virtual environment called `daps`.\n",
    "- Make sure to run this Notebook on the python kernel of the `daps`virtual environment.\n",
    "\n",
    "</div>\n",
    "\n",
    "<div width=50% style=\"display: block; margin: auto\">\n",
    "    <img src=\"./figures/kernel.png\" width=75%>\n",
    "</div>"
   ]
  },
  {
   "cell_type": "markdown",
   "metadata": {},
   "source": [
    "<div class=\"alert alert-block alert-danger\">\n",
    "<b>👩‍💻👨‍💻 Action required</b>\n",
    "\n",
    "- Fill the `requirements.txt` with all the packages you will need for this assignment then run following cell. You can look up the requirements.txt file you created in lab 0-SETUP for reference.\n",
    "</div>\n"
   ]
  },
  {
   "cell_type": "code",
   "execution_count": 1,
   "metadata": {},
   "outputs": [
    {
     "name": "stdout",
     "output_type": "stream",
     "text": [
      "Defaulting to user installation because normal site-packages is not writeable\n"
     ]
    }
   ],
   "source": [
    "!pip install -r requirements.txt"
   ]
  },
  {
   "cell_type": "markdown",
   "metadata": {},
   "source": [
    "## 4. Acquiring data using the `requests` module and the GitHub RESTful APIs\n",
    "\n",
    "The `requests` module is a Python module that allows you to send HTTP requests to a server and receive a response.\n",
    "We will use it to acquire data from the web.\n",
    "\n",
    "<div class=\"alert alert-block alert-danger\">\n",
    "<b>👩‍💻👨‍💻 Action required</b>\n",
    "\n",
    "- Import the `requests` module using `import requests`.\n",
    "- Use the `requests.get()` function to send a `GET` request to a server. The function takes as input the URL of the server, and returns a `Response` object.\n",
    "- Acquire 100 repositories from the `https://github.com/orgs/UCL-ELEC0136` organisation\n",
    "- Use the `Response` object to access the response of the server. For example, you can access the response status code using `Response.status_code`.\n",
    "- Use the `Response.json()` function to convert the response content to a `dict` object.\n",
    "- Use the `json` module to save the `dict` object to a file using `json.dump()`\n",
    "- Use the `json.load()` function to load the `dict` object from the file.\n",
    "- Verify that the `dict` object you loaded from the file is the same as the one you saved to the file.\n",
    "\n",
    "</div>\n",
    "\n",
    "\n",
    "<div class=\"alert alert-heading alert-danger\" style=\"background-color: white; border: 2px solid; border-radius: 5px; color: #000; border-color:#AAA; padding: 10px\">\n",
    "    <b>💎 Tip</b>\n",
    "\n",
    "Check out the GitHub REST API documentation to see how to acquire information from GitHub using the API.\n",
    "For example, you can use the following URL to retrieve information about the repository `https://api.github.com/repos/<username>/<repository-name>`, but this is not the query we want. We want **all** at least 100 repositories of an organisation.\n",
    "You can check the API's documentation here https://docs.github.com/en/rest?apiVersion=2022-11-28 or check Stackoverflow answers.\n",
    "</div>"
   ]
  },
  {
   "cell_type": "code",
   "execution_count": 2,
   "metadata": {},
   "outputs": [],
   "source": [
    "import requests\n",
    "import json\n",
    "\n",
    "# Function to get repository information\n",
    "def get_repositories():\n",
    "    url = \"https://api.github.com/orgs/UCL-ELEC0136/repos?page=1&per_page=100\"\n",
    "    response = requests.get(url)\n",
    "\n",
    "    # Check if the request was successful\n",
    "    if response.status_code == 200:\n",
    "        print(\"Successfully fetched the data!\")\n",
    "        data = response.json()  # Convert the response content to JSON\n",
    "        return data\n",
    "    else:\n",
    "        print(f\"Failed to fetch data, status code: {response.status_code}\")\n",
    "        return None\n",
    "\n",
    "# Function to save data to a file\n",
    "def save_to_file(data, filename):\n",
    "    with open(filename, 'w') as file:\n",
    "        json.dump(data, file, indent=4)\n",
    "        print(f\"Data successfully saved to {filename}\")\n",
    "\n",
    "# Function to load data from a file\n",
    "def load_from_file(filename):\n",
    "    with open(filename, 'r') as file:\n",
    "        data = json.load(file)\n",
    "        print(f\"Data successfully loaded from {filename}\")\n",
    "        return data\n",
    "\n",
    "# Function to verify if two dictionaries are identical\n",
    "def verify_data(original_data, loaded_data):\n",
    "    if original_data == loaded_data:\n",
    "        print(\"Verification successful: The data matches!\")\n",
    "    else:\n",
    "        print(\"Verification failed: The data does not match.\")"
   ]
  },
  {
   "cell_type": "code",
   "execution_count": 3,
   "metadata": {},
   "outputs": [
    {
     "name": "stdout",
     "output_type": "stream",
     "text": [
      "Successfully fetched the data!\n",
      "Data successfully saved to ucl_repos.json\n",
      "Data successfully loaded from ucl_repos.json\n",
      "Verification successful: The data matches!\n"
     ]
    }
   ],
   "source": [
    "# Get repository information\n",
    "repos_data = get_repositories()\n",
    "\n",
    "if repos_data:\n",
    "    # Save the data to a file\n",
    "    filename = 'ucl_repos.json'\n",
    "    save_to_file(repos_data, filename)\n",
    "\n",
    "    # Load the data from the file\n",
    "    loaded_data = load_from_file(filename)\n",
    "\n",
    "    # Verify that the saved data and the loaded data are the same\n",
    "    verify_data(repos_data, loaded_data)"
   ]
  },
  {
   "cell_type": "markdown",
   "metadata": {},
   "source": [
    "## 4.1 Pagination\n",
    "\n",
    "<div class=\"alert alert-block alert-warning\">\n",
    "<b>👩‍💻👨‍💻 Optional action</b>\n",
    "\n",
    "- What if we want 200 repositories?\n",
    "\n",
    "</div>\n",
    "\n",
    "\n",
    "<div class=\"alert alert-heading alert-danger\" style=\"background-color: white; border: 2px solid; border-radius: 5px; color: #000; border-color:#AAA; padding: 10px\">\n",
    "    <b>💎 Tip</b>\n",
    "\n",
    "The method is in the title of this section\n",
    "</div>"
   ]
  },
  {
   "cell_type": "code",
   "execution_count": 4,
   "metadata": {},
   "outputs": [],
   "source": [
    "import requests\n",
    "import json\n",
    "\n",
    "# Function to get repositories with pagination support\n",
    "def get_repositories():\n",
    "    all_repos = []\n",
    "    for page in range(1, 3):  # Fetch page 1 and 2, with a maximum of 100 repos per page\n",
    "        url = f\"https://api.github.com/orgs/UCL-ELEC0136/repos?page={page}&per_page=100\"\n",
    "        response = requests.get(url)\n",
    "\n",
    "        # Check if the request was successful\n",
    "        if response.status_code == 200:\n",
    "            print(f\"Successfully fetched page {page} data!\")\n",
    "            data = response.json()  # Convert response content to JSON\n",
    "            all_repos.extend(data)   # Add the repos from this page to the total list\n",
    "        else:\n",
    "            print(f\"Failed to fetch data for page {page}, status code: {response.status_code}\")\n",
    "            return None\n",
    "\n",
    "    return all_repos\n",
    "\n",
    "# Function to save data to a file\n",
    "def save_to_file(data, filename):\n",
    "    with open(filename, 'w') as file:\n",
    "        json.dump(data, file, indent=4)\n",
    "        print(f\"Data successfully saved to {filename}\")\n",
    "\n",
    "# Function to load data from a file\n",
    "def load_from_file(filename):\n",
    "    with open(filename, 'r') as file:\n",
    "        data = json.load(file)\n",
    "        print(f\"Data successfully loaded from {filename}\")\n",
    "        return data\n",
    "\n",
    "# Function to verify if the original data matches the loaded data\n",
    "def verify_data(original_data, loaded_data):\n",
    "    if original_data == loaded_data:\n",
    "        print(\"Verification successful: The data matches!\")\n",
    "    else:\n",
    "        print(\"Verification failed: The data does not match.\")"
   ]
  },
  {
   "cell_type": "code",
   "execution_count": 5,
   "metadata": {},
   "outputs": [
    {
     "name": "stdout",
     "output_type": "stream",
     "text": [
      "Successfully fetched page 1 data!\n",
      "Successfully fetched page 2 data!\n",
      "Data successfully saved to ucl_repos_200.json\n",
      "Data successfully loaded from ucl_repos_200.json\n",
      "Verification successful: The data matches!\n"
     ]
    }
   ],
   "source": [
    "# Get repositories data\n",
    "repos_data = get_repositories()\n",
    "    \n",
    "if repos_data:\n",
    "    # Save data to a file\n",
    "    filename = 'ucl_repos_200.json'\n",
    "    save_to_file(repos_data, filename)\n",
    "\n",
    "    # Load data from the file\n",
    "    loaded_data = load_from_file(filename)\n",
    "\n",
    "    # Verify that the saved data and loaded data are the same\n",
    "    verify_data(repos_data, loaded_data)"
   ]
  },
  {
   "cell_type": "markdown",
   "metadata": {},
   "source": [
    "## 5. Pushing your code to GitHub\n",
    "\n",
    "We are now ready to push our code that acquires data from GitHub to our repository (which is also GitHub, but this is just a coincidence, we could have used any other API, like Twitter's or Facebook's).\n",
    "\n",
    "<div class=\"alert alert-block alert-danger\">\n",
    "<b>👩‍💻👨‍💻 Action required</b>\n",
    "\n",
    "- Go into your terminal\n",
    "- Check the git status of your repository using the command `git status`\n",
    "- Verify that the files you want to commit are listed, and that there is no pending changes to pull from the remote\n",
    "- Add the files to the staging area using the command `git add <file-name>`\n",
    "- Commit the files using the command `git commit -m \"<commit-message>\"`\n",
    "- Use a meaningful commit message, e.g., `Acquire data from GitHub`\n",
    "- Push the files to GitHub using the command `git push`\n",
    "- Verify that the files have been pushed to GitHub by refreshing the page of your repository on GitHub. \n",
    "</div>"
   ]
  },
  {
   "cell_type": "code",
   "execution_count": 6,
   "metadata": {},
   "outputs": [],
   "source": [
    "# write your code here, if applicable"
   ]
  },
  {
   "cell_type": "markdown",
   "metadata": {},
   "source": [
    "## 6. Submitting your assignment\n",
    "\n",
    "To submit this assignment and **every other future assignment**, included the **final assignment** you have to:\n",
    "- Commit and push your code to GitHub\n",
    "- Go to **your** repository of the assignment. This must be on our course organisation `UCL-ELEC0136` and usually has the pattern `https://github.com/UCL-ELEC0136/<assignment-name>-<your-github-username>`.\n",
    "- Go in the `Pull requests` tab and click on the `Feedback` pull request.\n",
    "- Click on `Files changed` and verify that the files you have changed are listed.\n",
    "- Merge the pull request by clicking on `Merge pull request` and then `Confirm merge`.\n",
    "\n",
    "We are now ready to push our code that acquires data from GitHub to our repository (which is also GitHub, but this is just a coincidence, we could have used any other API, like Twitter's or Facebook's).\n",
    "\n",
    "<div class=\"alert alert-block alert-danger\">\n",
    "<b>👩‍💻👨‍💻 Action required</b>\n",
    "\n",
    "Submit your assignment by following the steps above.\n",
    "</div>"
   ]
  },
  {
   "cell_type": "code",
   "execution_count": 7,
   "metadata": {},
   "outputs": [],
   "source": [
    "# Write your code here, if applicable"
   ]
  }
 ],
 "metadata": {
  "kernelspec": {
   "display_name": "daps",
   "language": "python",
   "name": "python3"
  },
  "language_info": {
   "codemirror_mode": {
    "name": "ipython",
    "version": 3
   },
   "file_extension": ".py",
   "mimetype": "text/x-python",
   "name": "python",
   "nbconvert_exporter": "python",
   "pygments_lexer": "ipython3",
   "version": "3.11.10"
  }
 },
 "nbformat": 4,
 "nbformat_minor": 4
}
