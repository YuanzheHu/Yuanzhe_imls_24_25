{
  "cells": [
    {
      "cell_type": "markdown",
      "metadata": {
        "id": "mue7ZjiB7kIP"
      },
      "source": [
        "# **Lab 1: Introduction to Natural Language Processing with PyTorch**\n",
        "\n",
        "In this lab, you will:\n",
        "- Gain basic familiarity with implementing neural networks in PyTorch, a deep learning library\n",
        "- Practice loading and preprocessing data for NLP\n",
        "- Perform named entity recognition with a recurrent LSTM network (Long Short-Term Memory)\n",
        "- Use an LSTM to predict the genre of a film based on a short plot summary\n",
        "\n",
        "**Sections where you have to write code or answer questions are marked with 📝.**\n",
        "\n",
        "To start, make a copy of this notebook to your google drive, using `File -> Save a copy in Drive`. This should open a new tab, with your copy of the notebook open.\n",
        "\n"
      ]
    },
    {
      "cell_type": "markdown",
      "source": [
        "---\n",
        "\n",
        "## **0 - Setup**\n",
        "\n",
        "---\n"
      ],
      "metadata": {
        "id": "r-fv1A1L-xxr"
      }
    },
    {
      "cell_type": "markdown",
      "source": [
        "This block will download the data and packages needed for this lab.\n",
        "\n",
        "Once you have run this block, open the `Files` panel in Colab. You should be able to see a folder, `data`, containing `movies.csv` and `ner.csv`."
      ],
      "metadata": {
        "id": "PLihn2-z8th3"
      }
    },
    {
      "cell_type": "code",
      "source": [
        "# Download data\n",
        "!gdown --fuzzy 'https://drive.google.com/drive/folders/1bskNgDJ74j1IDedrAujJyc_dlZ1TJF1I?usp=sharing' -O data --folder\n",
        "\n",
        "# Install packages\n",
        "!pip install torchview hiddenlayer"
      ],
      "metadata": {
        "colab": {
          "base_uri": "https://localhost:8080/"
        },
        "collapsed": true,
        "id": "P3NmBkbV9sv-",
        "outputId": "8bb1d938-b094-49aa-97e4-406bd26ae96f"
      },
      "execution_count": null,
      "outputs": [
        {
          "output_type": "stream",
          "name": "stdout",
          "text": [
            "Retrieving folder contents\n",
            "Processing file 1iiBGOcG-NPdfovblQAI7SeFsNnbnFb2F movies.csv\n",
            "Processing file 1BrjrgkDfUXcRK0VaVRfAphwVBpyDY5oA ner.csv\n",
            "Retrieving folder contents completed\n",
            "Building directory structure\n",
            "Building directory structure completed\n",
            "Downloading...\n",
            "From: https://drive.google.com/uc?id=1iiBGOcG-NPdfovblQAI7SeFsNnbnFb2F\n",
            "To: /content/data/movies.csv\n",
            "100% 81.2M/81.2M [00:01<00:00, 80.0MB/s]\n",
            "Downloading...\n",
            "From: https://drive.google.com/uc?id=1BrjrgkDfUXcRK0VaVRfAphwVBpyDY5oA\n",
            "To: /content/data/ner.csv\n",
            "100% 13.7M/13.7M [00:00<00:00, 24.6MB/s]\n",
            "Download completed\n",
            "Collecting torchview\n",
            "  Downloading torchview-0.2.6-py3-none-any.whl.metadata (12 kB)\n",
            "Collecting hiddenlayer\n",
            "  Downloading hiddenlayer-0.3-py3-none-any.whl.metadata (703 bytes)\n",
            "Downloading torchview-0.2.6-py3-none-any.whl (25 kB)\n",
            "Downloading hiddenlayer-0.3-py3-none-any.whl (19 kB)\n",
            "Installing collected packages: hiddenlayer, torchview\n",
            "Successfully installed hiddenlayer-0.3 torchview-0.2.6\n"
          ]
        }
      ]
    },
    {
      "cell_type": "markdown",
      "metadata": {
        "id": "C0O1CI79SyHB"
      },
      "source": [
        "---\n",
        "## **1 - Introduction to PyTorch** 📝\n",
        "---"
      ]
    },
    {
      "cell_type": "markdown",
      "metadata": {
        "id": "VN6la6Zhy0Fd"
      },
      "source": [
        "There are many deep learning libraries in Python. You might have heard of TensorFlow, Keras or Flax/Linen/Haiku. In this lab, we use PyTorch, because it's probably the most widely used in industry and research.\n",
        "\n"
      ]
    },
    {
      "cell_type": "markdown",
      "metadata": {
        "id": "lkHEqomJUI6p"
      },
      "source": [
        "---\n",
        "\n",
        "### **1.1 - Tensors**\n",
        "\n",
        "In PyTorch, data is represented as *tensors*. Tensors resemble n-dimensional NumPy arrays, but they are a) compatible with GPUs and b) can be used in backpropagation."
      ]
    },
    {
      "cell_type": "markdown",
      "source": [
        "To create tensors, we need to import the Pytorch library, `torch`.\n",
        "In the cell below we create 4 tensors with different shapes.\n",
        "The shape of tensor `x` can be found by calling `x.size()` or `x.shape`."
      ],
      "metadata": {
        "id": "OGHA82YPxHdv"
      }
    },
    {
      "cell_type": "code",
      "execution_count": null,
      "metadata": {
        "colab": {
          "base_uri": "https://localhost:8080/"
        },
        "id": "Rtg3NishU72u",
        "outputId": "2fd96417-82f9-41fe-805d-dda85fc0dbc7"
      },
      "outputs": [
        {
          "output_type": "stream",
          "name": "stdout",
          "text": [
            "a =  tensor(7)\n",
            "b =  tensor([5.3000, 2.3000, 1.5000, 2.0000, 3.1000])\n",
            "c =  tensor([[10,  2,  4],\n",
            "        [ 5,  2, 10]])\n",
            "d =  tensor([[[10,  2],\n",
            "         [ 5,  2]],\n",
            "\n",
            "        [[ 3,  1],\n",
            "         [15,  8]]])\n"
          ]
        }
      ],
      "source": [
        "import torch\n",
        "\n",
        "# 0-dimensional tensor (scalar)\n",
        "a = torch.tensor(7)\n",
        "# 1-dimensional tensor (vector)\n",
        "b = torch.tensor([5.3, 2.3, 1.5, 2.0, 3.1])\n",
        "# 2-dimensional tensor (matrix)\n",
        "c = torch.tensor(\n",
        "    [[10, 2, 4],\n",
        "     [5, 2, 10]],\n",
        ")\n",
        "# 3-dimensional tensor\n",
        "d = torch.tensor(\n",
        "    [\n",
        "        [[10, 2], [5, 2]],\n",
        "        [[3, 1], [15, 8]],\n",
        "    ],\n",
        ")\n",
        "\n",
        "print('a = ', a)\n",
        "print('b = ', b)\n",
        "print('c = ', c)\n",
        "print('d = ', d)"
      ]
    },
    {
      "cell_type": "code",
      "execution_count": null,
      "metadata": {
        "colab": {
          "base_uri": "https://localhost:8080/"
        },
        "id": "SYIzNIC-Vl20",
        "outputId": "24e3bb24-dd5e-4770-d216-00ef61f2ed6c"
      },
      "outputs": [
        {
          "output_type": "stream",
          "name": "stdout",
          "text": [
            "Size of a is: torch.Size([])\n",
            "Size of b is: torch.Size([5])\n",
            "Size of c is: torch.Size([2, 3])\n",
            "Size of d is: torch.Size([2, 2, 2])\n",
            "the first element of the size of d is:  2\n",
            "the first element of the size of d is:  2\n",
            "Size of d is: torch.Size([2, 2, 2])\n"
          ]
        }
      ],
      "source": [
        "# Getting the size of each tensor\n",
        "a_size = a.size()\n",
        "b_size = b.size()\n",
        "c_size = c.size()\n",
        "d_size = d.size()\n",
        "\n",
        "print('Size of a is:', a_size)\n",
        "print('Size of b is:', b_size)\n",
        "print('Size of c is:', c_size)\n",
        "print('Size of d is:', d_size)\n",
        "\n",
        "# The size of a tensor along a particular axis can be accessed directly,\n",
        "# either by calling size() at a particular index or indexing the resulting object\n",
        "print('the first element of the size of d is: ', d.size(1))\n",
        "# OR\n",
        "print('the first element of the size of d is: ', d_size[1])\n",
        "\n",
        "# You can also use .shape to get the tensor's size\n",
        "# Note: shape is a *property* and size is a *method*\n",
        "# which means that their syntax is different:\n",
        "#       x.size()        # Correct\n",
        "#       x.shape         # Correct\n",
        "#       x.shape()       # Incorrect\n",
        "print(\"Size of d is:\", d.shape)"
      ]
    },
    {
      "cell_type": "markdown",
      "metadata": {
        "id": "MxkZ5GVKYu8e"
      },
      "source": [
        "Just like in NumPy, PyTorch tensors also have *types*, reflecting the precision they are stored as in memory.\n",
        "\n",
        "Some common types are:\n",
        "*   `torch.float64` (double precision)\n",
        "*   `torch.float32` (single precision)\n",
        "*   `torch.bool` (boolean values)\n",
        "*   `torch.int32` (integers)\n",
        "\n",
        "Tensor types need to match when doing calculations with them. If you get errors about a type mismatch, you might need to set the dtype of your tensor.\n",
        "To cast tensors to different types, use `.to(dtype=...)`."
      ]
    },
    {
      "cell_type": "code",
      "execution_count": null,
      "metadata": {
        "colab": {
          "base_uri": "https://localhost:8080/"
        },
        "id": "zL84N0JOVmNL",
        "outputId": "1781da56-feaa-4e73-e249-d5ebd8c68b07"
      },
      "outputs": [
        {
          "output_type": "stream",
          "name": "stdout",
          "text": [
            "Type of 'a' is: torch.int64\n",
            "Type of 'b' is: torch.float32\n",
            "Type of 'a_as_float32' is torch.float32\n",
            "Type of 'a' is still torch.int64\n",
            "Type of 'a' after declaring the type torch.float64\n"
          ]
        }
      ],
      "source": [
        "# Checking the Tensor type\n",
        "print(\"Type of 'a' is:\", a.dtype)\n",
        "print(\"Type of 'b' is:\", b.dtype)\n",
        "\n",
        "# Casting the tensor to another type\n",
        "a_as_float32 = a.to(dtype=torch.float32)\n",
        "print(\"Type of 'a_as_float32' is\", a_as_float32.dtype)\n",
        "# Notice the original tensor type does not change\n",
        "print(\"Type of 'a' is still\", a.dtype)\n",
        "\n",
        "# The tensor type can also be declared during the creation of the tensor\n",
        "a = torch.tensor(7 , dtype=torch.double)\n",
        "print(\"Type of 'a' after declaring the type\", a.dtype)\n"
      ]
    },
    {
      "cell_type": "markdown",
      "metadata": {
        "id": "_fka1qN_b6Zd"
      },
      "source": [
        "PyTorch tensors can be constructed from a NumPy array, and converted back into NumPy arrays. This is often useful when saving or loading data."
      ]
    },
    {
      "cell_type": "code",
      "execution_count": null,
      "metadata": {
        "colab": {
          "base_uri": "https://localhost:8080/"
        },
        "id": "rGPjVizCVmqH",
        "outputId": "7c8fdb73-7c4d-4c2e-e8a3-4fe46ff7180f"
      },
      "outputs": [
        {
          "output_type": "stream",
          "name": "stdout",
          "text": [
            "x_numpy =  [[ 0.18374883  1.59862491]\n",
            " [ 1.83418503 -0.23981989]]\n",
            "creating a tensor from x_numpy =  tensor([[ 0.1837,  1.5986],\n",
            "        [ 1.8342, -0.2398]], dtype=torch.float64)\n",
            "Type of x_numpy is:  <class 'numpy.ndarray'>\n",
            "Type of x_torch is:  <class 'torch.Tensor'>\n",
            "Type of x_torch converted back to numpy is:  <class 'numpy.ndarray'>\n"
          ]
        }
      ],
      "source": [
        "import numpy as np\n",
        "\n",
        "x_numpy = np.random.randn(2,2)\n",
        "print(f'x_numpy = ', x_numpy)\n",
        "x_torch = torch.tensor(x_numpy)\n",
        "print(f'creating a tensor from x_numpy = ',x_torch)\n",
        "x_torch_to_numpy = x_torch.numpy()\n",
        "\n",
        "# Checking the type:\n",
        "print(f'Type of x_numpy is: ', type(x_numpy))\n",
        "print(f'Type of x_torch is: ', type(x_torch))\n",
        "print(f'Type of x_torch converted back to numpy is: ', type(x_torch_to_numpy))\n"
      ]
    },
    {
      "cell_type": "markdown",
      "source": [
        "---\n",
        "### **1.2 - Automatic differentiation 📝**\n",
        "\n",
        "Everything we've seen so far should be broadly familiar from NumPy. The part that makes PyTorch tensors special is their ability to keep track of gradient information."
      ],
      "metadata": {
        "id": "h_iSI_-vX5JQ"
      }
    },
    {
      "cell_type": "markdown",
      "source": [
        " In order to be able to compute gradients for a tensor, it must be constructed with `requires_grad=True`.\n",
        "\n",
        "For deep learning, the gradient we're most interested in is the gradient of the *loss* with respect to the *parameters*. This is what is used in backpropagation. We'll run through an example below.\n",
        "\n",
        "Consider a simple linear model,\n",
        "$$\n",
        "\\mathbf{y} = \\mathbf{W} \\mathbf{x} + \\mathbf{b},\n",
        "$$\n",
        "where $\\mathbf{y} \\in \\mathbb{R}^m$, $\\mathbf{x} \\in \\mathbb{R}^n$, $\\mathbf{W} \\in \\mathbb{R}^{m \\times n}$, and $\\mathbf{b} \\in \\mathbb{R}^m$.\n",
        "The parameters of this model are the *weights*, $\\mathbf{W}$, and the *bias* (or offset) $\\mathbf{b}$."
      ],
      "metadata": {
        "id": "fhHK4kHIwkIv"
      }
    },
    {
      "cell_type": "code",
      "source": [
        "# Define an example input-output pair\n",
        "x = torch.tensor([1., 3., 10.])\n",
        "y = torch.tensor([15., 8.])\n",
        "\n",
        "input_dim = x.shape[0]\n",
        "output_dim = y.shape[0]\n",
        "\n",
        "# Initialise the parameters randomly\n",
        "# BUT keep track of their gradients\n",
        "torch.manual_seed(0) # We set a fixed random seed for reproducibility\n",
        "W = torch.randn(output_dim, input_dim, requires_grad=True)\n",
        "b = torch.randn(output_dim, requires_grad=True)\n",
        "z = W @ x + b\n",
        "z"
      ],
      "metadata": {
        "id": "vkSpalwjcM5c",
        "colab": {
          "base_uri": "https://localhost:8080/"
        },
        "outputId": "90c3bdc4-3e29-4f85-acc8-50970d78142d"
      },
      "execution_count": null,
      "outputs": [
        {
          "output_type": "execute_result",
          "data": {
            "text/plain": [
              "tensor([-20.7238, -15.8331], grad_fn=<AddBackward0>)"
            ]
          },
          "metadata": {},
          "execution_count": 6
        }
      ]
    },
    {
      "cell_type": "markdown",
      "source": [
        "Note that because we set `requires_grad=True` on the parameters $\\mathbf{W}$ and $\\mathbf{b}$, the output of our model has a `grad_fun` attribute. This denotes the last operation in the sequence of operations that were performed to get this tensor. Behind the scenes, the whole computational tree corresponding to the operations is stored, which is what is needed for autodiff.\n",
        "\n",
        "If we want to fit this model, we might want to minimise the sum of squared errors between our true data and the output of our model."
      ],
      "metadata": {
        "id": "XBg71BtNg62O"
      }
    },
    {
      "cell_type": "code",
      "source": [
        "loss = torch.sum((z - y)**2)\n",
        "loss"
      ],
      "metadata": {
        "colab": {
          "base_uri": "https://localhost:8080/"
        },
        "id": "raD2x57qeR8d",
        "outputId": "f0ed44a2-d492-43cc-d3ad-aaec8d1fe5c2"
      },
      "execution_count": null,
      "outputs": [
        {
          "output_type": "execute_result",
          "data": {
            "text/plain": [
              "tensor(1844.2075, grad_fn=<SumBackward0>)"
            ]
          },
          "metadata": {},
          "execution_count": 7
        }
      ]
    },
    {
      "cell_type": "markdown",
      "source": [
        "Note that because the output `z` had `requires_grad=True`, the loss also has a `grad_fun` attribute, showing that PyTorch has been keeping track of the computational graph.\n",
        "\n",
        "Now we have a loss and some parameters, we can compute the gradients!\n",
        "To do so, we call `.backward()` on the loss function. This instructs PyTorch to perform the backwards pass through the computational tree, updating the gradient information as it goes.\n",
        "\n",
        "Once `loss.backward()` is called, the gradients of every tensor in the tree that has `requires_grad=True` with respect to the loss can be found by accessing their `.grad` attribute. For example,\n",
        "$$\n",
        "\\mathtt{b.grad} = \\begin{bmatrix} \\frac{\\partial{L}}{\\partial b_1} \\\\ \\frac{\\partial{L}}{\\partial b_2}\\end{bmatrix}.\n",
        "$$"
      ],
      "metadata": {
        "id": "SXAPcORthsBN"
      }
    },
    {
      "cell_type": "code",
      "source": [
        "loss.backward()\n",
        "print(W.grad)\n",
        "print(b.grad)"
      ],
      "metadata": {
        "colab": {
          "base_uri": "https://localhost:8080/"
        },
        "id": "5MHoEuIUhrGv",
        "outputId": "df05ea56-ef89-448d-d392-225e3f47174a"
      },
      "execution_count": null,
      "outputs": [
        {
          "output_type": "stream",
          "name": "stdout",
          "text": [
            "tensor([[ -71.4477, -214.3430, -714.4768],\n",
            "        [ -47.6661, -142.9984, -476.6613]])\n",
            "tensor([-71.4477, -47.6661])\n"
          ]
        }
      ]
    },
    {
      "cell_type": "markdown",
      "source": [
        "📝 **What happens if we try and convert a tensor that is attached to the computational graph to a NumPy array?**"
      ],
      "metadata": {
        "id": "sVF21RIKxilk"
      }
    },
    {
      "cell_type": "code",
      "source": [
        "# TODO: get the numpy version of the W tensor\n",
        "# ...\n",
        "#W.numpy()"
      ],
      "metadata": {
        "id": "HUFSSElAxwmR"
      },
      "execution_count": null,
      "outputs": []
    },
    {
      "cell_type": "markdown",
      "source": [
        "PyTorch provides an informative error. As NumPy arrays do not store gradients, tensors with gradient information must first be detached from the computational graph - losing their gradient information - before being converted."
      ],
      "metadata": {
        "id": "M5cWSQbEyuTo"
      }
    },
    {
      "cell_type": "markdown",
      "source": [
        "---\n",
        "\n",
        "### **1.3 - Models**\n",
        "\n",
        "In PyTorch, models are defined by subclassing `torch.nn.Module`.\n",
        "PyTorch Modules must have:\n",
        "- An `__init__` constructor\n",
        "- A `forward` method that represents the evaluation of the model on an input\n",
        "- Anything that you want to treat as a model parameter defined in `__init__` as a tensor wrapped with `nn.Parameter`.\n",
        "\n",
        "Below, we implement the simple linear model from the previous section as a `torch.nn.Module`."
      ],
      "metadata": {
        "id": "oBkMV3VaYbAP"
      }
    },
    {
      "cell_type": "code",
      "source": [
        "import torch.nn as nn\n",
        "\n",
        "class LinearModel(nn.Module):\n",
        "  def __init__(self, input_dim: int, output_dim: int):\n",
        "    # Initialise the parent class\n",
        "    super().__init__()\n",
        "    # Initialise the parameters\n",
        "    self.weight = nn.Parameter(\n",
        "        torch.randn((output_dim, input_dim), requires_grad=True)\n",
        "      )\n",
        "    self.bias = nn.Parameter(\n",
        "        torch.randn((output_dim,), requires_grad=True)\n",
        "    )\n",
        "\n",
        "  def forward(self, x):\n",
        "    return self.weight @ x + self.bias\n",
        "\n",
        "\n",
        "# Reset the random seed to what it was earlier\n",
        "torch.manual_seed(0)\n",
        "# Create an instance of our module\n",
        "linear_model = LinearModel(input_dim, output_dim)\n",
        "\n",
        "# To evaluate the model, we just use the .__call__() method\n",
        "# (ie treat the class like a function)\n",
        "# .__call__() is a wrapper around .forward(), with some extra processing that we\n",
        "# don't need to worry about for now\n",
        "output = linear_model(x)\n",
        "assert torch.all(output == z)"
      ],
      "metadata": {
        "id": "nAhau45ZmBIR"
      },
      "execution_count": null,
      "outputs": []
    },
    {
      "cell_type": "markdown",
      "source": [
        "As neural networks are the basic building block of deep learning, PyTorch has many neural network components predefined as `nn.Module`s.\n",
        "\n",
        "In fact, the linear model we've been using so far has a predefined equivalent: `nn.Linear`."
      ],
      "metadata": {
        "id": "scuQHnIjmVWX"
      }
    },
    {
      "cell_type": "code",
      "source": [
        "default_linear_model = nn.Linear(in_features=input_dim, out_features=output_dim)\n",
        "\n",
        "\n",
        "print(\"W (default_linear_model) = \", default_linear_model.weight)\n",
        "print(\"W (linear_model) = \", linear_model.weight)\n",
        "print(\"\")\n",
        "print(\"b (default_linear_model) = \", default_linear_model.bias)\n",
        "print(\"b (linear_model) = \", linear_model.bias)"
      ],
      "metadata": {
        "colab": {
          "base_uri": "https://localhost:8080/"
        },
        "id": "MCplOkZ5HMWQ",
        "outputId": "f9990dc0-1d79-4089-d88c-463fff6e31d8"
      },
      "execution_count": null,
      "outputs": [
        {
          "output_type": "stream",
          "name": "stdout",
          "text": [
            "W (default_linear_model) =  Parameter containing:\n",
            "tensor([[ 0.2282,  0.3464, -0.3914],\n",
            "        [-0.2514,  0.2097,  0.4794]], requires_grad=True)\n",
            "W (linear_model) =  Parameter containing:\n",
            "tensor([[ 1.5410, -0.2934, -2.1788],\n",
            "        [ 0.5684, -1.0845, -1.3986]], requires_grad=True)\n",
            "\n",
            "b (default_linear_model) =  Parameter containing:\n",
            "tensor([-0.1188,  0.4320], requires_grad=True)\n",
            "b (linear_model) =  Parameter containing:\n",
            "tensor([0.4033, 0.8380], requires_grad=True)\n"
          ]
        }
      ]
    },
    {
      "cell_type": "markdown",
      "source": [
        "Although the exact values are different, we can see that the parameters have the same shape and `requires_grad` as before.\n",
        "\n",
        "*Aside: the initialisation of the parameters in `nn.Linear` is handled internally, which is why the values are different to what we had in our manual implementation (this would be the case even if we reseeded the RNG before instantiating the class - try it and see). If you're interested, have a look at the [PyTorch source code](https://pytorch.org/docs/stable/_modules/torch/nn/modules/linear.html#Linear) for more details.*"
      ],
      "metadata": {
        "id": "skZwS-90KM-A"
      }
    },
    {
      "cell_type": "markdown",
      "metadata": {
        "id": "xJs01ibly-bd"
      },
      "source": [
        "---\n",
        "\n",
        "### **1.4 - Training 📝**\n",
        "\n",
        "Having defined a `nn.Module` representing our model, we will now use PyTorch's autodifferentiation and backpropagation capabilities to fit the parameters.\n",
        "\n",
        "To begin, we first generate our data."
      ]
    },
    {
      "cell_type": "code",
      "execution_count": null,
      "metadata": {
        "id": "Ngs24d0w4ur8"
      },
      "outputs": [],
      "source": [
        "true_W = torch.tensor([[1., 0., -1.], [0.5, 0.5, 0.5]])\n",
        "true_b = torch.tensor([0.5, -0.5])\n",
        "\n",
        "n_training_samples = 20\n",
        "n_test_samples = 10\n",
        "x_train = torch.rand((n_training_samples, input_dim))\n",
        "x_test = torch.rand((n_test_samples, input_dim))\n",
        "# Because we now have a *batch* of x inputs, we need to do some manipulation\n",
        "# to ensure the dimensions of the matrices align correctly\n",
        "y_train = (true_W @ x_train.T).T + true_b\n",
        "y_test = (true_W @ x_test.T).T + true_b"
      ]
    },
    {
      "cell_type": "markdown",
      "metadata": {
        "id": "fqi91eUyT59O"
      },
      "source": [
        "📝 **Using what you have already learned this session, fill in the gaps in the training loop below**."
      ]
    },
    {
      "cell_type": "code",
      "source": [
        "from tqdm import tqdm  # Used to display the progress bar\n",
        "import matplotlib.pyplot as plt # Used to plot the loss\n",
        "\n",
        "n_epochs = 50\n",
        "learning_rate = 1\n",
        "optimiser = torch.optim.SGD(default_linear_model.parameters(), lr=learning_rate)\n",
        "\n",
        "train_losses = torch.empty(n_epochs)\n",
        "test_losses = torch.empty(n_epochs)\n",
        "\n",
        "for i in tqdm(range(n_epochs)):\n",
        "  # Zero all the gradients of the parameters\n",
        "  # This ensures that the gradients aren't computed cumulatively\n",
        "  optimiser.zero_grad()\n",
        "\n",
        "  # TODO: Evaluate `default_linear_model` on the training data\n",
        "  # ...\n",
        "  model_output_train = default_linear_model(x_train)\n",
        "\n",
        "  # TODO: Compute the mean squared error (MSE) between the model output and the y_train values\n",
        "  # ...\n",
        "  train_loss = torch.mean((y_train - model_output_train)**2)\n",
        "\n",
        "  # TODO: Compute the MSE on the test set\n",
        "  # ...\n",
        "  model_output_test = default_linear_model(x_test)\n",
        "  test_loss = torch.mean((y_test - model_output_test)**2)\n",
        "\n",
        "  # TODO: perform backpropagation step to compute the gradients of the MSE w.r.t the parameters\n",
        "  # ...\n",
        "  train_loss.backward()\n",
        "\n",
        "  # Call the optimiser\n",
        "  # This uses the computed gradients from backprop to adjust the model parameters\n",
        "  optimiser.step()\n",
        "\n",
        "  # TODO: Save the losses from this step\n",
        "  # ...\n",
        "  train_losses[i] = train_loss\n",
        "  test_losses[i] = test_loss"
      ],
      "metadata": {
        "colab": {
          "base_uri": "https://localhost:8080/"
        },
        "id": "Z7hBc891R8rG",
        "outputId": "767fcd7b-498e-42fb-b60a-20cafbada369"
      },
      "execution_count": null,
      "outputs": [
        {
          "output_type": "stream",
          "name": "stderr",
          "text": [
            "100%|██████████| 50/50 [00:00<00:00, 1089.05it/s]\n"
          ]
        }
      ]
    },
    {
      "cell_type": "markdown",
      "source": [
        "📝 **Plot the training and test loss curves using `matplotlib`.**"
      ],
      "metadata": {
        "id": "W3UDg2Z40BJv"
      }
    },
    {
      "cell_type": "code",
      "source": [
        "import matplotlib.pyplot as plt\n",
        "\n",
        "# TODO: Plot the training and test loss curves\n",
        "# ...\n",
        "plt.plot(torch.arange(n_epochs), train_losses.detach().numpy(), label=\"Train\")\n",
        "plt.plot(torch.arange(n_epochs), test_losses.detach().numpy(), label=\"Test\")\n",
        "plt.xlabel(\"Epoch\")\n",
        "plt.ylabel(\"Loss\")\n",
        "plt.legend()\n",
        "plt.show()"
      ],
      "metadata": {
        "id": "bEGxvh4xBs29",
        "colab": {
          "base_uri": "https://localhost:8080/"
        },
        "outputId": "9e435f1a-2b74-4de4-fbf9-6eac9e8f2efd"
      },
      "execution_count": null,
      "outputs": [
        {
          "output_type": "display_data",
          "data": {
            "text/plain": [
              "<Figure size 640x480 with 1 Axes>"
            ],
            "image/png": "[encoded data removed]"
          },
          "metadata": {}
        }
      ]
    },
    {
      "cell_type": "markdown",
      "source": [
        "We can see that the training has converged, and the parameters of the model have indeed approached the true values:"
      ],
      "metadata": {
        "id": "g4Q6FehDYffm"
      }
    },
    {
      "cell_type": "code",
      "source": [
        "list(default_linear_model.named_parameters())"
      ],
      "metadata": {
        "colab": {
          "base_uri": "https://localhost:8080/"
        },
        "id": "DewpYZrBXlFo",
        "outputId": "89429e34-a3ec-46a6-f42a-82bd3010d0cf"
      },
      "execution_count": null,
      "outputs": [
        {
          "output_type": "execute_result",
          "data": {
            "text/plain": [
              "[('weight',\n",
              "  Parameter containing:\n",
              "  tensor([[ 1.0033,  0.0062, -0.9986],\n",
              "          [ 0.4490,  0.4982,  0.4665]], requires_grad=True)),\n",
              " ('bias',\n",
              "  Parameter containing:\n",
              "  tensor([ 0.4939, -0.4543], requires_grad=True))]"
            ]
          },
          "metadata": {},
          "execution_count": 15
        }
      ]
    },
    {
      "cell_type": "markdown",
      "source": [
        "---\n",
        "### **1.5 Implementing an LSTM 📝**\n",
        "\n",
        "Your task is now to implement a Long Short-Term Memory (LSTM) network as a `nn.Module`. We will use this network for the remainder of the lab.\n",
        "\n",
        "LSTMs are a type of recurrent neural network (RNN) used in sequence prediction problems.\n",
        "The LSTM architecture addresses the issue of vanishing gradients in conventional RNNs by adding an additional state, the *memory* (which stores information across many time steps) and additional operations called *gates* (which permit selective preservation or removal of information from memory at each step).\n"
      ],
      "metadata": {
        "id": "LC_-3lRL8kp9"
      }
    },
    {
      "cell_type": "markdown",
      "source": [
        "![lstm.png](data:image/png;base64,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)\n",
        "\n",
        "*(Image source: [Samina Amin, Medium](https://medium.com/@samina.amin/understanding-lstms-lstm-implementation-from-scratch-18965a150eca))*"
      ],
      "metadata": {
        "id": "zDmUcUuoJkjV"
      }
    },
    {
      "cell_type": "markdown",
      "source": [
        "LSTMs can be used for various sequence modelling problems, such as time series forecasting, speech recognition, and stock price prediction. As we will be using our LSTM for NLP, we will need to add an input embedding layer to represent words as real-valued vectors. We will also add an output linear plus softmax layer, to convert the outputs into probabilities.\n",
        "\n",
        "📝 **In the next cell, implement a `nn.Module` for an LSTM.\n",
        "Your implementation must meet the following criteria:**\n",
        "\n",
        "- The class must be called `WordClassifierLSTM`.\n",
        "- The constructor should take five arguments (not including `self`):\n",
        "  - `num_hidden_layers`: an int, setting the number of layers within the LSTM.\n",
        "  - `hidden_dim`: an `int`, setting the size of the LSTM layers.\n",
        "  - `output_dim`: an `int`, setting the size of the model output.\n",
        "  - `num_embeddings`: an int, setting the number of words that can be represented by the embedding layer.\n",
        "  - `embedding_dim`: an int, setting the dimensionality of the embedding space.\n",
        "- In the constructor, you should define the following:\n",
        "  - `self.embedding`: a `nn.Embedding` object, with `num_embeddings` and `embedding_dim` (see [`nn.Embedding` docs](https://pytorch.org/docs/stable/generated/torch.nn.Embedding.html#torch.nn.Embedding.from_pretrained)).\n",
        "  - `self.lstm`: a `nn.LSTM` object with input dimension equal to `embedding_dim`, hidden dimension equal to `hidden_dim`, `num_hidden_layers` hidden layers, **and with `batch_first` set to True** (see [`nn.LSTM` docs](https://pytorch.org/docs/stable/generated/torch.nn.LSTM.html#torch.nn.LSTM)).\n",
        "  - An output layer, consisting of:\n",
        "    - `self.dense`: a `nn.Linear` object, going from the hidden dimension to the output dimension.\n",
        "    - `self.softmax`: an `nn.Softmax` object acting along on the last dimension of the data ([see `nn.Softmax` docs](https://pytorch.org/docs/stable/generated/torch.nn.Softmax.html#torch.nn.Softmax)).\n",
        "- In the `forward` method of the class, apply the layers in the following order: embedding, LSTM, dense, softmax.\n",
        "- ⚠️ **Note: Calling the `self.lstm` layer will return a tuple of outputs consisting of the output, hidden state, and memory state (as described in the [docs](https://pytorch.org/docs/stable/generated/torch.nn.LSTM.html#torch.nn.LSTM)). The correct way of applying our custom output layer is to apply the linear operation to the *output* of the LSTM. The hidden and memory states should be unused.**"
      ],
      "metadata": {
        "id": "_iXHo70jJcIh"
      }
    },
    {
      "cell_type": "code",
      "source": [
        "# TODO: Implement the WordClassifierLSTM nn.Module\n",
        "# ...\n",
        "class WordClassifierLSTM(nn.Module):\n",
        "    def __init__(self, num_hidden_layers, hidden_dim, output_dim, num_embeddings, embedding_dim):\n",
        "        super().__init__()\n",
        "        self.embedding = torch.nn.Embedding(num_embeddings, embedding_dim)\n",
        "        self.lstm = torch.nn.LSTM(input_size=embedding_dim, hidden_size=hidden_dim, batch_first=True, num_layers=num_hidden_layers)\n",
        "        self.dense = torch.nn.Linear(in_features=hidden_dim, out_features=output_dim)\n",
        "        self.softmax = torch.nn.Softmax(dim=-1)\n",
        "\n",
        "    def forward(self, x):\n",
        "        x = self.embedding(x)\n",
        "        x, _ = self.lstm(x)\n",
        "        x = self.dense(x)\n",
        "        x = self.softmax(x)\n",
        "        return x"
      ],
      "metadata": {
        "id": "KS9ZV7uT-vdh"
      },
      "execution_count": null,
      "outputs": []
    },
    {
      "cell_type": "markdown",
      "source": [
        "If you have implemented the LSTM correctly, the following tests should pass. Do not change the tests!"
      ],
      "metadata": {
        "id": "csT69sv0_bHN"
      }
    },
    {
      "cell_type": "code",
      "source": [
        "# Generate the data for the unit tests\n",
        "torch.manual_seed(42)\n",
        "test_hidden_dim = 3\n",
        "test_output_dim = 1\n",
        "test_lstm = WordClassifierLSTM(num_hidden_layers=1, hidden_dim=test_hidden_dim, output_dim=test_output_dim, num_embeddings=10, embedding_dim=1)\n",
        "test_input = torch.tensor([[0, 0], [1, 0], [1, 1]]) # A batch of test \"input sentences\"\n",
        "correct_test_input_embedding = torch.tensor(\n",
        "    [[[0.3367],\n",
        "      [0.3367]],\n",
        "     [[0.1288],\n",
        "      [0.3367]],\n",
        "     [[0.1288],\n",
        "      [0.1288]]],\n",
        ")\n",
        "correct_lstm_layer_output = torch.tensor(\n",
        "    [[[-0.0518, -0.1497, -0.2026],\n",
        "      [-0.0533, -0.2350, -0.2782]],\n",
        "     [[-0.0505, -0.1391, -0.2175],\n",
        "      [-0.0508, -0.2312, -0.2821]],\n",
        "     [[-0.0505, -0.1391, -0.2175],\n",
        "      [-0.0465, -0.2212, -0.3019]]],\n",
        ")\n",
        "correct_lstm_layer_hidden_state = torch.tensor(\n",
        "    [[[-0.0533, -0.2350, -0.2782],\n",
        "      [-0.0508, -0.2312, -0.2821],\n",
        "      [-0.0465, -0.2212, -0.3019]]],\n",
        ")\n",
        "correct_lstm_layer_memory_state = torch.tensor(\n",
        "    [[[-0.0925, -0.3989, -0.5663],\n",
        "      [-0.0880, -0.3926, -0.5729],\n",
        "      [-0.0767, -0.3920, -0.5893]]],\n",
        ")\n",
        "correct_dense_layer_output = torch.tensor(\n",
        "    [[[-0.3000],\n",
        "      [-0.3023]],\n",
        "     [[-0.2891],\n",
        "      [-0.2983]],\n",
        "     [[-0.2891],\n",
        "      [-0.2847]]],\n",
        ")\n",
        "correct_softmax_output = torch.tensor(\n",
        "    [[[1.],\n",
        "      [1.]],\n",
        "     [[1.],\n",
        "      [1.]],\n",
        "     [[1.],\n",
        "      [1.]]],\n",
        ")\n",
        "\n",
        "# Perform the unit tests\n",
        "assert torch.allclose(test_lstm.embedding(test_input), correct_test_input_embedding, rtol=1e-3), \"Error in embedding layer\"\n",
        "test_lstm_layer_output, (test_lstm_layer_hidden_state, test_lstm_layer_memory_state) = test_lstm.lstm(correct_test_input_embedding)\n",
        "assert torch.allclose(test_lstm_layer_output, correct_lstm_layer_output, rtol=1e-3), \"Error in LSTM layer\"\n",
        "assert torch.allclose(test_lstm_layer_hidden_state, correct_lstm_layer_hidden_state, rtol=1e-3), \"Error in LSTM layer\"\n",
        "assert torch.allclose(test_lstm_layer_memory_state, correct_lstm_layer_memory_state, rtol=1e-3), \"Error in LSTM layer\"\n",
        "assert torch.allclose(test_lstm.dense(correct_lstm_layer_output), correct_dense_layer_output, rtol=1e-3), \"Error in dense layer\"\n",
        "assert torch.allclose(test_lstm.softmax(correct_dense_layer_output), correct_softmax_output), \"Error in softmax layer\"\n",
        "assert torch.allclose(test_lstm(test_input), correct_softmax_output, rtol=1e-3), \"Error in .forward() method\""
      ],
      "metadata": {
        "id": "0d93pA4WQac_"
      },
      "execution_count": null,
      "outputs": []
    },
    {
      "cell_type": "markdown",
      "metadata": {
        "id": "xR4TzqTOnicJ"
      },
      "source": [
        "---\n",
        "## **2 - Named entity recognition** 📝\n",
        "---"
      ]
    },
    {
      "cell_type": "markdown",
      "source": [
        "Named Entity Recognition is the term for the identification of names of organisations, people, dates, and geographic locations in text. Today, NER is widely used in various fields to automate the information extraction process.\n"
      ],
      "metadata": {
        "id": "lb0-q6r280f7"
      }
    },
    {
      "cell_type": "markdown",
      "source": [
        "Below is an example of how a NER algorithm can highlight and extract particular entities from a given text document:"
      ],
      "metadata": {
        "id": "6fq8cM9-GO3w"
      }
    },
    {
      "cell_type": "markdown",
      "metadata": {
        "id": "Urdj2hOXoUNg"
      },
      "source": [
        "![image.png](data:image/png;base64,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)"
      ]
    },
    {
      "cell_type": "markdown",
      "metadata": {
        "id": "EAGf4jXEoWwG"
      },
      "source": [
        "Some example use-cases of NER are:\n",
        "\n",
        "- Online chatbots for businesses (e.g. understanding who they are talking to, identifying specific information such as delivery time, taxes etc)\n",
        "- Medical data gathering (e.g. determining the quantity and types of drugs used in treatment based on patient's medical records)\n",
        "- Document processing and classification (e.g. classifying news articles)"
      ]
    },
    {
      "cell_type": "markdown",
      "metadata": {
        "id": "yNPbzMIJbJNv"
      },
      "source": [
        "---\n",
        "### **2.1 - Data preprocessing 📝**\n",
        "\n",
        "In this section, we'll load data from a `.csv` file and prepare it for performing NER."
      ]
    },
    {
      "cell_type": "markdown",
      "metadata": {
        "id": "Dh_6mbAkbMnm"
      },
      "source": [
        "#### Loading the data\n",
        "\n"
      ]
    },
    {
      "cell_type": "code",
      "execution_count": null,
      "metadata": {
        "id": "pWZANZzAbQMf",
        "colab": {
          "base_uri": "https://localhost:8080/"
        },
        "outputId": "6dbaa43a-1ac7-41fa-8c78-447243724503"
      },
      "outputs": [
        {
          "output_type": "stream",
          "name": "stdout",
          "text": [
            "Original number of unique words: 35172\n",
            "Original number of unique tags: 17\n"
          ]
        }
      ],
      "source": [
        "import pandas as pd\n",
        "\n",
        "word_data = pd.read_csv(\"data/ner.csv\", encoding=\"unicode_escape\")\n",
        "word_data.head()\n",
        "\n",
        "n_words = len(word_data[\"Word\"].unique())\n",
        "n_tags = len(word_data[\"Tag\"].unique())\n",
        "print(\"Original number of unique words:\", n_words)\n",
        "print(\"Original number of unique tags:\", n_tags)"
      ]
    },
    {
      "cell_type": "markdown",
      "metadata": {
        "id": "2sUyDmN5bUwd"
      },
      "source": [
        "This dataset is a list of words from a news article.\n",
        "Each word is assigned a `POS` (part of speech) label.\n",
        "The column `Sentence #` displays the sentence number once and then prints NaN until the next sentence begins.\n",
        "The `Tag` column contains the labels we will use for training - in this case, the output of a named entity recognition algorithm."
      ]
    },
    {
      "cell_type": "code",
      "source": [
        "print(word_data[\"Tag\"].unique())"
      ],
      "metadata": {
        "colab": {
          "base_uri": "https://localhost:8080/"
        },
        "id": "7XkosHomJud3",
        "outputId": "cd4d8455-f768-4327-81fb-b8b350393f86"
      },
      "execution_count": null,
      "outputs": [
        {
          "output_type": "stream",
          "name": "stdout",
          "text": [
            "['O' 'B-geo' 'B-gpe' 'B-per' 'I-geo' 'B-org' 'I-org' 'B-tim' 'B-art'\n",
            " 'I-art' 'I-per' 'I-gpe' 'I-tim' 'B-nat' 'B-eve' 'I-eve' 'I-nat']\n"
          ]
        }
      ]
    },
    {
      "cell_type": "markdown",
      "source": [
        "The tags are from the **BIO Tagging Scheme**:\n",
        "\n",
        "    B- (Beginning): Indicates the beginning of a named entity.\n",
        "    I- (Inside): Indicates that the token is inside a named entity.\n",
        "    O (Outside): Indicates that the token is not part of any named entity.\n",
        "\n",
        "The scheme supports the following entity types:\n",
        "\n",
        "    geo (Geographical Entity): Locations such as countries, cities, mountains, etc.\n",
        "    gpe (Geopolitical Entity): Political entities like countries, states, or cities.\n",
        "    per (Person): Names of people.\n",
        "    org (Organization): Names of organizations, such as companies or institutions.\n",
        "    tim (Time Expression): Dates, times, or time-related words.\n",
        "    art (Artifact): Named objects such as books, songs, buildings, etc.\n",
        "    eve (Event): Named events like historical events, festivals, etc.\n",
        "    nat (Natural Phenomenon): Named natural entities like hurricanes, rivers,\n",
        "\n",
        "Examples:\n",
        "- Paris is beautiful = `B-geo`, `O`, `O`\n",
        "- Barack Obama was president = `B-per`, `I-per`, `O`, `O`\n",
        "- The United Kingdom is rainy = `O`, `B-gpe`, `I-gpe`, `O`, `O`"
      ],
      "metadata": {
        "id": "C5EFG5V4Noes"
      }
    },
    {
      "cell_type": "markdown",
      "source": [
        "#### Standardising the data 📝\n",
        "\n",
        "In this step, we remove entries in the dataset that are not useful for the NER task."
      ],
      "metadata": {
        "id": "bTPyXzJs1lC8"
      }
    },
    {
      "cell_type": "markdown",
      "source": [
        "Currently, the dataset contains tokens for punctuation (`.`, `,`, `\"`, etc). These will not be useful for NER, so we remove them to improve our NN's efficiency.\n",
        "\n",
        "📝 **In the next cell, modify the `word_data` dataframe by discarding any words that are just punctuation.**"
      ],
      "metadata": {
        "id": "iXnVFazL9Nu8"
      }
    },
    {
      "cell_type": "code",
      "source": [
        "import string\n",
        "\n",
        "# string.punctuation contains all the symbols we want to remove\n",
        "print(f\"Removing {string.punctuation}\")\n",
        "\n",
        "# TODO: Get rid of any 'words' that are just punctuation\n",
        "# ...\n",
        "word_is_not_punctuation = word_data[\"Word\"].map(lambda x: str(x) not in string.punctuation)\n",
        "word_data = word_data[word_is_not_punctuation]\n",
        "\n",
        "# Check the size has decreased\n",
        "n_words = len(word_data[\"Word\"].unique())\n",
        "print(\"Number of unique words (no punctuation):\", n_words)"
      ],
      "metadata": {
        "colab": {
          "base_uri": "https://localhost:8080/"
        },
        "id": "Mrdvq6Wx1j4A",
        "outputId": "77f26f48-727b-4f90-8312-ebd334b760bd"
      },
      "execution_count": null,
      "outputs": [
        {
          "output_type": "stream",
          "name": "stdout",
          "text": [
            "Removing !\"#$%&'()*+,-./:;<=>?@[\\]^_`{|}~\n",
            "Number of unique words (no punctuation): 35154\n"
          ]
        }
      ]
    },
    {
      "cell_type": "markdown",
      "source": [
        "You should end up with 35153 unique words.\n",
        "\n",
        "📝 **One standardisation technique that might be used in preprocessing data for NLP is to make all words the same case. This makes sure that the same word isn't stored as two separate words, such as `The` and `the`. Why might this be a bad idea for Named Entity Recognition?**"
      ],
      "metadata": {
        "id": "CmbeNGOU6BkR"
      }
    },
    {
      "cell_type": "code",
      "source": [
        "# TODO: Your answer here\n",
        "# ..."
      ],
      "metadata": {
        "id": "S6f0jFS5E9J9"
      },
      "execution_count": null,
      "outputs": []
    },
    {
      "cell_type": "markdown",
      "metadata": {
        "id": "akAxq5qDbZWm"
      },
      "source": [
        "#### Encoding as tensors 📝\n",
        "\n",
        "\n",
        "In order to do language tasks with neural networks, the input tokens and output tags must be represented as tensors.\n",
        "\n"
      ]
    },
    {
      "cell_type": "markdown",
      "source": [
        "📝 **In the cell below, implement:**\n",
        "- A dictionary, `token_to_i`, whose keys are the unique words from the `word_data` dataframe, and whose values are a unique integer for each word.\n",
        "- A dictionary, `i_to_token`, whose keys are the unique integers and whose values are the unique words.\n",
        "\n",
        "**Implement a similar mapping for tags to integers and vice versa.**\n",
        "\n",
        "\n"
      ],
      "metadata": {
        "id": "sNZ6_BP56hr2"
      }
    },
    {
      "cell_type": "code",
      "source": [
        "# TODO: Construct a mapping from tokens to integers\n",
        "# ...\n",
        "unique_words = word_data[\"Word\"].unique()\n",
        "token_to_i = {token: i for i, token in enumerate(unique_words)}\n",
        "\n",
        "# TODO: Construct a mapping from integers to tokens\n",
        "# ...\n",
        "i_to_token = {i: token for i, token in enumerate(unique_words)}\n",
        "\n",
        "# TODO: Construct a mapping from tags to integers\n",
        "# ...\n",
        "unique_tags = word_data[\"Tag\"].unique()\n",
        "tag_to_i = {tag: i for i, tag in enumerate(unique_tags)}\n",
        "\n",
        "# TODO: Construct a mapping from integers to tags\n",
        "# ...\n",
        "i_to_tag = {i: tag for i, tag in enumerate(unique_tags)}"
      ],
      "metadata": {
        "id": "OrzWVeiIKCbI"
      },
      "execution_count": null,
      "outputs": []
    },
    {
      "cell_type": "markdown",
      "source": [
        "We can use these dictionaries to convert sentences into integers:"
      ],
      "metadata": {
        "id": "P4hdqHCu57Jd"
      }
    },
    {
      "cell_type": "code",
      "source": [
        "sentence = \"The demonstrators are outside\".lower().split()\n",
        "sentence_as_int_sequence = [token_to_i[token] for token in sentence]\n",
        "print(f\"'{sentence}'  ---> {sentence_as_int_sequence}\")\n",
        "\n",
        "i_sequence = [10, 20, 30, 40, 50]\n",
        "sentence = ' '.join([i_to_token[i] for i in i_sequence])\n",
        "print(f\"{i_sequence} ---> '{sentence}'\")"
      ],
      "metadata": {
        "colab": {
          "base_uri": "https://localhost:8080/"
        },
        "id": "m76e1Edv4Crv",
        "outputId": "2dba123a-c7ae-4a5d-8896-0b7c366655e1"
      },
      "execution_count": null,
      "outputs": [
        {
          "output_type": "stream",
          "name": "stdout",
          "text": [
            "'['the', 'demonstrators', 'are', 'outside']'  ---> [9, 2, 177, 1482]\n",
            "[10, 20, 30, 40, 50] ---> 'war country with They marchers'\n"
          ]
        }
      ]
    },
    {
      "cell_type": "markdown",
      "source": [
        "We can use pandas' `map` function to apply the mapping across the whole dataset, generating new columns"
      ],
      "metadata": {
        "id": "ElOCqbCU6Auo"
      }
    },
    {
      "cell_type": "code",
      "source": [
        "word_data['word_i'] = word_data['Word'].map(token_to_i)\n",
        "word_data['tag_i'] = word_data['Tag'].map(tag_to_i)\n",
        "word_data.head()"
      ],
      "metadata": {
        "colab": {
          "base_uri": "https://localhost:8080/"
        },
        "id": "yCZY2QtC5_y0",
        "outputId": "efcfaebf-43c3-49a5-c17d-d49463ccd84b"
      },
      "execution_count": null,
      "outputs": [
        {
          "output_type": "execute_result",
          "data": {
            "text/plain": [
              "   Sentence #           Word  POS Tag  word_i  tag_i\n",
              "0         1.0      Thousands  NNS   O       0      0\n",
              "1         NaN             of   IN   O       1      0\n",
              "2         NaN  demonstrators  NNS   O       2      0\n",
              "3         NaN           have  VBP   O       3      0\n",
              "4         NaN        marched  VBN   O       4      0"
            ],
            "text/html": [
              "\n",
              "  <div id=\"df-18581980-daa9-4d0b-9701-fb1512dbf4d2\" class=\"colab-df-container\">\n",
              "    <div>\n",
              "<style scoped>\n",
              "    .dataframe tbody tr th:only-of-type {\n",
              "        vertical-align: middle;\n",
              "    }\n",
              "\n",
              "    .dataframe tbody tr th {\n",
              "        vertical-align: top;\n",
              "    }\n",
              "\n",
              "    .dataframe thead th {\n",
              "        text-align: right;\n",
              "    }\n",
              "</style>\n",
              "<table border=\"1\" class=\"dataframe\">\n",
              "  <thead>\n",
              "    <tr style=\"text-align: right;\">\n",
              "      <th></th>\n",
              "      <th>Sentence #</th>\n",
              "      <th>Word</th>\n",
              "      <th>POS</th>\n",
              "      <th>Tag</th>\n",
              "      <th>word_i</th>\n",
              "      <th>tag_i</th>\n",
              "    </tr>\n",
              "  </thead>\n",
              "  <tbody>\n",
              "    <tr>\n",
              "      <th>0</th>\n",
              "      <td>1.0</td>\n",
              "      <td>Thousands</td>\n",
              "      <td>NNS</td>\n",
              "      <td>O</td>\n",
              "      <td>0</td>\n",
              "      <td>0</td>\n",
              "    </tr>\n",
              "    <tr>\n",
              "      <th>1</th>\n",
              "      <td>NaN</td>\n",
              "      <td>of</td>\n",
              "      <td>IN</td>\n",
              "      <td>O</td>\n",
              "      <td>1</td>\n",
              "      <td>0</td>\n",
              "    </tr>\n",
              "    <tr>\n",
              "      <th>2</th>\n",
              "      <td>NaN</td>\n",
              "      <td>demonstrators</td>\n",
              "      <td>NNS</td>\n",
              "      <td>O</td>\n",
              "      <td>2</td>\n",
              "      <td>0</td>\n",
              "    </tr>\n",
              "    <tr>\n",
              "      <th>3</th>\n",
              "      <td>NaN</td>\n",
              "      <td>have</td>\n",
              "      <td>VBP</td>\n",
              "      <td>O</td>\n",
              "      <td>3</td>\n",
              "      <td>0</td>\n",
              "    </tr>\n",
              "    <tr>\n",
              "      <th>4</th>\n",
              "      <td>NaN</td>\n",
              "      <td>marched</td>\n",
              "      <td>VBN</td>\n",
              "      <td>O</td>\n",
              "      <td>4</td>\n",
              "      <td>0</td>\n",
              "    </tr>\n",
              "  </tbody>\n",
              "</table>\n",
              "</div>\n",
              "    <div class=\"colab-df-buttons\">\n",
              "\n",
              "  <div class=\"colab-df-container\">\n",
              "    <button class=\"colab-df-convert\" onclick=\"convertToInteractive('df-18581980-daa9-4d0b-9701-fb1512dbf4d2')\"\n",
              "            title=\"Convert this dataframe to an interactive table.\"\n",
              "            style=\"display:none;\">\n",
              "\n",
              "  <svg xmlns=\"http://www.w3.org/2000/svg\" height=\"24px\" viewBox=\"0 -960 960 960\">\n",
              "    <path d=\"M120-120v-720h720v720H120Zm60-500h600v-160H180v160Zm220 220h160v-160H400v160Zm0 220h160v-160H400v160ZM180-400h160v-160H180v160Zm440 0h160v-160H620v160ZM180-180h160v-160H180v160Zm440 0h160v-160H620v160Z\"/>\n",
              "  </svg>\n",
              "    </button>\n",
              "\n",
              "  <style>\n",
              "    .colab-df-container {\n",
              "      display:flex;\n",
              "      gap: 12px;\n",
              "    }\n",
              "\n",
              "    .colab-df-convert {\n",
              "      background-color: #E8F0FE;\n",
              "      border: none;\n",
              "      border-radius: 50%;\n",
              "      cursor: pointer;\n",
              "      display: none;\n",
              "      fill: #1967D2;\n",
              "      height: 32px;\n",
              "      padding: 0 0 0 0;\n",
              "      width: 32px;\n",
              "    }\n",
              "\n",
              "    .colab-df-convert:hover {\n",
              "      background-color: #E2EBFA;\n",
              "      box-shadow: 0px 1px 2px rgba(60, 64, 67, 0.3), 0px 1px 3px 1px rgba(60, 64, 67, 0.15);\n",
              "      fill: #174EA6;\n",
              "    }\n",
              "\n",
              "    .colab-df-buttons div {\n",
              "      margin-bottom: 4px;\n",
              "    }\n",
              "\n",
              "    [theme=dark] .colab-df-convert {\n",
              "      background-color: #3B4455;\n",
              "      fill: #D2E3FC;\n",
              "    }\n",
              "\n",
              "    [theme=dark] .colab-df-convert:hover {\n",
              "      background-color: #434B5C;\n",
              "      box-shadow: 0px 1px 3px 1px rgba(0, 0, 0, 0.15);\n",
              "      filter: drop-shadow(0px 1px 2px rgba(0, 0, 0, 0.3));\n",
              "      fill: #FFFFFF;\n",
              "    }\n",
              "  </style>\n",
              "\n",
              "    <script>\n",
              "      const buttonEl =\n",
              "        document.querySelector('#df-18581980-daa9-4d0b-9701-fb1512dbf4d2 button.colab-df-convert');\n",
              "      buttonEl.style.display =\n",
              "        google.colab.kernel.accessAllowed ? 'block' : 'none';\n",
              "\n",
              "      async function convertToInteractive(key) {\n",
              "        const element = document.querySelector('#df-18581980-daa9-4d0b-9701-fb1512dbf4d2');\n",
              "        const dataTable =\n",
              "          await google.colab.kernel.invokeFunction('convertToInteractive',\n",
              "                                                    [key], {});\n",
              "        if (!dataTable) return;\n",
              "\n",
              "        const docLinkHtml = 'Like what you see? Visit the ' +\n",
              "          '<a target=\"_blank\" href=https://colab.research.google.com/notebooks/data_table.ipynb>data table notebook</a>'\n",
              "          + ' to learn more about interactive tables.';\n",
              "        element.innerHTML = '';\n",
              "        dataTable['output_type'] = 'display_data';\n",
              "        await google.colab.output.renderOutput(dataTable, element);\n",
              "        const docLink = document.createElement('div');\n",
              "        docLink.innerHTML = docLinkHtml;\n",
              "        element.appendChild(docLink);\n",
              "      }\n",
              "    </script>\n",
              "  </div>\n",
              "\n",
              "\n",
              "<div id=\"df-64133bcd-310c-44d6-be8e-f1ba114792b6\">\n",
              "  <button class=\"colab-df-quickchart\" onclick=\"quickchart('df-64133bcd-310c-44d6-be8e-f1ba114792b6')\"\n",
              "            title=\"Suggest charts\"\n",
              "            style=\"display:none;\">\n",
              "\n",
              "<svg xmlns=\"http://www.w3.org/2000/svg\" height=\"24px\"viewBox=\"0 0 24 24\"\n",
              "     width=\"24px\">\n",
              "    <g>\n",
              "        <path d=\"M19 3H5c-1.1 0-2 .9-2 2v14c0 1.1.9 2 2 2h14c1.1 0 2-.9 2-2V5c0-1.1-.9-2-2-2zM9 17H7v-7h2v7zm4 0h-2V7h2v10zm4 0h-2v-4h2v4z\"/>\n",
              "    </g>\n",
              "</svg>\n",
              "  </button>\n",
              "\n",
              "<style>\n",
              "  .colab-df-quickchart {\n",
              "      --bg-color: #E8F0FE;\n",
              "      --fill-color: #1967D2;\n",
              "      --hover-bg-color: #E2EBFA;\n",
              "      --hover-fill-color: #174EA6;\n",
              "      --disabled-fill-color: #AAA;\n",
              "      --disabled-bg-color: #DDD;\n",
              "  }\n",
              "\n",
              "  [theme=dark] .colab-df-quickchart {\n",
              "      --bg-color: #3B4455;\n",
              "      --fill-color: #D2E3FC;\n",
              "      --hover-bg-color: #434B5C;\n",
              "      --hover-fill-color: #FFFFFF;\n",
              "      --disabled-bg-color: #3B4455;\n",
              "      --disabled-fill-color: #666;\n",
              "  }\n",
              "\n",
              "  .colab-df-quickchart {\n",
              "    background-color: var(--bg-color);\n",
              "    border: none;\n",
              "    border-radius: 50%;\n",
              "    cursor: pointer;\n",
              "    display: none;\n",
              "    fill: var(--fill-color);\n",
              "    height: 32px;\n",
              "    padding: 0;\n",
              "    width: 32px;\n",
              "  }\n",
              "\n",
              "  .colab-df-quickchart:hover {\n",
              "    background-color: var(--hover-bg-color);\n",
              "    box-shadow: 0 1px 2px rgba(60, 64, 67, 0.3), 0 1px 3px 1px rgba(60, 64, 67, 0.15);\n",
              "    fill: var(--button-hover-fill-color);\n",
              "  }\n",
              "\n",
              "  .colab-df-quickchart-complete:disabled,\n",
              "  .colab-df-quickchart-complete:disabled:hover {\n",
              "    background-color: var(--disabled-bg-color);\n",
              "    fill: var(--disabled-fill-color);\n",
              "    box-shadow: none;\n",
              "  }\n",
              "\n",
              "  .colab-df-spinner {\n",
              "    border: 2px solid var(--fill-color);\n",
              "    border-color: transparent;\n",
              "    border-bottom-color: var(--fill-color);\n",
              "    animation:\n",
              "      spin 1s steps(1) infinite;\n",
              "  }\n",
              "\n",
              "  @keyframes spin {\n",
              "    0% {\n",
              "      border-color: transparent;\n",
              "      border-bottom-color: var(--fill-color);\n",
              "      border-left-color: var(--fill-color);\n",
              "    }\n",
              "    20% {\n",
              "      border-color: transparent;\n",
              "      border-left-color: var(--fill-color);\n",
              "      border-top-color: var(--fill-color);\n",
              "    }\n",
              "    30% {\n",
              "      border-color: transparent;\n",
              "      border-left-color: var(--fill-color);\n",
              "      border-top-color: var(--fill-color);\n",
              "      border-right-color: var(--fill-color);\n",
              "    }\n",
              "    40% {\n",
              "      border-color: transparent;\n",
              "      border-right-color: var(--fill-color);\n",
              "      border-top-color: var(--fill-color);\n",
              "    }\n",
              "    60% {\n",
              "      border-color: transparent;\n",
              "      border-right-color: var(--fill-color);\n",
              "    }\n",
              "    80% {\n",
              "      border-color: transparent;\n",
              "      border-right-color: var(--fill-color);\n",
              "      border-bottom-color: var(--fill-color);\n",
              "    }\n",
              "    90% {\n",
              "      border-color: transparent;\n",
              "      border-bottom-color: var(--fill-color);\n",
              "    }\n",
              "  }\n",
              "</style>\n",
              "\n",
              "  <script>\n",
              "    async function quickchart(key) {\n",
              "      const quickchartButtonEl =\n",
              "        document.querySelector('#' + key + ' button');\n",
              "      quickchartButtonEl.disabled = true;  // To prevent multiple clicks.\n",
              "      quickchartButtonEl.classList.add('colab-df-spinner');\n",
              "      try {\n",
              "        const charts = await google.colab.kernel.invokeFunction(\n",
              "            'suggestCharts', [key], {});\n",
              "      } catch (error) {\n",
              "        console.error('Error during call to suggestCharts:', error);\n",
              "      }\n",
              "      quickchartButtonEl.classList.remove('colab-df-spinner');\n",
              "      quickchartButtonEl.classList.add('colab-df-quickchart-complete');\n",
              "    }\n",
              "    (() => {\n",
              "      let quickchartButtonEl =\n",
              "        document.querySelector('#df-64133bcd-310c-44d6-be8e-f1ba114792b6 button');\n",
              "      quickchartButtonEl.style.display =\n",
              "        google.colab.kernel.accessAllowed ? 'block' : 'none';\n",
              "    })();\n",
              "  </script>\n",
              "</div>\n",
              "\n",
              "    </div>\n",
              "  </div>\n"
            ],
            "application/vnd.google.colaboratory.intrinsic+json": {
              "type": "dataframe",
              "variable_name": "word_data"
            }
          },
          "metadata": {},
          "execution_count": 24
        }
      ]
    },
    {
      "cell_type": "markdown",
      "metadata": {
        "id": "2Yx8rpiLbn4h"
      },
      "source": [
        "#### Grouping into sentences\n",
        "\n",
        "In this step, we collect the rows back together to form sentences."
      ]
    },
    {
      "cell_type": "code",
      "execution_count": null,
      "metadata": {
        "id": "IoniaP4wbxgW",
        "colab": {
          "base_uri": "https://localhost:8080/"
        },
        "outputId": "c2012533-5a53-4a64-e6b2-14e063a92196"
      },
      "outputs": [
        {
          "output_type": "execute_result",
          "data": {
            "text/plain": [
              "                                       word_sequence  \\\n",
              "0  [Thousands, of, demonstrators, have, marched, ...   \n",
              "1  [Families, of, soldiers, killed, in, the, conf...   \n",
              "2  [They, marched, from, the, Houses, of, Parliam...   \n",
              "3  [Police, put, the, number, of, marchers, at, 1...   \n",
              "4  [The, protest, comes, on, the, eve, of, the, a...   \n",
              "\n",
              "                                        tag_sequence  \\\n",
              "0  [O, O, O, O, O, O, B-geo, O, O, O, O, O, B-geo...   \n",
              "1  [O, O, O, O, O, O, O, O, O, O, O, O, O, O, O, ...   \n",
              "2    [O, O, O, O, O, O, O, O, O, O, O, B-geo, I-geo]   \n",
              "3         [O, O, O, O, O, O, O, O, O, O, O, O, O, O]   \n",
              "4  [O, O, O, O, O, O, O, O, O, O, O, B-geo, O, O,...   \n",
              "\n",
              "                                     word_i_sequence  \\\n",
              "0  [0, 1, 2, 3, 4, 5, 6, 7, 8, 9, 10, 11, 12, 13,...   \n",
              "1  [21, 1, 22, 23, 11, 9, 24, 25, 9, 26, 27, 28, ...   \n",
              "2   [40, 4, 18, 9, 41, 1, 42, 7, 43, 44, 11, 45, 46]   \n",
              "3  [47, 48, 9, 49, 1, 50, 51, 52, 53, 54, 55, 56,...   \n",
              "4  [59, 8, 60, 61, 9, 62, 1, 9, 63, 64, 1, 65, 66...   \n",
              "\n",
              "                                      tag_i_sequence  \n",
              "0  [0, 0, 0, 0, 0, 0, 1, 0, 0, 0, 0, 0, 1, 0, 0, ...  \n",
              "1  [0, 0, 0, 0, 0, 0, 0, 0, 0, 0, 0, 0, 0, 0, 0, ...  \n",
              "2            [0, 0, 0, 0, 0, 0, 0, 0, 0, 0, 0, 1, 4]  \n",
              "3         [0, 0, 0, 0, 0, 0, 0, 0, 0, 0, 0, 0, 0, 0]  \n",
              "4  [0, 0, 0, 0, 0, 0, 0, 0, 0, 0, 0, 1, 0, 0, 5, ...  "
            ],
            "text/html": [
              "\n",
              "  <div id=\"df-7c70f9e5-8f1f-4c41-88a8-da68c14464c7\" class=\"colab-df-container\">\n",
              "    <div>\n",
              "<style scoped>\n",
              "    .dataframe tbody tr th:only-of-type {\n",
              "        vertical-align: middle;\n",
              "    }\n",
              "\n",
              "    .dataframe tbody tr th {\n",
              "        vertical-align: top;\n",
              "    }\n",
              "\n",
              "    .dataframe thead th {\n",
              "        text-align: right;\n",
              "    }\n",
              "</style>\n",
              "<table border=\"1\" class=\"dataframe\">\n",
              "  <thead>\n",
              "    <tr style=\"text-align: right;\">\n",
              "      <th></th>\n",
              "      <th>word_sequence</th>\n",
              "      <th>tag_sequence</th>\n",
              "      <th>word_i_sequence</th>\n",
              "      <th>tag_i_sequence</th>\n",
              "    </tr>\n",
              "  </thead>\n",
              "  <tbody>\n",
              "    <tr>\n",
              "      <th>0</th>\n",
              "      <td>[Thousands, of, demonstrators, have, marched, ...</td>\n",
              "      <td>[O, O, O, O, O, O, B-geo, O, O, O, O, O, B-geo...</td>\n",
              "      <td>[0, 1, 2, 3, 4, 5, 6, 7, 8, 9, 10, 11, 12, 13,...</td>\n",
              "      <td>[0, 0, 0, 0, 0, 0, 1, 0, 0, 0, 0, 0, 1, 0, 0, ...</td>\n",
              "    </tr>\n",
              "    <tr>\n",
              "      <th>1</th>\n",
              "      <td>[Families, of, soldiers, killed, in, the, conf...</td>\n",
              "      <td>[O, O, O, O, O, O, O, O, O, O, O, O, O, O, O, ...</td>\n",
              "      <td>[21, 1, 22, 23, 11, 9, 24, 25, 9, 26, 27, 28, ...</td>\n",
              "      <td>[0, 0, 0, 0, 0, 0, 0, 0, 0, 0, 0, 0, 0, 0, 0, ...</td>\n",
              "    </tr>\n",
              "    <tr>\n",
              "      <th>2</th>\n",
              "      <td>[They, marched, from, the, Houses, of, Parliam...</td>\n",
              "      <td>[O, O, O, O, O, O, O, O, O, O, O, B-geo, I-geo]</td>\n",
              "      <td>[40, 4, 18, 9, 41, 1, 42, 7, 43, 44, 11, 45, 46]</td>\n",
              "      <td>[0, 0, 0, 0, 0, 0, 0, 0, 0, 0, 0, 1, 4]</td>\n",
              "    </tr>\n",
              "    <tr>\n",
              "      <th>3</th>\n",
              "      <td>[Police, put, the, number, of, marchers, at, 1...</td>\n",
              "      <td>[O, O, O, O, O, O, O, O, O, O, O, O, O, O]</td>\n",
              "      <td>[47, 48, 9, 49, 1, 50, 51, 52, 53, 54, 55, 56,...</td>\n",
              "      <td>[0, 0, 0, 0, 0, 0, 0, 0, 0, 0, 0, 0, 0, 0]</td>\n",
              "    </tr>\n",
              "    <tr>\n",
              "      <th>4</th>\n",
              "      <td>[The, protest, comes, on, the, eve, of, the, a...</td>\n",
              "      <td>[O, O, O, O, O, O, O, O, O, O, O, B-geo, O, O,...</td>\n",
              "      <td>[59, 8, 60, 61, 9, 62, 1, 9, 63, 64, 1, 65, 66...</td>\n",
              "      <td>[0, 0, 0, 0, 0, 0, 0, 0, 0, 0, 0, 1, 0, 0, 5, ...</td>\n",
              "    </tr>\n",
              "  </tbody>\n",
              "</table>\n",
              "</div>\n",
              "    <div class=\"colab-df-buttons\">\n",
              "\n",
              "  <div class=\"colab-df-container\">\n",
              "    <button class=\"colab-df-convert\" onclick=\"convertToInteractive('df-7c70f9e5-8f1f-4c41-88a8-da68c14464c7')\"\n",
              "            title=\"Convert this dataframe to an interactive table.\"\n",
              "            style=\"display:none;\">\n",
              "\n",
              "  <svg xmlns=\"http://www.w3.org/2000/svg\" height=\"24px\" viewBox=\"0 -960 960 960\">\n",
              "    <path d=\"M120-120v-720h720v720H120Zm60-500h600v-160H180v160Zm220 220h160v-160H400v160Zm0 220h160v-160H400v160ZM180-400h160v-160H180v160Zm440 0h160v-160H620v160ZM180-180h160v-160H180v160Zm440 0h160v-160H620v160Z\"/>\n",
              "  </svg>\n",
              "    </button>\n",
              "\n",
              "  <style>\n",
              "    .colab-df-container {\n",
              "      display:flex;\n",
              "      gap: 12px;\n",
              "    }\n",
              "\n",
              "    .colab-df-convert {\n",
              "      background-color: #E8F0FE;\n",
              "      border: none;\n",
              "      border-radius: 50%;\n",
              "      cursor: pointer;\n",
              "      display: none;\n",
              "      fill: #1967D2;\n",
              "      height: 32px;\n",
              "      padding: 0 0 0 0;\n",
              "      width: 32px;\n",
              "    }\n",
              "\n",
              "    .colab-df-convert:hover {\n",
              "      background-color: #E2EBFA;\n",
              "      box-shadow: 0px 1px 2px rgba(60, 64, 67, 0.3), 0px 1px 3px 1px rgba(60, 64, 67, 0.15);\n",
              "      fill: #174EA6;\n",
              "    }\n",
              "\n",
              "    .colab-df-buttons div {\n",
              "      margin-bottom: 4px;\n",
              "    }\n",
              "\n",
              "    [theme=dark] .colab-df-convert {\n",
              "      background-color: #3B4455;\n",
              "      fill: #D2E3FC;\n",
              "    }\n",
              "\n",
              "    [theme=dark] .colab-df-convert:hover {\n",
              "      background-color: #434B5C;\n",
              "      box-shadow: 0px 1px 3px 1px rgba(0, 0, 0, 0.15);\n",
              "      filter: drop-shadow(0px 1px 2px rgba(0, 0, 0, 0.3));\n",
              "      fill: #FFFFFF;\n",
              "    }\n",
              "  </style>\n",
              "\n",
              "    <script>\n",
              "      const buttonEl =\n",
              "        document.querySelector('#df-7c70f9e5-8f1f-4c41-88a8-da68c14464c7 button.colab-df-convert');\n",
              "      buttonEl.style.display =\n",
              "        google.colab.kernel.accessAllowed ? 'block' : 'none';\n",
              "\n",
              "      async function convertToInteractive(key) {\n",
              "        const element = document.querySelector('#df-7c70f9e5-8f1f-4c41-88a8-da68c14464c7');\n",
              "        const dataTable =\n",
              "          await google.colab.kernel.invokeFunction('convertToInteractive',\n",
              "                                                    [key], {});\n",
              "        if (!dataTable) return;\n",
              "\n",
              "        const docLinkHtml = 'Like what you see? Visit the ' +\n",
              "          '<a target=\"_blank\" href=https://colab.research.google.com/notebooks/data_table.ipynb>data table notebook</a>'\n",
              "          + ' to learn more about interactive tables.';\n",
              "        element.innerHTML = '';\n",
              "        dataTable['output_type'] = 'display_data';\n",
              "        await google.colab.output.renderOutput(dataTable, element);\n",
              "        const docLink = document.createElement('div');\n",
              "        docLink.innerHTML = docLinkHtml;\n",
              "        element.appendChild(docLink);\n",
              "      }\n",
              "    </script>\n",
              "  </div>\n",
              "\n",
              "\n",
              "<div id=\"df-5f7e40bf-8d8e-4d4a-ba0b-29295f139c6f\">\n",
              "  <button class=\"colab-df-quickchart\" onclick=\"quickchart('df-5f7e40bf-8d8e-4d4a-ba0b-29295f139c6f')\"\n",
              "            title=\"Suggest charts\"\n",
              "            style=\"display:none;\">\n",
              "\n",
              "<svg xmlns=\"http://www.w3.org/2000/svg\" height=\"24px\"viewBox=\"0 0 24 24\"\n",
              "     width=\"24px\">\n",
              "    <g>\n",
              "        <path d=\"M19 3H5c-1.1 0-2 .9-2 2v14c0 1.1.9 2 2 2h14c1.1 0 2-.9 2-2V5c0-1.1-.9-2-2-2zM9 17H7v-7h2v7zm4 0h-2V7h2v10zm4 0h-2v-4h2v4z\"/>\n",
              "    </g>\n",
              "</svg>\n",
              "  </button>\n",
              "\n",
              "<style>\n",
              "  .colab-df-quickchart {\n",
              "      --bg-color: #E8F0FE;\n",
              "      --fill-color: #1967D2;\n",
              "      --hover-bg-color: #E2EBFA;\n",
              "      --hover-fill-color: #174EA6;\n",
              "      --disabled-fill-color: #AAA;\n",
              "      --disabled-bg-color: #DDD;\n",
              "  }\n",
              "\n",
              "  [theme=dark] .colab-df-quickchart {\n",
              "      --bg-color: #3B4455;\n",
              "      --fill-color: #D2E3FC;\n",
              "      --hover-bg-color: #434B5C;\n",
              "      --hover-fill-color: #FFFFFF;\n",
              "      --disabled-bg-color: #3B4455;\n",
              "      --disabled-fill-color: #666;\n",
              "  }\n",
              "\n",
              "  .colab-df-quickchart {\n",
              "    background-color: var(--bg-color);\n",
              "    border: none;\n",
              "    border-radius: 50%;\n",
              "    cursor: pointer;\n",
              "    display: none;\n",
              "    fill: var(--fill-color);\n",
              "    height: 32px;\n",
              "    padding: 0;\n",
              "    width: 32px;\n",
              "  }\n",
              "\n",
              "  .colab-df-quickchart:hover {\n",
              "    background-color: var(--hover-bg-color);\n",
              "    box-shadow: 0 1px 2px rgba(60, 64, 67, 0.3), 0 1px 3px 1px rgba(60, 64, 67, 0.15);\n",
              "    fill: var(--button-hover-fill-color);\n",
              "  }\n",
              "\n",
              "  .colab-df-quickchart-complete:disabled,\n",
              "  .colab-df-quickchart-complete:disabled:hover {\n",
              "    background-color: var(--disabled-bg-color);\n",
              "    fill: var(--disabled-fill-color);\n",
              "    box-shadow: none;\n",
              "  }\n",
              "\n",
              "  .colab-df-spinner {\n",
              "    border: 2px solid var(--fill-color);\n",
              "    border-color: transparent;\n",
              "    border-bottom-color: var(--fill-color);\n",
              "    animation:\n",
              "      spin 1s steps(1) infinite;\n",
              "  }\n",
              "\n",
              "  @keyframes spin {\n",
              "    0% {\n",
              "      border-color: transparent;\n",
              "      border-bottom-color: var(--fill-color);\n",
              "      border-left-color: var(--fill-color);\n",
              "    }\n",
              "    20% {\n",
              "      border-color: transparent;\n",
              "      border-left-color: var(--fill-color);\n",
              "      border-top-color: var(--fill-color);\n",
              "    }\n",
              "    30% {\n",
              "      border-color: transparent;\n",
              "      border-left-color: var(--fill-color);\n",
              "      border-top-color: var(--fill-color);\n",
              "      border-right-color: var(--fill-color);\n",
              "    }\n",
              "    40% {\n",
              "      border-color: transparent;\n",
              "      border-right-color: var(--fill-color);\n",
              "      border-top-color: var(--fill-color);\n",
              "    }\n",
              "    60% {\n",
              "      border-color: transparent;\n",
              "      border-right-color: var(--fill-color);\n",
              "    }\n",
              "    80% {\n",
              "      border-color: transparent;\n",
              "      border-right-color: var(--fill-color);\n",
              "      border-bottom-color: var(--fill-color);\n",
              "    }\n",
              "    90% {\n",
              "      border-color: transparent;\n",
              "      border-bottom-color: var(--fill-color);\n",
              "    }\n",
              "  }\n",
              "</style>\n",
              "\n",
              "  <script>\n",
              "    async function quickchart(key) {\n",
              "      const quickchartButtonEl =\n",
              "        document.querySelector('#' + key + ' button');\n",
              "      quickchartButtonEl.disabled = true;  // To prevent multiple clicks.\n",
              "      quickchartButtonEl.classList.add('colab-df-spinner');\n",
              "      try {\n",
              "        const charts = await google.colab.kernel.invokeFunction(\n",
              "            'suggestCharts', [key], {});\n",
              "      } catch (error) {\n",
              "        console.error('Error during call to suggestCharts:', error);\n",
              "      }\n",
              "      quickchartButtonEl.classList.remove('colab-df-spinner');\n",
              "      quickchartButtonEl.classList.add('colab-df-quickchart-complete');\n",
              "    }\n",
              "    (() => {\n",
              "      let quickchartButtonEl =\n",
              "        document.querySelector('#df-5f7e40bf-8d8e-4d4a-ba0b-29295f139c6f button');\n",
              "      quickchartButtonEl.style.display =\n",
              "        google.colab.kernel.accessAllowed ? 'block' : 'none';\n",
              "    })();\n",
              "  </script>\n",
              "</div>\n",
              "\n",
              "    </div>\n",
              "  </div>\n"
            ],
            "application/vnd.google.colaboratory.intrinsic+json": {
              "type": "dataframe",
              "variable_name": "sentence_data",
              "summary": "{\n  \"name\": \"sentence_data\",\n  \"rows\": 47842,\n  \"fields\": [\n    {\n      \"column\": \"word_sequence\",\n      \"properties\": {\n        \"dtype\": \"object\",\n        \"semantic_type\": \"\",\n        \"description\": \"\"\n      }\n    },\n    {\n      \"column\": \"tag_sequence\",\n      \"properties\": {\n        \"dtype\": \"object\",\n        \"semantic_type\": \"\",\n        \"description\": \"\"\n      }\n    },\n    {\n      \"column\": \"word_i_sequence\",\n      \"properties\": {\n        \"dtype\": \"object\",\n        \"semantic_type\": \"\",\n        \"description\": \"\"\n      }\n    },\n    {\n      \"column\": \"tag_i_sequence\",\n      \"properties\": {\n        \"dtype\": \"object\",\n        \"semantic_type\": \"\",\n        \"description\": \"\"\n      }\n    }\n  ]\n}"
            }
          },
          "metadata": {},
          "execution_count": 25
        }
      ],
      "source": [
        "# Fill NaNs using the most recent non-NaN value ('forward fill')\n",
        "word_data = word_data.ffill(axis=0)\n",
        "word_data.head()\n",
        "# Group by sentence # and do some renaming\n",
        "sentence_data = word_data.groupby(\"Sentence #\", as_index=False)[['Word', 'Tag', \"word_i\", \"tag_i\"]].agg(lambda x: list(x))\n",
        "sentence_data = sentence_data.rename(columns={\"Word\": \"word_sequence\", \"Tag\": \"tag_sequence\", \"word_i\": \"word_i_sequence\", \"tag_i\": \"tag_i_sequence\"}).drop(\"Sentence #\", axis='columns')\n",
        "sentence_data.head()"
      ]
    },
    {
      "cell_type": "markdown",
      "source": [
        "Our data is now in the form of encoded tokenized sentences and corresponding encoded NER tag sequences."
      ],
      "metadata": {
        "id": "d7m3weBEtwIt"
      }
    },
    {
      "cell_type": "markdown",
      "metadata": {
        "id": "khHMeYdJb1ot"
      },
      "source": [
        "#### Padding 📝\n",
        "\n",
        "To efficiently apply our LSTM across batches of data, all the sequences must be of the same length."
      ]
    },
    {
      "cell_type": "markdown",
      "source": [
        "Every sentence represented as integers (`word_i_sequence` and the corresponding `tag_i_sequence`) must be padded with empty data to have the same length.\n",
        "\n",
        "📝 **Write a pad function that takes in a list and:**\n",
        " - **pads it to the max length if its original length was shorter, using the given pad_value**\n",
        " - **truncates it to the max length if its original length was longer**\n"
      ],
      "metadata": {
        "id": "a1MBpK0L7Zfc"
      }
    },
    {
      "cell_type": "code",
      "source": [
        "max_length = 32\n",
        "\n",
        "def pad(sequence: list, pad_value: int) -> list:\n",
        "  # TODO: complete the pad function body\n",
        "  # ...\n",
        "  padded_sequence = []\n",
        "  for i in range(max_length):\n",
        "    if i < len(sequence):\n",
        "      padded_sequence.append(sequence[i])\n",
        "    else:\n",
        "      padded_sequence.append(pad_value)\n",
        "  return padded_sequence\n",
        "\n",
        "# Add a pad token to our encode/decode mapping\n",
        "pad_token = \"PAD\"\n",
        "token_to_i[pad_token] = n_words\n",
        "i_to_token[n_words] = pad_token\n",
        "tag_to_i[pad_token] = n_tags\n",
        "i_to_tag[n_tags] = pad_token\n",
        "\n",
        "# Apply the padding to the data\n",
        "sentence_data[\"word_i_sequence\"] = sentence_data[\"word_i_sequence\"].map(lambda x: pad(x, pad_value=n_words))\n",
        "sentence_data[\"tag_i_sequence\"] = sentence_data[\"tag_i_sequence\"].map(lambda x: pad(x, pad_value=n_tags))\n",
        "\n",
        "# Check that all the sequences have been padded\n",
        "# This should be a single value, equal to the maximum length you found above\n",
        "print(sentence_data[\"word_i_sequence\"].map(len).unique())\n",
        "print(sentence_data[\"tag_i_sequence\"].map(len).unique())"
      ],
      "metadata": {
        "colab": {
          "base_uri": "https://localhost:8080/"
        },
        "id": "BSjfUcD5TH3O",
        "outputId": "74784a21-bcea-4380-b564-4aeddade13dc"
      },
      "execution_count": null,
      "outputs": [
        {
          "output_type": "stream",
          "name": "stdout",
          "text": [
            "[32]\n",
            "[32]\n"
          ]
        }
      ]
    },
    {
      "cell_type": "markdown",
      "source": [
        "Visualising one element of the data shows the padding. Note that after a certain point, all of the entries are set to the `pad_value`."
      ],
      "metadata": {
        "id": "MxkAQKCbrevF"
      }
    },
    {
      "cell_type": "code",
      "source": [
        "print(f\"{pad_token} is {token_to_i[pad_token]}\")\n",
        "print(sentence_data[\"word_i_sequence\"][1])"
      ],
      "metadata": {
        "colab": {
          "base_uri": "https://localhost:8080/"
        },
        "id": "2XcpeJ16riGa",
        "outputId": "5e60cc5d-0a83-4f48-b1c3-50e2e6fdd8d8"
      },
      "execution_count": null,
      "outputs": [
        {
          "output_type": "stream",
          "name": "stdout",
          "text": [
            "PAD is 35154\n",
            "[21, 1, 22, 23, 11, 9, 24, 25, 9, 26, 27, 28, 29, 30, 31, 32, 33, 34, 35, 36, 37, 13, 38, 9, 39, 35154, 35154, 35154, 35154, 35154, 35154, 35154]\n"
          ]
        }
      ]
    },
    {
      "cell_type": "markdown",
      "source": [
        "#### One-hot encoding 📝\n",
        "\n",
        "As NER is a classification task, we need to encode the output labels as one-hot vectors.\n"
      ],
      "metadata": {
        "id": "Y7V1443xPuyE"
      }
    },
    {
      "cell_type": "markdown",
      "source": [
        "That is, for each word, we need the model to produce a tensor of length `n_tags+1` with a `1` at the index of the correct tag and `0`s everywhere else.\n",
        "\n",
        "If we were to pass in a sequence of words (of length `max_sentence_length`), the model will produce an output of shape `(max_sentence_length, n_tags+1)`.\n",
        "If we were to pass in a batch of sentences with shape `(batch_size, max_sentence_length)`, then the output shape should be `(batch_size, max_sentence_length, n_tag+1s)`.\n",
        "\n",
        "Handily, PyTorch has a function to do the encoding for us."
      ],
      "metadata": {
        "id": "toHP5Dd9uFzw"
      }
    },
    {
      "cell_type": "code",
      "source": [
        "# Example: 3 classes\n",
        "class_1 = 0\n",
        "class_2 = 1\n",
        "class_3 = 2\n",
        "# Input tensor of shape [batch_size=2, max_sentence_length=4]\n",
        "input_example = torch.tensor(\n",
        "        [[class_1, class_1, class_2, class_3],\n",
        "         [class_2, class_1, class_3, class_2]]\n",
        "    )\n",
        "one_hot_example = nn.functional.one_hot(input_example, num_classes=3)\n",
        "print(one_hot_example)\n",
        "print(one_hot_example.shape) # Shape is [batch_size, max_sentence_length, n_classes]"
      ],
      "metadata": {
        "colab": {
          "base_uri": "https://localhost:8080/"
        },
        "id": "YaHSnCY0k9EP",
        "outputId": "eee320ae-c5eb-4345-d85d-2bac5eedd90f"
      },
      "execution_count": null,
      "outputs": [
        {
          "output_type": "stream",
          "name": "stdout",
          "text": [
            "tensor([[[1, 0, 0],\n",
            "         [1, 0, 0],\n",
            "         [0, 1, 0],\n",
            "         [0, 0, 1]],\n",
            "\n",
            "        [[0, 1, 0],\n",
            "         [1, 0, 0],\n",
            "         [0, 0, 1],\n",
            "         [0, 1, 0]]])\n",
            "torch.Size([2, 4, 3])\n"
          ]
        }
      ]
    },
    {
      "cell_type": "markdown",
      "source": [
        "**📝 Write a function that takes in a list and returns a one-hot encoded tensor.\n",
        "`num_classes` should be set to `num_classes=num_tags+1`.**"
      ],
      "metadata": {
        "id": "uj94yrx974tC"
      }
    },
    {
      "cell_type": "code",
      "source": [
        "def list_to_one_hot(l: list) -> torch.Tensor:\n",
        "  # TODO: Complete the list_to_one_hot function body\n",
        "  # ...\n",
        "  return nn.functional.one_hot(torch.tensor(l), num_classes=n_tags+1)\n",
        "\n",
        "# Test it on a row from the data\n",
        "one_hot_example = list_to_one_hot(sentence_data[\"tag_i_sequence\"][5])\n",
        "print(one_hot_example)\n",
        "print(one_hot_example.shape)"
      ],
      "metadata": {
        "colab": {
          "base_uri": "https://localhost:8080/"
        },
        "id": "SwOgpjf1ob_f",
        "outputId": "0c36bbde-9675-4770-f879-24fa1b33f957"
      },
      "execution_count": null,
      "outputs": [
        {
          "output_type": "stream",
          "name": "stdout",
          "text": [
            "tensor([[1, 0, 0, 0, 0, 0, 0, 0, 0, 0, 0, 0, 0, 0, 0, 0, 0, 0],\n",
            "        [1, 0, 0, 0, 0, 0, 0, 0, 0, 0, 0, 0, 0, 0, 0, 0, 0, 0],\n",
            "        [1, 0, 0, 0, 0, 0, 0, 0, 0, 0, 0, 0, 0, 0, 0, 0, 0, 0],\n",
            "        [1, 0, 0, 0, 0, 0, 0, 0, 0, 0, 0, 0, 0, 0, 0, 0, 0, 0],\n",
            "        [1, 0, 0, 0, 0, 0, 0, 0, 0, 0, 0, 0, 0, 0, 0, 0, 0, 0],\n",
            "        [0, 0, 1, 0, 0, 0, 0, 0, 0, 0, 0, 0, 0, 0, 0, 0, 0, 0],\n",
            "        [1, 0, 0, 0, 0, 0, 0, 0, 0, 0, 0, 0, 0, 0, 0, 0, 0, 0],\n",
            "        [1, 0, 0, 0, 0, 0, 0, 0, 0, 0, 0, 0, 0, 0, 0, 0, 0, 0],\n",
            "        [1, 0, 0, 0, 0, 0, 0, 0, 0, 0, 0, 0, 0, 0, 0, 0, 0, 0],\n",
            "        [1, 0, 0, 0, 0, 0, 0, 0, 0, 0, 0, 0, 0, 0, 0, 0, 0, 0],\n",
            "        [0, 1, 0, 0, 0, 0, 0, 0, 0, 0, 0, 0, 0, 0, 0, 0, 0, 0],\n",
            "        [1, 0, 0, 0, 0, 0, 0, 0, 0, 0, 0, 0, 0, 0, 0, 0, 0, 0],\n",
            "        [1, 0, 0, 0, 0, 0, 0, 0, 0, 0, 0, 0, 0, 0, 0, 0, 0, 0],\n",
            "        [1, 0, 0, 0, 0, 0, 0, 0, 0, 0, 0, 0, 0, 0, 0, 0, 0, 0],\n",
            "        [1, 0, 0, 0, 0, 0, 0, 0, 0, 0, 0, 0, 0, 0, 0, 0, 0, 0],\n",
            "        [1, 0, 0, 0, 0, 0, 0, 0, 0, 0, 0, 0, 0, 0, 0, 0, 0, 0],\n",
            "        [1, 0, 0, 0, 0, 0, 0, 0, 0, 0, 0, 0, 0, 0, 0, 0, 0, 0],\n",
            "        [1, 0, 0, 0, 0, 0, 0, 0, 0, 0, 0, 0, 0, 0, 0, 0, 0, 0],\n",
            "        [0, 0, 1, 0, 0, 0, 0, 0, 0, 0, 0, 0, 0, 0, 0, 0, 0, 0],\n",
            "        [1, 0, 0, 0, 0, 0, 0, 0, 0, 0, 0, 0, 0, 0, 0, 0, 0, 0],\n",
            "        [1, 0, 0, 0, 0, 0, 0, 0, 0, 0, 0, 0, 0, 0, 0, 0, 0, 0],\n",
            "        [1, 0, 0, 0, 0, 0, 0, 0, 0, 0, 0, 0, 0, 0, 0, 0, 0, 0],\n",
            "        [1, 0, 0, 0, 0, 0, 0, 0, 0, 0, 0, 0, 0, 0, 0, 0, 0, 0],\n",
            "        [0, 0, 0, 0, 0, 0, 0, 0, 0, 0, 0, 0, 0, 0, 0, 0, 0, 1],\n",
            "        [0, 0, 0, 0, 0, 0, 0, 0, 0, 0, 0, 0, 0, 0, 0, 0, 0, 1],\n",
            "        [0, 0, 0, 0, 0, 0, 0, 0, 0, 0, 0, 0, 0, 0, 0, 0, 0, 1],\n",
            "        [0, 0, 0, 0, 0, 0, 0, 0, 0, 0, 0, 0, 0, 0, 0, 0, 0, 1],\n",
            "        [0, 0, 0, 0, 0, 0, 0, 0, 0, 0, 0, 0, 0, 0, 0, 0, 0, 1],\n",
            "        [0, 0, 0, 0, 0, 0, 0, 0, 0, 0, 0, 0, 0, 0, 0, 0, 0, 1],\n",
            "        [0, 0, 0, 0, 0, 0, 0, 0, 0, 0, 0, 0, 0, 0, 0, 0, 0, 1],\n",
            "        [0, 0, 0, 0, 0, 0, 0, 0, 0, 0, 0, 0, 0, 0, 0, 0, 0, 1],\n",
            "        [0, 0, 0, 0, 0, 0, 0, 0, 0, 0, 0, 0, 0, 0, 0, 0, 0, 1]])\n",
            "torch.Size([32, 18])\n"
          ]
        }
      ]
    },
    {
      "cell_type": "markdown",
      "source": [
        "**📝 Why should the one-hot encoding have num_tags+1 classes, rather than just num_tags?**\n"
      ],
      "metadata": {
        "id": "89QXvtRatEEH"
      }
    },
    {
      "cell_type": "code",
      "source": [
        "# TODO: Your answer here\n",
        "# ..."
      ],
      "metadata": {
        "id": "KUJrF8a5tYHs"
      },
      "execution_count": null,
      "outputs": []
    },
    {
      "cell_type": "markdown",
      "source": [
        "We can now convert the data into tensors, ready for learning."
      ],
      "metadata": {
        "id": "CG6uRn4xxitI"
      }
    },
    {
      "cell_type": "code",
      "source": [
        "# Convert the Pandas dataframe to tensors\n",
        "x = torch.stack([torch.tensor(x) for x in sentence_data[\"word_i_sequence\"].values]).to(dtype=torch.int)\n",
        "y = torch.stack([list_to_one_hot(x) for x in sentence_data[\"tag_i_sequence\"].values]).to(dtype=torch.int)\n",
        "print(x.shape)\n",
        "print(y.shape)"
      ],
      "metadata": {
        "colab": {
          "base_uri": "https://localhost:8080/"
        },
        "id": "67HRNh2AxiEk",
        "outputId": "0279275a-72ea-4990-9a9b-87001dd13984"
      },
      "execution_count": null,
      "outputs": [
        {
          "output_type": "stream",
          "name": "stdout",
          "text": [
            "torch.Size([47842, 32])\n",
            "torch.Size([47842, 32, 18])\n"
          ]
        }
      ]
    },
    {
      "cell_type": "markdown",
      "source": [
        "Note that we have `batch_size=47842`, `sequence_length=32`, and `num_classes=18`."
      ],
      "metadata": {
        "id": "FNZOA4IRxVi_"
      }
    },
    {
      "cell_type": "markdown",
      "source": [
        "#### Train/validation/test split\n",
        "\n",
        "We split the data into a train, validation, and test set.\n"
      ],
      "metadata": {
        "id": "nTgF_YjSkB0h"
      }
    },
    {
      "cell_type": "code",
      "source": [
        "# The model should be alllowed to see the train and validation sets during training, but not the test set.\n",
        "test_fraction = 0.2\n",
        "validation_fraction = 0.1\n",
        "train_fraction = 0.7\n",
        "\n",
        "torch.manual_seed(0)\n",
        "train_data, validation_data, test_data = torch.utils.data.random_split(\n",
        "    dataset=torch.utils.data.TensorDataset(x, y),\n",
        "    lengths=[\n",
        "        train_fraction,\n",
        "        validation_fraction,\n",
        "        test_fraction,\n",
        "    ],\n",
        ")\n",
        "\n",
        "x_train, y_train = train_data.dataset.tensors\n",
        "x_validation, y_validation = validation_data.dataset.tensors\n",
        "x_test, y_test = test_data.dataset.tensors\n",
        "\n",
        "# Make sure that the dtypes are correct\n",
        "x_train = x_train.to(dtype=torch.int)\n",
        "x_validation = x_validation.to(dtype=torch.int)\n",
        "x_test = x_test.to(dtype=torch.int)\n",
        "y_train = y_train.to(dtype=torch.float)\n",
        "y_validation = y_validation.to(dtype=torch.float)\n",
        "y_test = y_test.to(dtype=torch.float)"
      ],
      "metadata": {
        "id": "nmVs4wjxyN7q"
      },
      "execution_count": null,
      "outputs": []
    },
    {
      "cell_type": "markdown",
      "metadata": {
        "id": "SHiorh7wcHE-"
      },
      "source": [
        "---\n",
        "### **2.2 - LSTM training and evaluation 📝**\n",
        "\n",
        "We can now train an LSTM to do the NER task."
      ]
    },
    {
      "cell_type": "markdown",
      "source": [
        "📝 **Create an instance of our LSTM module.**\n",
        "- Set the number of hidden layers to 1.\n",
        "- Set the hidden dimension to 16.\n",
        "- Set the embedding dimension to 32.\n",
        "- Set the output dimension and number of embeddings to the appropriate values."
      ],
      "metadata": {
        "id": "v90v6FkfHRkY"
      }
    },
    {
      "cell_type": "code",
      "execution_count": null,
      "metadata": {
        "id": "YfEAIZ7RcJCt",
        "colab": {
          "base_uri": "https://localhost:8080/"
        },
        "outputId": "98492df9-ab66-4a8b-9339-dc5c9d9c9cc6"
      },
      "outputs": [
        {
          "output_type": "stream",
          "name": "stdout",
          "text": [
            "Number of trainable parameters = 1128466\n"
          ]
        },
        {
          "output_type": "execute_result",
          "data": {
            "image/svg+xml": "<?xml version=\"1.0\" encoding=\"UTF-8\" standalone=\"no\"?>\n<!DOCTYPE svg PUBLIC \"-//W3C//DTD SVG 1.1//EN\"\n \"http://www.w3.org/Graphics/SVG/1.1/DTD/svg11.dtd\">\n<!-- Generated by graphviz version 2.43.0 (0)\n -->\n<!-- Title: model Pages: 1 -->\n<svg width=\"347pt\" height=\"420pt\"\n viewBox=\"0.00 0.00 347.00 420.00\" xmlns=\"http://www.w3.org/2000/svg\" xmlns:xlink=\"http://www.w3.org/1999/xlink\">\n<g id=\"graph0\" class=\"graph\" transform=\"scale(1 1) rotate(0) translate(4 416)\">\n<title>model</title>\n<polygon fill=\"white\" stroke=\"transparent\" points=\"-4,4 -4,-416 343,-416 343,4 -4,4\"/>\n<!-- 0 -->\n<g id=\"node1\" class=\"node\">\n<title>0</title>\n<polygon fill=\"lightyellow\" stroke=\"transparent\" points=\"249.5,-412 89.5,-412 89.5,-380 249.5,-380 249.5,-412\"/>\n<polygon fill=\"none\" stroke=\"black\" points=\"89.5,-380 89.5,-412 172.5,-412 172.5,-380 89.5,-380\"/>\n<text text-anchor=\"start\" x=\"94.5\" y=\"-399\" font-family=\"Linux libertine\" font-size=\"10.00\">input&#45;tensor</text>\n<text text-anchor=\"start\" x=\"109.5\" y=\"-388\" font-family=\"Linux libertine\" font-size=\"10.00\">depth:0</text>\n<polygon fill=\"none\" stroke=\"black\" points=\"172.5,-380 172.5,-412 249.5,-412 249.5,-380 172.5,-380\"/>\n<text text-anchor=\"start\" x=\"177.5\" y=\"-393.5\" font-family=\"Linux libertine\" font-size=\"10.00\">(47842, 32)</text>\n</g>\n<!-- 1 -->\n<g id=\"node2\" class=\"node\">\n<title>1</title>\n<polygon fill=\"#c1ffc1\" stroke=\"transparent\" points=\"285,-344 54,-344 54,-302 285,-302 285,-344\"/>\n<polygon fill=\"none\" stroke=\"black\" points=\"54.5,-302 54.5,-344 119.5,-344 119.5,-302 54.5,-302\"/>\n<text text-anchor=\"start\" x=\"59.5\" y=\"-326\" font-family=\"Linux libertine\" font-size=\"10.00\">Embedding</text>\n<text text-anchor=\"start\" x=\"65.5\" y=\"-315\" font-family=\"Linux libertine\" font-size=\"10.00\">depth:1</text>\n<polygon fill=\"none\" stroke=\"black\" points=\"119.5,-323 119.5,-344 178.5,-344 178.5,-323 119.5,-323\"/>\n<text text-anchor=\"start\" x=\"130.5\" y=\"-331\" font-family=\"Linux libertine\" font-size=\"10.00\">input:</text>\n<polygon fill=\"none\" stroke=\"black\" points=\"178.5,-323 178.5,-344 285.5,-344 285.5,-323 178.5,-323\"/>\n<text text-anchor=\"start\" x=\"195.5\" y=\"-331\" font-family=\"Linux libertine\" font-size=\"10.00\">(47842, 32) </text>\n<polygon fill=\"none\" stroke=\"black\" points=\"119.5,-302 119.5,-323 178.5,-323 178.5,-302 119.5,-302\"/>\n<text text-anchor=\"start\" x=\"124.5\" y=\"-310\" font-family=\"Linux libertine\" font-size=\"10.00\">output: </text>\n<polygon fill=\"none\" stroke=\"black\" points=\"178.5,-302 178.5,-323 285.5,-323 285.5,-302 178.5,-302\"/>\n<text text-anchor=\"start\" x=\"183.5\" y=\"-310\" font-family=\"Linux libertine\" font-size=\"10.00\">(47842, 32, 32) </text>\n</g>\n<!-- 0&#45;&gt;1 -->\n<g id=\"edge1\" class=\"edge\">\n<title>0&#45;&gt;1</title>\n<path fill=\"none\" stroke=\"black\" d=\"M169.5,-379.94C169.5,-372.45 169.5,-363.12 169.5,-354.24\"/>\n<polygon fill=\"black\" stroke=\"black\" points=\"173,-354.16 169.5,-344.16 166,-354.16 173,-354.16\"/>\n</g>\n<!-- 2 -->\n<g id=\"node3\" class=\"node\">\n<title>2</title>\n<polygon fill=\"#c1ffc1\" stroke=\"transparent\" points=\"339,-266 0,-266 0,-224 339,-224 339,-266\"/>\n<polygon fill=\"none\" stroke=\"black\" points=\"0.5,-224 0.5,-266 53.5,-266 53.5,-224 0.5,-224\"/>\n<text text-anchor=\"start\" x=\"14.5\" y=\"-248\" font-family=\"Linux libertine\" font-size=\"10.00\">LSTM</text>\n<text text-anchor=\"start\" x=\"5.5\" y=\"-237\" font-family=\"Linux libertine\" font-size=\"10.00\">depth:1</text>\n<polygon fill=\"none\" stroke=\"black\" points=\"53.5,-245 53.5,-266 112.5,-266 112.5,-245 53.5,-245\"/>\n<text text-anchor=\"start\" x=\"64.5\" y=\"-253\" font-family=\"Linux libertine\" font-size=\"10.00\">input:</text>\n<polygon fill=\"none\" stroke=\"black\" points=\"112.5,-245 112.5,-266 339.5,-266 339.5,-245 112.5,-245\"/>\n<text text-anchor=\"start\" x=\"177.5\" y=\"-253\" font-family=\"Linux libertine\" font-size=\"10.00\">(47842, 32, 32) </text>\n<polygon fill=\"none\" stroke=\"black\" points=\"53.5,-224 53.5,-245 112.5,-245 112.5,-224 53.5,-224\"/>\n<text text-anchor=\"start\" x=\"58.5\" y=\"-232\" font-family=\"Linux libertine\" font-size=\"10.00\">output: </text>\n<polygon fill=\"none\" stroke=\"black\" points=\"112.5,-224 112.5,-245 339.5,-245 339.5,-224 112.5,-224\"/>\n<text text-anchor=\"start\" x=\"117.5\" y=\"-232\" font-family=\"Linux libertine\" font-size=\"10.00\">(47842, 32, 16), 2 x (1, 47842, 16) </text>\n</g>\n<!-- 1&#45;&gt;2 -->\n<g id=\"edge2\" class=\"edge\">\n<title>1&#45;&gt;2</title>\n<path fill=\"none\" stroke=\"black\" d=\"M169.5,-301.63C169.5,-293.82 169.5,-284.73 169.5,-276.18\"/>\n<polygon fill=\"black\" stroke=\"black\" points=\"173,-276.16 169.5,-266.16 166,-276.16 173,-276.16\"/>\n</g>\n<!-- 3 -->\n<g id=\"node4\" class=\"node\">\n<title>3</title>\n<polygon fill=\"#c1ffc1\" stroke=\"transparent\" points=\"279,-188 60,-188 60,-146 279,-146 279,-188\"/>\n<polygon fill=\"none\" stroke=\"black\" points=\"60.5,-146 60.5,-188 113.5,-188 113.5,-146 60.5,-146\"/>\n<text text-anchor=\"start\" x=\"68.5\" y=\"-170\" font-family=\"Linux libertine\" font-size=\"10.00\">Linear</text>\n<text text-anchor=\"start\" x=\"65.5\" y=\"-159\" font-family=\"Linux libertine\" font-size=\"10.00\">depth:1</text>\n<polygon fill=\"none\" stroke=\"black\" points=\"113.5,-167 113.5,-188 172.5,-188 172.5,-167 113.5,-167\"/>\n<text text-anchor=\"start\" x=\"124.5\" y=\"-175\" font-family=\"Linux libertine\" font-size=\"10.00\">input:</text>\n<polygon fill=\"none\" stroke=\"black\" points=\"172.5,-167 172.5,-188 279.5,-188 279.5,-167 172.5,-167\"/>\n<text text-anchor=\"start\" x=\"177.5\" y=\"-175\" font-family=\"Linux libertine\" font-size=\"10.00\">(47842, 32, 16) </text>\n<polygon fill=\"none\" stroke=\"black\" points=\"113.5,-146 113.5,-167 172.5,-167 172.5,-146 113.5,-146\"/>\n<text text-anchor=\"start\" x=\"118.5\" y=\"-154\" font-family=\"Linux libertine\" font-size=\"10.00\">output: </text>\n<polygon fill=\"none\" stroke=\"black\" points=\"172.5,-146 172.5,-167 279.5,-167 279.5,-146 172.5,-146\"/>\n<text text-anchor=\"start\" x=\"177.5\" y=\"-154\" font-family=\"Linux libertine\" font-size=\"10.00\">(47842, 32, 18) </text>\n</g>\n<!-- 2&#45;&gt;3 -->\n<g id=\"edge3\" class=\"edge\">\n<title>2&#45;&gt;3</title>\n<path fill=\"none\" stroke=\"black\" d=\"M169.5,-223.63C169.5,-215.82 169.5,-206.73 169.5,-198.18\"/>\n<polygon fill=\"black\" stroke=\"black\" points=\"173,-198.16 169.5,-188.16 166,-198.16 173,-198.16\"/>\n</g>\n<!-- 4 -->\n<g id=\"node5\" class=\"node\">\n<title>4</title>\n<polygon fill=\"#c1ffc1\" stroke=\"transparent\" points=\"279,-110 60,-110 60,-68 279,-68 279,-110\"/>\n<polygon fill=\"none\" stroke=\"black\" points=\"60.5,-68 60.5,-110 113.5,-110 113.5,-68 60.5,-68\"/>\n<text text-anchor=\"start\" x=\"65.5\" y=\"-92\" font-family=\"Linux libertine\" font-size=\"10.00\">Softmax</text>\n<text text-anchor=\"start\" x=\"65.5\" y=\"-81\" font-family=\"Linux libertine\" font-size=\"10.00\">depth:1</text>\n<polygon fill=\"none\" stroke=\"black\" points=\"113.5,-89 113.5,-110 172.5,-110 172.5,-89 113.5,-89\"/>\n<text text-anchor=\"start\" x=\"124.5\" y=\"-97\" font-family=\"Linux libertine\" font-size=\"10.00\">input:</text>\n<polygon fill=\"none\" stroke=\"black\" points=\"172.5,-89 172.5,-110 279.5,-110 279.5,-89 172.5,-89\"/>\n<text text-anchor=\"start\" x=\"177.5\" y=\"-97\" font-family=\"Linux libertine\" font-size=\"10.00\">(47842, 32, 18) </text>\n<polygon fill=\"none\" stroke=\"black\" points=\"113.5,-68 113.5,-89 172.5,-89 172.5,-68 113.5,-68\"/>\n<text text-anchor=\"start\" x=\"118.5\" y=\"-76\" font-family=\"Linux libertine\" font-size=\"10.00\">output: </text>\n<polygon fill=\"none\" stroke=\"black\" points=\"172.5,-68 172.5,-89 279.5,-89 279.5,-68 172.5,-68\"/>\n<text text-anchor=\"start\" x=\"177.5\" y=\"-76\" font-family=\"Linux libertine\" font-size=\"10.00\">(47842, 32, 18) </text>\n</g>\n<!-- 3&#45;&gt;4 -->\n<g id=\"edge4\" class=\"edge\">\n<title>3&#45;&gt;4</title>\n<path fill=\"none\" stroke=\"black\" d=\"M169.5,-145.63C169.5,-137.82 169.5,-128.73 169.5,-120.18\"/>\n<polygon fill=\"black\" stroke=\"black\" points=\"173,-120.16 169.5,-110.16 166,-120.16 173,-120.16\"/>\n</g>\n<!-- 5 -->\n<g id=\"node6\" class=\"node\">\n<title>5</title>\n<polygon fill=\"lightyellow\" stroke=\"transparent\" points=\"264.5,-32 74.5,-32 74.5,0 264.5,0 264.5,-32\"/>\n<polygon fill=\"none\" stroke=\"black\" points=\"74.5,0 74.5,-32 163.5,-32 163.5,0 74.5,0\"/>\n<text text-anchor=\"start\" x=\"79.5\" y=\"-19\" font-family=\"Linux libertine\" font-size=\"10.00\">output&#45;tensor</text>\n<text text-anchor=\"start\" x=\"97.5\" y=\"-8\" font-family=\"Linux libertine\" font-size=\"10.00\">depth:0</text>\n<polygon fill=\"none\" stroke=\"black\" points=\"163.5,0 163.5,-32 264.5,-32 264.5,0 163.5,0\"/>\n<text text-anchor=\"start\" x=\"168.5\" y=\"-13.5\" font-family=\"Linux libertine\" font-size=\"10.00\">(47842, 32, 18)</text>\n</g>\n<!-- 4&#45;&gt;5 -->\n<g id=\"edge5\" class=\"edge\">\n<title>4&#45;&gt;5</title>\n<path fill=\"none\" stroke=\"black\" d=\"M169.5,-67.84C169.5,-59.89 169.5,-50.66 169.5,-42.26\"/>\n<polygon fill=\"black\" stroke=\"black\" points=\"173,-42.24 169.5,-32.24 166,-42.24 173,-42.24\"/>\n</g>\n</g>\n</svg>\n",
            "text/plain": [
              "<graphviz.graphs.Digraph at 0x7d7bc66b2bd0>"
            ]
          },
          "metadata": {},
          "execution_count": 33
        }
      ],
      "source": [
        "# TODO: Instantiate the LSTM module we created earlier with the correct dimensionality\n",
        "# lstm = ...\n",
        "lstm = WordClassifierLSTM(num_hidden_layers=1, hidden_dim=16, output_dim=n_tags+1, num_embeddings=n_words+1, embedding_dim=32)\n",
        "\n",
        "# Visualise the model\n",
        "import torchview\n",
        "\n",
        "print(\"Number of trainable parameters =\", sum(p.numel() for p in lstm.parameters() if p.requires_grad))\n",
        "model_graph = torchview.draw_graph(lstm, input_data=x_train)\n",
        "model_graph.visual_graph"
      ]
    },
    {
      "cell_type": "markdown",
      "source": [
        "*Note: `torchview` doesn't pick up on the number of internal hidden layers of the LSTM block.*\n",
        "\n",
        "You should be able to see all the dimensions we set appearing in the model. Remember, we want to input a batch of sequences, shape `(num_sequences, max_sequence_length)`, and return the probabilities of each label for each word in the sequence (shape `(num_sequences, max_sequence_length, num_tags+1)`).\n",
        "\n",
        "Applying the LSTM to some examples from the training data works as expected:\n"
      ],
      "metadata": {
        "id": "xHCeIMltHv3X"
      }
    },
    {
      "cell_type": "code",
      "source": [
        "example_output = lstm(x_train[:3, ...])\n",
        "print(example_output)\n",
        "print(example_output.shape)"
      ],
      "metadata": {
        "colab": {
          "base_uri": "https://localhost:8080/"
        },
        "id": "Zj0G97Ym9JSc",
        "outputId": "5188bec7-8d3d-4b8c-b3ac-e56fee1d1ab0"
      },
      "execution_count": null,
      "outputs": [
        {
          "output_type": "stream",
          "name": "stdout",
          "text": [
            "tensor([[[0.0583, 0.0488, 0.0684,  ..., 0.0506, 0.0553, 0.0419],\n",
            "         [0.0498, 0.0533, 0.0717,  ..., 0.0478, 0.0698, 0.0425],\n",
            "         [0.0512, 0.0529, 0.0674,  ..., 0.0516, 0.0617, 0.0440],\n",
            "         ...,\n",
            "         [0.0600, 0.0553, 0.0636,  ..., 0.0474, 0.0574, 0.0391],\n",
            "         [0.0598, 0.0555, 0.0634,  ..., 0.0474, 0.0575, 0.0391],\n",
            "         [0.0596, 0.0556, 0.0633,  ..., 0.0474, 0.0576, 0.0391]],\n",
            "\n",
            "        [[0.0523, 0.0532, 0.0578,  ..., 0.0436, 0.0666, 0.0515],\n",
            "         [0.0443, 0.0584, 0.0630,  ..., 0.0444, 0.0733, 0.0480],\n",
            "         [0.0541, 0.0550, 0.0757,  ..., 0.0430, 0.0631, 0.0469],\n",
            "         ...,\n",
            "         [0.0602, 0.0554, 0.0634,  ..., 0.0472, 0.0576, 0.0397],\n",
            "         [0.0600, 0.0555, 0.0633,  ..., 0.0473, 0.0576, 0.0394],\n",
            "         [0.0598, 0.0556, 0.0633,  ..., 0.0473, 0.0576, 0.0393]],\n",
            "\n",
            "        [[0.0569, 0.0501, 0.0694,  ..., 0.0441, 0.0677, 0.0463],\n",
            "         [0.0540, 0.0519, 0.0652,  ..., 0.0485, 0.0661, 0.0445],\n",
            "         [0.0565, 0.0504, 0.0609,  ..., 0.0469, 0.0597, 0.0487],\n",
            "         ...,\n",
            "         [0.0592, 0.0558, 0.0628,  ..., 0.0475, 0.0578, 0.0391],\n",
            "         [0.0592, 0.0558, 0.0628,  ..., 0.0475, 0.0578, 0.0391],\n",
            "         [0.0592, 0.0558, 0.0628,  ..., 0.0475, 0.0578, 0.0391]]],\n",
            "       grad_fn=<SoftmaxBackward0>)\n",
            "torch.Size([3, 32, 18])\n"
          ]
        }
      ]
    },
    {
      "cell_type": "markdown",
      "source": [
        "We passed in 3 sentences of length 32. For each word in each sentence, the model predicts a probability that it belongs to each of the 18 classes."
      ],
      "metadata": {
        "id": "5Gjgeae99_44"
      }
    },
    {
      "cell_type": "markdown",
      "source": [
        "📝 **Fill in the gaps below to complete the training loop.**\n",
        "\n",
        "*You might want to set `n_training_steps` to a smaller number when testing your code. When your code works, set it back to 500. Training should take ~ 1 minute.*"
      ],
      "metadata": {
        "id": "OcTjQTrkXdwG"
      }
    },
    {
      "cell_type": "code",
      "source": [
        "from tqdm import trange\n",
        "\n",
        "# Loss function for classification\n",
        "# Compute the loss by doing loss_fn(predictions, targets)\n",
        "loss_fn = nn.CrossEntropyLoss()\n",
        "\n",
        "n_training_steps = 500\n",
        "optimiser = torch.optim.Adam(lstm.parameters(), lr=0.01)\n",
        "\n",
        "# At each step, we will randomly sample a batch of data\n",
        "train_loader = torch.utils.data.DataLoader(train_data, shuffle=True, batch_size=1024)\n",
        "\n",
        "progress_bar = tqdm(range(n_training_steps))\n",
        "train_loss_history = torch.empty(n_training_steps)\n",
        "\n",
        "for step in progress_bar:\n",
        "  # Sample a batch of training data\n",
        "  x_train_batch, y_train_batch = next(iter(train_loader))\n",
        "\n",
        "  # TODO: Ensure that the inputs are int tensors and the outputs are float tensors\n",
        "  # ...\n",
        "  x_train_batch = x_train_batch.to(dtype=torch.int)\n",
        "  y_train_batch = y_train_batch.to(dtype=torch.float)\n",
        "\n",
        "  # TODO: Perform the forward pass through the model\n",
        "  # ...\n",
        "  predictions = lstm(x_train_batch)\n",
        "\n",
        "  # TODO: Compute the training loss\n",
        "  # ...\n",
        "  train_loss = loss_fn(predictions, y_train_batch)\n",
        "\n",
        "  # TODO: Perform a gradient step. This should be 3 distinct function calls.\n",
        "  # ...\n",
        "  optimiser.zero_grad()\n",
        "  train_loss.backward()\n",
        "  optimiser.step()\n",
        "\n",
        "  progress_bar.set_description(f\"Train loss = {train_loss}\")\n"
      ],
      "metadata": {
        "colab": {
          "base_uri": "https://localhost:8080/"
        },
        "id": "mD2Di2f-T_5R",
        "outputId": "53186c73-075e-4136-f7a9-6ff26e47f930"
      },
      "execution_count": null,
      "outputs": [
        {
          "output_type": "stream",
          "name": "stderr",
          "text": [
            "Train loss = 5.481489658355713: 100%|██████████| 500/500 [01:04<00:00,  7.76it/s]\n"
          ]
        }
      ]
    },
    {
      "cell_type": "markdown",
      "source": [
        "📝 **Fill in the gaps below to complete the model evaluation.**\n",
        "\n",
        "Note that we have wrapped the evaluation loop in `with torch.no_grad()`. This temporarily disables gradient tracking for the tensors in this loop, reducing the compute required for each operation.\n"
      ],
      "metadata": {
        "id": "V8I7TpG_QFXF"
      }
    },
    {
      "cell_type": "code",
      "execution_count": null,
      "metadata": {
        "id": "n07YF9QcWSyk",
        "colab": {
          "base_uri": "https://localhost:8080/"
        },
        "outputId": "9227ccf2-29f8-424c-f727-1b92771732a7"
      },
      "outputs": [
        {
          "output_type": "stream",
          "name": "stdout",
          "text": [
            "Test loss =  5.492\n",
            "Test accuracy =  97.006%\n"
          ]
        }
      ],
      "source": [
        "with torch.no_grad():\n",
        "  # TODO: Compute the model predictions for the test set\n",
        "  # ...\n",
        "  prediction_probabilities = lstm(x_test)\n",
        "\n",
        "  # TODO: Convert predictions from probabilities into labels\n",
        "  # ...\n",
        "  prediction_label = prediction_probabilities.argmax(-1)\n",
        "\n",
        "  # TODO: Convert the one-hot-encoded y_test into labels\n",
        "  # ...\n",
        "  true_label = y_test.argmax(axis=-1)\n",
        "\n",
        "  # TODO: Compute the loss on the test set\n",
        "  # ...\n",
        "  test_loss = loss_fn(prediction_probabilities, y_test)\n",
        "\n",
        "  # TODO: Compute the accuracy on the test set\n",
        "  # Accuracy is defined as the % of prediction labels that match the true labels\n",
        "  # ...\n",
        "  test_accuracy = torch.sum(prediction_label == true_label) / (y_test.shape[0] * y_test.shape[1])\n",
        "\n",
        "print(f\"Test loss = {test_loss.item() : .3f}\")\n",
        "print(f\"Test accuracy = {test_accuracy.item() * 100 : .3f}%\")\n"
      ]
    },
    {
      "cell_type": "markdown",
      "source": [
        "We can visualise an example to gain an understanding of what the model's performance looks like in practice."
      ],
      "metadata": {
        "id": "tZtPeehQP57A"
      }
    },
    {
      "cell_type": "code",
      "source": [
        "example = 4\n",
        "example_words = [i_to_token[i.item()] for i in x_test[example]]\n",
        "example_tags = [i_to_tag[i.item()] for i in true_label[example]]\n",
        "predicted_tags = [i_to_tag[i.item()] for i in prediction_label[example]]\n",
        "\n",
        "pd.DataFrame(\n",
        "    {\n",
        "        \"Word\": example_words,\n",
        "        \"True tag\": example_tags,\n",
        "        \"Predicted tag\": predicted_tags\n",
        "     }\n",
        ")"
      ],
      "metadata": {
        "colab": {
          "base_uri": "https://localhost:8080/"
        },
        "id": "auc5CBPfJ0R2",
        "outputId": "f146e847-2fa6-4ea2-de1f-ac6ba56bf1a6"
      },
      "execution_count": null,
      "outputs": [
        {
          "output_type": "execute_result",
          "data": {
            "text/plain": [
              "          Word True tag Predicted tag\n",
              "0          The        O             O\n",
              "1      protest        O             O\n",
              "2        comes        O             O\n",
              "3           on        O             O\n",
              "4          the        O             O\n",
              "5          eve        O             O\n",
              "6           of        O             O\n",
              "7          the        O             O\n",
              "8       annual        O             O\n",
              "9   conference        O             O\n",
              "10          of        O             O\n",
              "11     Britain    B-geo         B-geo\n",
              "12          's        O             O\n",
              "13      ruling        O             O\n",
              "14       Labor    B-org         B-org\n",
              "15       Party    I-org         I-org\n",
              "16          in        O             O\n",
              "17         the        O             O\n",
              "18    southern        O             O\n",
              "19     English    B-gpe         B-gpe\n",
              "20     seaside        O             O\n",
              "21      resort        O             O\n",
              "22          of        O             O\n",
              "23    Brighton    B-geo         B-geo\n",
              "24         PAD      PAD           PAD\n",
              "25         PAD      PAD           PAD\n",
              "26         PAD      PAD           PAD\n",
              "27         PAD      PAD           PAD\n",
              "28         PAD      PAD           PAD\n",
              "29         PAD      PAD           PAD\n",
              "30         PAD      PAD           PAD\n",
              "31         PAD      PAD           PAD"
            ],
            "text/html": [
              "\n",
              "  <div id=\"df-dc173734-e674-430b-9b0c-513e805ed376\" class=\"colab-df-container\">\n",
              "    <div>\n",
              "<style scoped>\n",
              "    .dataframe tbody tr th:only-of-type {\n",
              "        vertical-align: middle;\n",
              "    }\n",
              "\n",
              "    .dataframe tbody tr th {\n",
              "        vertical-align: top;\n",
              "    }\n",
              "\n",
              "    .dataframe thead th {\n",
              "        text-align: right;\n",
              "    }\n",
              "</style>\n",
              "<table border=\"1\" class=\"dataframe\">\n",
              "  <thead>\n",
              "    <tr style=\"text-align: right;\">\n",
              "      <th></th>\n",
              "      <th>Word</th>\n",
              "      <th>True tag</th>\n",
              "      <th>Predicted tag</th>\n",
              "    </tr>\n",
              "  </thead>\n",
              "  <tbody>\n",
              "    <tr>\n",
              "      <th>0</th>\n",
              "      <td>The</td>\n",
              "      <td>O</td>\n",
              "      <td>O</td>\n",
              "    </tr>\n",
              "    <tr>\n",
              "      <th>1</th>\n",
              "      <td>protest</td>\n",
              "      <td>O</td>\n",
              "      <td>O</td>\n",
              "    </tr>\n",
              "    <tr>\n",
              "      <th>2</th>\n",
              "      <td>comes</td>\n",
              "      <td>O</td>\n",
              "      <td>O</td>\n",
              "    </tr>\n",
              "    <tr>\n",
              "      <th>3</th>\n",
              "      <td>on</td>\n",
              "      <td>O</td>\n",
              "      <td>O</td>\n",
              "    </tr>\n",
              "    <tr>\n",
              "      <th>4</th>\n",
              "      <td>the</td>\n",
              "      <td>O</td>\n",
              "      <td>O</td>\n",
              "    </tr>\n",
              "    <tr>\n",
              "      <th>5</th>\n",
              "      <td>eve</td>\n",
              "      <td>O</td>\n",
              "      <td>O</td>\n",
              "    </tr>\n",
              "    <tr>\n",
              "      <th>6</th>\n",
              "      <td>of</td>\n",
              "      <td>O</td>\n",
              "      <td>O</td>\n",
              "    </tr>\n",
              "    <tr>\n",
              "      <th>7</th>\n",
              "      <td>the</td>\n",
              "      <td>O</td>\n",
              "      <td>O</td>\n",
              "    </tr>\n",
              "    <tr>\n",
              "      <th>8</th>\n",
              "      <td>annual</td>\n",
              "      <td>O</td>\n",
              "      <td>O</td>\n",
              "    </tr>\n",
              "    <tr>\n",
              "      <th>9</th>\n",
              "      <td>conference</td>\n",
              "      <td>O</td>\n",
              "      <td>O</td>\n",
              "    </tr>\n",
              "    <tr>\n",
              "      <th>10</th>\n",
              "      <td>of</td>\n",
              "      <td>O</td>\n",
              "      <td>O</td>\n",
              "    </tr>\n",
              "    <tr>\n",
              "      <th>11</th>\n",
              "      <td>Britain</td>\n",
              "      <td>B-geo</td>\n",
              "      <td>B-geo</td>\n",
              "    </tr>\n",
              "    <tr>\n",
              "      <th>12</th>\n",
              "      <td>'s</td>\n",
              "      <td>O</td>\n",
              "      <td>O</td>\n",
              "    </tr>\n",
              "    <tr>\n",
              "      <th>13</th>\n",
              "      <td>ruling</td>\n",
              "      <td>O</td>\n",
              "      <td>O</td>\n",
              "    </tr>\n",
              "    <tr>\n",
              "      <th>14</th>\n",
              "      <td>Labor</td>\n",
              "      <td>B-org</td>\n",
              "      <td>B-org</td>\n",
              "    </tr>\n",
              "    <tr>\n",
              "      <th>15</th>\n",
              "      <td>Party</td>\n",
              "      <td>I-org</td>\n",
              "      <td>I-org</td>\n",
              "    </tr>\n",
              "    <tr>\n",
              "      <th>16</th>\n",
              "      <td>in</td>\n",
              "      <td>O</td>\n",
              "      <td>O</td>\n",
              "    </tr>\n",
              "    <tr>\n",
              "      <th>17</th>\n",
              "      <td>the</td>\n",
              "      <td>O</td>\n",
              "      <td>O</td>\n",
              "    </tr>\n",
              "    <tr>\n",
              "      <th>18</th>\n",
              "      <td>southern</td>\n",
              "      <td>O</td>\n",
              "      <td>O</td>\n",
              "    </tr>\n",
              "    <tr>\n",
              "      <th>19</th>\n",
              "      <td>English</td>\n",
              "      <td>B-gpe</td>\n",
              "      <td>B-gpe</td>\n",
              "    </tr>\n",
              "    <tr>\n",
              "      <th>20</th>\n",
              "      <td>seaside</td>\n",
              "      <td>O</td>\n",
              "      <td>O</td>\n",
              "    </tr>\n",
              "    <tr>\n",
              "      <th>21</th>\n",
              "      <td>resort</td>\n",
              "      <td>O</td>\n",
              "      <td>O</td>\n",
              "    </tr>\n",
              "    <tr>\n",
              "      <th>22</th>\n",
              "      <td>of</td>\n",
              "      <td>O</td>\n",
              "      <td>O</td>\n",
              "    </tr>\n",
              "    <tr>\n",
              "      <th>23</th>\n",
              "      <td>Brighton</td>\n",
              "      <td>B-geo</td>\n",
              "      <td>B-geo</td>\n",
              "    </tr>\n",
              "    <tr>\n",
              "      <th>24</th>\n",
              "      <td>PAD</td>\n",
              "      <td>PAD</td>\n",
              "      <td>PAD</td>\n",
              "    </tr>\n",
              "    <tr>\n",
              "      <th>25</th>\n",
              "      <td>PAD</td>\n",
              "      <td>PAD</td>\n",
              "      <td>PAD</td>\n",
              "    </tr>\n",
              "    <tr>\n",
              "      <th>26</th>\n",
              "      <td>PAD</td>\n",
              "      <td>PAD</td>\n",
              "      <td>PAD</td>\n",
              "    </tr>\n",
              "    <tr>\n",
              "      <th>27</th>\n",
              "      <td>PAD</td>\n",
              "      <td>PAD</td>\n",
              "      <td>PAD</td>\n",
              "    </tr>\n",
              "    <tr>\n",
              "      <th>28</th>\n",
              "      <td>PAD</td>\n",
              "      <td>PAD</td>\n",
              "      <td>PAD</td>\n",
              "    </tr>\n",
              "    <tr>\n",
              "      <th>29</th>\n",
              "      <td>PAD</td>\n",
              "      <td>PAD</td>\n",
              "      <td>PAD</td>\n",
              "    </tr>\n",
              "    <tr>\n",
              "      <th>30</th>\n",
              "      <td>PAD</td>\n",
              "      <td>PAD</td>\n",
              "      <td>PAD</td>\n",
              "    </tr>\n",
              "    <tr>\n",
              "      <th>31</th>\n",
              "      <td>PAD</td>\n",
              "      <td>PAD</td>\n",
              "      <td>PAD</td>\n",
              "    </tr>\n",
              "  </tbody>\n",
              "</table>\n",
              "</div>\n",
              "    <div class=\"colab-df-buttons\">\n",
              "\n",
              "  <div class=\"colab-df-container\">\n",
              "    <button class=\"colab-df-convert\" onclick=\"convertToInteractive('df-dc173734-e674-430b-9b0c-513e805ed376')\"\n",
              "            title=\"Convert this dataframe to an interactive table.\"\n",
              "            style=\"display:none;\">\n",
              "\n",
              "  <svg xmlns=\"http://www.w3.org/2000/svg\" height=\"24px\" viewBox=\"0 -960 960 960\">\n",
              "    <path d=\"M120-120v-720h720v720H120Zm60-500h600v-160H180v160Zm220 220h160v-160H400v160Zm0 220h160v-160H400v160ZM180-400h160v-160H180v160Zm440 0h160v-160H620v160ZM180-180h160v-160H180v160Zm440 0h160v-160H620v160Z\"/>\n",
              "  </svg>\n",
              "    </button>\n",
              "\n",
              "  <style>\n",
              "    .colab-df-container {\n",
              "      display:flex;\n",
              "      gap: 12px;\n",
              "    }\n",
              "\n",
              "    .colab-df-convert {\n",
              "      background-color: #E8F0FE;\n",
              "      border: none;\n",
              "      border-radius: 50%;\n",
              "      cursor: pointer;\n",
              "      display: none;\n",
              "      fill: #1967D2;\n",
              "      height: 32px;\n",
              "      padding: 0 0 0 0;\n",
              "      width: 32px;\n",
              "    }\n",
              "\n",
              "    .colab-df-convert:hover {\n",
              "      background-color: #E2EBFA;\n",
              "      box-shadow: 0px 1px 2px rgba(60, 64, 67, 0.3), 0px 1px 3px 1px rgba(60, 64, 67, 0.15);\n",
              "      fill: #174EA6;\n",
              "    }\n",
              "\n",
              "    .colab-df-buttons div {\n",
              "      margin-bottom: 4px;\n",
              "    }\n",
              "\n",
              "    [theme=dark] .colab-df-convert {\n",
              "      background-color: #3B4455;\n",
              "      fill: #D2E3FC;\n",
              "    }\n",
              "\n",
              "    [theme=dark] .colab-df-convert:hover {\n",
              "      background-color: #434B5C;\n",
              "      box-shadow: 0px 1px 3px 1px rgba(0, 0, 0, 0.15);\n",
              "      filter: drop-shadow(0px 1px 2px rgba(0, 0, 0, 0.3));\n",
              "      fill: #FFFFFF;\n",
              "    }\n",
              "  </style>\n",
              "\n",
              "    <script>\n",
              "      const buttonEl =\n",
              "        document.querySelector('#df-dc173734-e674-430b-9b0c-513e805ed376 button.colab-df-convert');\n",
              "      buttonEl.style.display =\n",
              "        google.colab.kernel.accessAllowed ? 'block' : 'none';\n",
              "\n",
              "      async function convertToInteractive(key) {\n",
              "        const element = document.querySelector('#df-dc173734-e674-430b-9b0c-513e805ed376');\n",
              "        const dataTable =\n",
              "          await google.colab.kernel.invokeFunction('convertToInteractive',\n",
              "                                                    [key], {});\n",
              "        if (!dataTable) return;\n",
              "\n",
              "        const docLinkHtml = 'Like what you see? Visit the ' +\n",
              "          '<a target=\"_blank\" href=https://colab.research.google.com/notebooks/data_table.ipynb>data table notebook</a>'\n",
              "          + ' to learn more about interactive tables.';\n",
              "        element.innerHTML = '';\n",
              "        dataTable['output_type'] = 'display_data';\n",
              "        await google.colab.output.renderOutput(dataTable, element);\n",
              "        const docLink = document.createElement('div');\n",
              "        docLink.innerHTML = docLinkHtml;\n",
              "        element.appendChild(docLink);\n",
              "      }\n",
              "    </script>\n",
              "  </div>\n",
              "\n",
              "\n",
              "<div id=\"df-18d33499-7142-4aa2-b133-0c45059cc837\">\n",
              "  <button class=\"colab-df-quickchart\" onclick=\"quickchart('df-18d33499-7142-4aa2-b133-0c45059cc837')\"\n",
              "            title=\"Suggest charts\"\n",
              "            style=\"display:none;\">\n",
              "\n",
              "<svg xmlns=\"http://www.w3.org/2000/svg\" height=\"24px\"viewBox=\"0 0 24 24\"\n",
              "     width=\"24px\">\n",
              "    <g>\n",
              "        <path d=\"M19 3H5c-1.1 0-2 .9-2 2v14c0 1.1.9 2 2 2h14c1.1 0 2-.9 2-2V5c0-1.1-.9-2-2-2zM9 17H7v-7h2v7zm4 0h-2V7h2v10zm4 0h-2v-4h2v4z\"/>\n",
              "    </g>\n",
              "</svg>\n",
              "  </button>\n",
              "\n",
              "<style>\n",
              "  .colab-df-quickchart {\n",
              "      --bg-color: #E8F0FE;\n",
              "      --fill-color: #1967D2;\n",
              "      --hover-bg-color: #E2EBFA;\n",
              "      --hover-fill-color: #174EA6;\n",
              "      --disabled-fill-color: #AAA;\n",
              "      --disabled-bg-color: #DDD;\n",
              "  }\n",
              "\n",
              "  [theme=dark] .colab-df-quickchart {\n",
              "      --bg-color: #3B4455;\n",
              "      --fill-color: #D2E3FC;\n",
              "      --hover-bg-color: #434B5C;\n",
              "      --hover-fill-color: #FFFFFF;\n",
              "      --disabled-bg-color: #3B4455;\n",
              "      --disabled-fill-color: #666;\n",
              "  }\n",
              "\n",
              "  .colab-df-quickchart {\n",
              "    background-color: var(--bg-color);\n",
              "    border: none;\n",
              "    border-radius: 50%;\n",
              "    cursor: pointer;\n",
              "    display: none;\n",
              "    fill: var(--fill-color);\n",
              "    height: 32px;\n",
              "    padding: 0;\n",
              "    width: 32px;\n",
              "  }\n",
              "\n",
              "  .colab-df-quickchart:hover {\n",
              "    background-color: var(--hover-bg-color);\n",
              "    box-shadow: 0 1px 2px rgba(60, 64, 67, 0.3), 0 1px 3px 1px rgba(60, 64, 67, 0.15);\n",
              "    fill: var(--button-hover-fill-color);\n",
              "  }\n",
              "\n",
              "  .colab-df-quickchart-complete:disabled,\n",
              "  .colab-df-quickchart-complete:disabled:hover {\n",
              "    background-color: var(--disabled-bg-color);\n",
              "    fill: var(--disabled-fill-color);\n",
              "    box-shadow: none;\n",
              "  }\n",
              "\n",
              "  .colab-df-spinner {\n",
              "    border: 2px solid var(--fill-color);\n",
              "    border-color: transparent;\n",
              "    border-bottom-color: var(--fill-color);\n",
              "    animation:\n",
              "      spin 1s steps(1) infinite;\n",
              "  }\n",
              "\n",
              "  @keyframes spin {\n",
              "    0% {\n",
              "      border-color: transparent;\n",
              "      border-bottom-color: var(--fill-color);\n",
              "      border-left-color: var(--fill-color);\n",
              "    }\n",
              "    20% {\n",
              "      border-color: transparent;\n",
              "      border-left-color: var(--fill-color);\n",
              "      border-top-color: var(--fill-color);\n",
              "    }\n",
              "    30% {\n",
              "      border-color: transparent;\n",
              "      border-left-color: var(--fill-color);\n",
              "      border-top-color: var(--fill-color);\n",
              "      border-right-color: var(--fill-color);\n",
              "    }\n",
              "    40% {\n",
              "      border-color: transparent;\n",
              "      border-right-color: var(--fill-color);\n",
              "      border-top-color: var(--fill-color);\n",
              "    }\n",
              "    60% {\n",
              "      border-color: transparent;\n",
              "      border-right-color: var(--fill-color);\n",
              "    }\n",
              "    80% {\n",
              "      border-color: transparent;\n",
              "      border-right-color: var(--fill-color);\n",
              "      border-bottom-color: var(--fill-color);\n",
              "    }\n",
              "    90% {\n",
              "      border-color: transparent;\n",
              "      border-bottom-color: var(--fill-color);\n",
              "    }\n",
              "  }\n",
              "</style>\n",
              "\n",
              "  <script>\n",
              "    async function quickchart(key) {\n",
              "      const quickchartButtonEl =\n",
              "        document.querySelector('#' + key + ' button');\n",
              "      quickchartButtonEl.disabled = true;  // To prevent multiple clicks.\n",
              "      quickchartButtonEl.classList.add('colab-df-spinner');\n",
              "      try {\n",
              "        const charts = await google.colab.kernel.invokeFunction(\n",
              "            'suggestCharts', [key], {});\n",
              "      } catch (error) {\n",
              "        console.error('Error during call to suggestCharts:', error);\n",
              "      }\n",
              "      quickchartButtonEl.classList.remove('colab-df-spinner');\n",
              "      quickchartButtonEl.classList.add('colab-df-quickchart-complete');\n",
              "    }\n",
              "    (() => {\n",
              "      let quickchartButtonEl =\n",
              "        document.querySelector('#df-18d33499-7142-4aa2-b133-0c45059cc837 button');\n",
              "      quickchartButtonEl.style.display =\n",
              "        google.colab.kernel.accessAllowed ? 'block' : 'none';\n",
              "    })();\n",
              "  </script>\n",
              "</div>\n",
              "\n",
              "    </div>\n",
              "  </div>\n"
            ],
            "application/vnd.google.colaboratory.intrinsic+json": {
              "type": "dataframe",
              "summary": "{\n  \"name\": \")\",\n  \"rows\": 32,\n  \"fields\": [\n    {\n      \"column\": \"Word\",\n      \"properties\": {\n        \"dtype\": \"string\",\n        \"num_unique_values\": 21,\n        \"samples\": [\n          \"The\",\n          \"seaside\",\n          \"southern\"\n        ],\n        \"semantic_type\": \"\",\n        \"description\": \"\"\n      }\n    },\n    {\n      \"column\": \"True tag\",\n      \"properties\": {\n        \"dtype\": \"category\",\n        \"num_unique_values\": 6,\n        \"samples\": [\n          \"O\",\n          \"B-geo\",\n          \"PAD\"\n        ],\n        \"semantic_type\": \"\",\n        \"description\": \"\"\n      }\n    },\n    {\n      \"column\": \"Predicted tag\",\n      \"properties\": {\n        \"dtype\": \"category\",\n        \"num_unique_values\": 6,\n        \"samples\": [\n          \"O\",\n          \"B-geo\",\n          \"PAD\"\n        ],\n        \"semantic_type\": \"\",\n        \"description\": \"\"\n      }\n    }\n  ]\n}"
            }
          },
          "metadata": {},
          "execution_count": 37
        }
      ]
    },
    {
      "cell_type": "markdown",
      "source": [
        "---\n",
        "### **2.3 - Extensions 📝**\n",
        "\n",
        "These tasks are a bit more open ended. Feel free to discuss them with your peers or TAs. You might want to come back to them after completing the rest of the lab - the content in the next section on tokenization and input encoding is higher priority."
      ],
      "metadata": {
        "id": "mWxMdxeHKsSc"
      }
    },
    {
      "cell_type": "markdown",
      "source": [
        "- Quantify how well the network is performing for each class. What do you observe? What could be the cause? What could be done to mitigate this?\n",
        "- Explore the impact of adjusting the sentence length, dimensions of the embedding/hidden/output layers, and number of LSTM layers on the performance and training time of the model.\n",
        "- Try setting `bidirectional=True` in the LSTM layer of the model. What does this flag do? Why might it be expected to improve performance? Does it improve performance in practice?"
      ],
      "metadata": {
        "id": "2y62T3bQGH05"
      }
    },
    {
      "cell_type": "markdown",
      "metadata": {
        "id": "2hLaQp6HQAHf"
      },
      "source": [
        "---\n",
        "## **3 - Movie genre prediction** 📝\n",
        "---"
      ]
    },
    {
      "cell_type": "markdown",
      "metadata": {
        "id": "BBSRgXZtQOsB"
      },
      "source": [
        "In the previous section, we performed classification on language data at the *word* level (assigning labels to individual words).\n",
        "In this section, we will instead perform classification at the *sequence* level, aiming to predict the genre of a movie from a summary of its plot (consisting of many words).\n",
        "\n",
        "As much of the content of this section is similar to the previous one, lots of the code is written for you.\n",
        "The key additional components introduced in this section are:\n",
        "\n",
        "**1. Tokenization and lemmatization** (appears in section *Data preprocessing*).\n",
        "\n",
        "**2. Using pre-trained embeddings** (appears in sections *Data preprocessing - Input encoding* and *LSTM training - Loading pre-trained weights*)."
      ]
    },
    {
      "cell_type": "markdown",
      "metadata": {
        "id": "koDoTJqfQdfs"
      },
      "source": [
        "---\n",
        "\n",
        "### **3.1 - Data preprocessing** 📝\n"
      ]
    },
    {
      "cell_type": "markdown",
      "source": [
        "#### Loading the data"
      ],
      "metadata": {
        "id": "tP75NoTsHeuK"
      }
    },
    {
      "cell_type": "code",
      "execution_count": null,
      "metadata": {
        "id": "HE6ewQP0QhOO",
        "colab": {
          "base_uri": "https://localhost:8080/"
        },
        "outputId": "7b0c2223-ff51-4cc3-f211-d7d4bc82d1df"
      },
      "outputs": [
        {
          "output_type": "execute_result",
          "data": {
            "text/plain": [
              "                                               Title  \\\n",
              "0                            The Great Train Robbery   \n",
              "1                                    The Suburbanite   \n",
              "2                           Dream of a Rarebit Fiend   \n",
              "3  From Leadville to Aspen: A Hold-Up in the Rockies   \n",
              "4                                Kathleen Mavourneen   \n",
              "\n",
              "                        Genre  \\\n",
              "0                     western   \n",
              "1                      comedy   \n",
              "2                       short   \n",
              "3  short action/crime western   \n",
              "4                  short film   \n",
              "\n",
              "                                                Plot  \n",
              "0  The film opens with two bandits breaking into ...  \n",
              "1  The film is about a family who move to the sub...  \n",
              "2  The Rarebit Fiend gorges on Welsh rarebit at a...  \n",
              "3  The film features a train traveling through th...  \n",
              "4  Irish villager Kathleen is a tenant of Captain...  "
            ],
            "text/html": [
              "\n",
              "  <div id=\"df-c15a6aa3-5b77-41f9-98fe-f2c255981fb8\" class=\"colab-df-container\">\n",
              "    <div>\n",
              "<style scoped>\n",
              "    .dataframe tbody tr th:only-of-type {\n",
              "        vertical-align: middle;\n",
              "    }\n",
              "\n",
              "    .dataframe tbody tr th {\n",
              "        vertical-align: top;\n",
              "    }\n",
              "\n",
              "    .dataframe thead th {\n",
              "        text-align: right;\n",
              "    }\n",
              "</style>\n",
              "<table border=\"1\" class=\"dataframe\">\n",
              "  <thead>\n",
              "    <tr style=\"text-align: right;\">\n",
              "      <th></th>\n",
              "      <th>Title</th>\n",
              "      <th>Genre</th>\n",
              "      <th>Plot</th>\n",
              "    </tr>\n",
              "  </thead>\n",
              "  <tbody>\n",
              "    <tr>\n",
              "      <th>0</th>\n",
              "      <td>The Great Train Robbery</td>\n",
              "      <td>western</td>\n",
              "      <td>The film opens with two bandits breaking into ...</td>\n",
              "    </tr>\n",
              "    <tr>\n",
              "      <th>1</th>\n",
              "      <td>The Suburbanite</td>\n",
              "      <td>comedy</td>\n",
              "      <td>The film is about a family who move to the sub...</td>\n",
              "    </tr>\n",
              "    <tr>\n",
              "      <th>2</th>\n",
              "      <td>Dream of a Rarebit Fiend</td>\n",
              "      <td>short</td>\n",
              "      <td>The Rarebit Fiend gorges on Welsh rarebit at a...</td>\n",
              "    </tr>\n",
              "    <tr>\n",
              "      <th>3</th>\n",
              "      <td>From Leadville to Aspen: A Hold-Up in the Rockies</td>\n",
              "      <td>short action/crime western</td>\n",
              "      <td>The film features a train traveling through th...</td>\n",
              "    </tr>\n",
              "    <tr>\n",
              "      <th>4</th>\n",
              "      <td>Kathleen Mavourneen</td>\n",
              "      <td>short film</td>\n",
              "      <td>Irish villager Kathleen is a tenant of Captain...</td>\n",
              "    </tr>\n",
              "  </tbody>\n",
              "</table>\n",
              "</div>\n",
              "    <div class=\"colab-df-buttons\">\n",
              "\n",
              "  <div class=\"colab-df-container\">\n",
              "    <button class=\"colab-df-convert\" onclick=\"convertToInteractive('df-c15a6aa3-5b77-41f9-98fe-f2c255981fb8')\"\n",
              "            title=\"Convert this dataframe to an interactive table.\"\n",
              "            style=\"display:none;\">\n",
              "\n",
              "  <svg xmlns=\"http://www.w3.org/2000/svg\" height=\"24px\" viewBox=\"0 -960 960 960\">\n",
              "    <path d=\"M120-120v-720h720v720H120Zm60-500h600v-160H180v160Zm220 220h160v-160H400v160Zm0 220h160v-160H400v160ZM180-400h160v-160H180v160Zm440 0h160v-160H620v160ZM180-180h160v-160H180v160Zm440 0h160v-160H620v160Z\"/>\n",
              "  </svg>\n",
              "    </button>\n",
              "\n",
              "  <style>\n",
              "    .colab-df-container {\n",
              "      display:flex;\n",
              "      gap: 12px;\n",
              "    }\n",
              "\n",
              "    .colab-df-convert {\n",
              "      background-color: #E8F0FE;\n",
              "      border: none;\n",
              "      border-radius: 50%;\n",
              "      cursor: pointer;\n",
              "      display: none;\n",
              "      fill: #1967D2;\n",
              "      height: 32px;\n",
              "      padding: 0 0 0 0;\n",
              "      width: 32px;\n",
              "    }\n",
              "\n",
              "    .colab-df-convert:hover {\n",
              "      background-color: #E2EBFA;\n",
              "      box-shadow: 0px 1px 2px rgba(60, 64, 67, 0.3), 0px 1px 3px 1px rgba(60, 64, 67, 0.15);\n",
              "      fill: #174EA6;\n",
              "    }\n",
              "\n",
              "    .colab-df-buttons div {\n",
              "      margin-bottom: 4px;\n",
              "    }\n",
              "\n",
              "    [theme=dark] .colab-df-convert {\n",
              "      background-color: #3B4455;\n",
              "      fill: #D2E3FC;\n",
              "    }\n",
              "\n",
              "    [theme=dark] .colab-df-convert:hover {\n",
              "      background-color: #434B5C;\n",
              "      box-shadow: 0px 1px 3px 1px rgba(0, 0, 0, 0.15);\n",
              "      filter: drop-shadow(0px 1px 2px rgba(0, 0, 0, 0.3));\n",
              "      fill: #FFFFFF;\n",
              "    }\n",
              "  </style>\n",
              "\n",
              "    <script>\n",
              "      const buttonEl =\n",
              "        document.querySelector('#df-c15a6aa3-5b77-41f9-98fe-f2c255981fb8 button.colab-df-convert');\n",
              "      buttonEl.style.display =\n",
              "        google.colab.kernel.accessAllowed ? 'block' : 'none';\n",
              "\n",
              "      async function convertToInteractive(key) {\n",
              "        const element = document.querySelector('#df-c15a6aa3-5b77-41f9-98fe-f2c255981fb8');\n",
              "        const dataTable =\n",
              "          await google.colab.kernel.invokeFunction('convertToInteractive',\n",
              "                                                    [key], {});\n",
              "        if (!dataTable) return;\n",
              "\n",
              "        const docLinkHtml = 'Like what you see? Visit the ' +\n",
              "          '<a target=\"_blank\" href=https://colab.research.google.com/notebooks/data_table.ipynb>data table notebook</a>'\n",
              "          + ' to learn more about interactive tables.';\n",
              "        element.innerHTML = '';\n",
              "        dataTable['output_type'] = 'display_data';\n",
              "        await google.colab.output.renderOutput(dataTable, element);\n",
              "        const docLink = document.createElement('div');\n",
              "        docLink.innerHTML = docLinkHtml;\n",
              "        element.appendChild(docLink);\n",
              "      }\n",
              "    </script>\n",
              "  </div>\n",
              "\n",
              "\n",
              "<div id=\"df-a110c1e8-0654-4169-9043-11f987eaf5fa\">\n",
              "  <button class=\"colab-df-quickchart\" onclick=\"quickchart('df-a110c1e8-0654-4169-9043-11f987eaf5fa')\"\n",
              "            title=\"Suggest charts\"\n",
              "            style=\"display:none;\">\n",
              "\n",
              "<svg xmlns=\"http://www.w3.org/2000/svg\" height=\"24px\"viewBox=\"0 0 24 24\"\n",
              "     width=\"24px\">\n",
              "    <g>\n",
              "        <path d=\"M19 3H5c-1.1 0-2 .9-2 2v14c0 1.1.9 2 2 2h14c1.1 0 2-.9 2-2V5c0-1.1-.9-2-2-2zM9 17H7v-7h2v7zm4 0h-2V7h2v10zm4 0h-2v-4h2v4z\"/>\n",
              "    </g>\n",
              "</svg>\n",
              "  </button>\n",
              "\n",
              "<style>\n",
              "  .colab-df-quickchart {\n",
              "      --bg-color: #E8F0FE;\n",
              "      --fill-color: #1967D2;\n",
              "      --hover-bg-color: #E2EBFA;\n",
              "      --hover-fill-color: #174EA6;\n",
              "      --disabled-fill-color: #AAA;\n",
              "      --disabled-bg-color: #DDD;\n",
              "  }\n",
              "\n",
              "  [theme=dark] .colab-df-quickchart {\n",
              "      --bg-color: #3B4455;\n",
              "      --fill-color: #D2E3FC;\n",
              "      --hover-bg-color: #434B5C;\n",
              "      --hover-fill-color: #FFFFFF;\n",
              "      --disabled-bg-color: #3B4455;\n",
              "      --disabled-fill-color: #666;\n",
              "  }\n",
              "\n",
              "  .colab-df-quickchart {\n",
              "    background-color: var(--bg-color);\n",
              "    border: none;\n",
              "    border-radius: 50%;\n",
              "    cursor: pointer;\n",
              "    display: none;\n",
              "    fill: var(--fill-color);\n",
              "    height: 32px;\n",
              "    padding: 0;\n",
              "    width: 32px;\n",
              "  }\n",
              "\n",
              "  .colab-df-quickchart:hover {\n",
              "    background-color: var(--hover-bg-color);\n",
              "    box-shadow: 0 1px 2px rgba(60, 64, 67, 0.3), 0 1px 3px 1px rgba(60, 64, 67, 0.15);\n",
              "    fill: var(--button-hover-fill-color);\n",
              "  }\n",
              "\n",
              "  .colab-df-quickchart-complete:disabled,\n",
              "  .colab-df-quickchart-complete:disabled:hover {\n",
              "    background-color: var(--disabled-bg-color);\n",
              "    fill: var(--disabled-fill-color);\n",
              "    box-shadow: none;\n",
              "  }\n",
              "\n",
              "  .colab-df-spinner {\n",
              "    border: 2px solid var(--fill-color);\n",
              "    border-color: transparent;\n",
              "    border-bottom-color: var(--fill-color);\n",
              "    animation:\n",
              "      spin 1s steps(1) infinite;\n",
              "  }\n",
              "\n",
              "  @keyframes spin {\n",
              "    0% {\n",
              "      border-color: transparent;\n",
              "      border-bottom-color: var(--fill-color);\n",
              "      border-left-color: var(--fill-color);\n",
              "    }\n",
              "    20% {\n",
              "      border-color: transparent;\n",
              "      border-left-color: var(--fill-color);\n",
              "      border-top-color: var(--fill-color);\n",
              "    }\n",
              "    30% {\n",
              "      border-color: transparent;\n",
              "      border-left-color: var(--fill-color);\n",
              "      border-top-color: var(--fill-color);\n",
              "      border-right-color: var(--fill-color);\n",
              "    }\n",
              "    40% {\n",
              "      border-color: transparent;\n",
              "      border-right-color: var(--fill-color);\n",
              "      border-top-color: var(--fill-color);\n",
              "    }\n",
              "    60% {\n",
              "      border-color: transparent;\n",
              "      border-right-color: var(--fill-color);\n",
              "    }\n",
              "    80% {\n",
              "      border-color: transparent;\n",
              "      border-right-color: var(--fill-color);\n",
              "      border-bottom-color: var(--fill-color);\n",
              "    }\n",
              "    90% {\n",
              "      border-color: transparent;\n",
              "      border-bottom-color: var(--fill-color);\n",
              "    }\n",
              "  }\n",
              "</style>\n",
              "\n",
              "  <script>\n",
              "    async function quickchart(key) {\n",
              "      const quickchartButtonEl =\n",
              "        document.querySelector('#' + key + ' button');\n",
              "      quickchartButtonEl.disabled = true;  // To prevent multiple clicks.\n",
              "      quickchartButtonEl.classList.add('colab-df-spinner');\n",
              "      try {\n",
              "        const charts = await google.colab.kernel.invokeFunction(\n",
              "            'suggestCharts', [key], {});\n",
              "      } catch (error) {\n",
              "        console.error('Error during call to suggestCharts:', error);\n",
              "      }\n",
              "      quickchartButtonEl.classList.remove('colab-df-spinner');\n",
              "      quickchartButtonEl.classList.add('colab-df-quickchart-complete');\n",
              "    }\n",
              "    (() => {\n",
              "      let quickchartButtonEl =\n",
              "        document.querySelector('#df-a110c1e8-0654-4169-9043-11f987eaf5fa button');\n",
              "      quickchartButtonEl.style.display =\n",
              "        google.colab.kernel.accessAllowed ? 'block' : 'none';\n",
              "    })();\n",
              "  </script>\n",
              "</div>\n",
              "\n",
              "    </div>\n",
              "  </div>\n"
            ],
            "application/vnd.google.colaboratory.intrinsic+json": {
              "type": "dataframe",
              "variable_name": "movies_data",
              "summary": "{\n  \"name\": \"movies_data\",\n  \"rows\": 28803,\n  \"fields\": [\n    {\n      \"column\": \"Title\",\n      \"properties\": {\n        \"dtype\": \"string\",\n        \"num_unique_values\": 27084,\n        \"samples\": [\n          \"Marine 3: Homefront, TheThe Marine 3: Homefront\",\n          \"A Lady Takes a Chance\",\n          \"Walking Across Egypt\"\n        ],\n        \"semantic_type\": \"\",\n        \"description\": \"\"\n      }\n    },\n    {\n      \"column\": \"Genre\",\n      \"properties\": {\n        \"dtype\": \"category\",\n        \"num_unique_values\": 2264,\n        \"samples\": [\n          \"adult/romance/comedy\",\n          \"comedy / musical\",\n          \"animation, family\"\n        ],\n        \"semantic_type\": \"\",\n        \"description\": \"\"\n      }\n    },\n    {\n      \"column\": \"Plot\",\n      \"properties\": {\n        \"dtype\": \"string\",\n        \"num_unique_values\": 28351,\n        \"samples\": [\n          \"Ann Carver (Fay Wray) and Bill Graham (Gene Raymond) are college sweethearts who graduate, marry, and go to work. There are major differences in their career success. Ann has a lawyer's degree, and goes to work at the law firm of retired Judge Bingham. On the other hand, Bill, who in college was a campus football star and voted \\\"Most Popular Man on Campus\\\", lands a low-level job in an architectural firm. She scores a sensational success with her first case (see below) and receives a check for $5000 from her rich client, Harrison. This sets the stage for marital problems, because the very same day that she gets the check for $5000, her husband receives notice of a big raise at work \\u2014 $10.\\r\\nAnn quickly becomes a famous and wealthy lawyer, while husband Bill continues to slog along as a low-level wage slave. The two realize, and discuss, the strain that the disparity in their incomes is placing on the marriage. They resolve to work harder at their marriage, but it immediately becomes clear that the demands of her job will make it difficult for Ann to tear herself from work. There is also a scene in which Ann resents the fact that Bill will not accompany her to a dinner party because he has to go to work. Eventually, disgusted with the paltriness of his income as compared to his wife's success, Bill quits his job as an architect and\\u2014in hopes of hitting the big time as a singer\\u2014becomes a \\\"crooner\\\" at the Mirador, a friend's nightclub.\\r\\nWhile working at the club, Bill begins to drink heavily and becomes involved with alcoholic female singer Carole Rodgers (Claire Dodd). In a scene at the Mirador, Ann and a group of friends observe Carole giving Bill a kiss. In fury, Ann throws a handful of change at Bill and stalks out. That seals the rupture in their marriage. Ann misses Bill deeply, and becomes distracted and starts to perform badly at work, but when she tries to contact Bill, Bill refuses to talk to her.\\r\\nCarole loses her job as a result of her drinking and apparently begins spending a lot of time with Bill in his apartment. One evening, while alone in Bill's apartment, Carole gets drunk, passes out, and falls and hits her head on the arm of a couch, which renders her even more unconscious. Her necklace (a sturdy affair, designed to look like a snake) gets caught on the arm of the couch and she strangles as she is slumped over the side of the couch. Eventually, the necklace slips loose and Carole's body falls to the floor. Much later, Bill comes in, drunk, after work. He sees Carole on the floor, thinks that she is merely drunk and passed-out on the floor, and himself falls into bed.\\r\\nIn the next scene we discover that Bill is on trial, accused of killing Rogers. Ann knows that Bill must be innocent, and wants desperately to defend him. Judge Bingham warns Bill that his case looks very bad, but if he will allow Ann to defend him he will at least have the advantage of a passionately motivated defense attorney. Bingham persuades Bill to allow Ann to act as his defense attorney.\\r\\nThe prosecuting attorney's case is built on circumstantial evidence and his depiction of Bill's character. Key to the prosecution's case is its portrayal of Ann as a saintly (beautiful, talented, loving) and wronged wife, and of Bill as a playboy, drunk, and loafer who left his loving wife for a floozie, quit his job to live off of his wife's money, and gave up hard work to live a life of ease as a nightclub crooner.\\r\\nIn her speech to the jury, Ann first points out that it is highly unlikely that Bill killed Carole\\u2014he had no motive for killing her. Then, from personal knowledge, she contests the prosecution's depictions of her as the saintly wronged party. Instead, she says, Bill was the wronged party. She had been obsessed with money and fame and drove him away. She deeply regrets it, she says, and hopes that in this\\u2014the last trial of her career\\u2014she can convince the jury of Bill's innocence. In the last scene of the movie, we see Ann and Bill at home together, a happily married couple living in a nice house. We see that Bill has been acquitted, Ann has given up her career, and Bill has become a successful architect with projects showcased in Vanity Fair and House and Garden.[2]\",\n          \"Dr. Gayatri (Bipasha Basu) is an Indian American paranormal researcher at University of California, researching esoteric practices such as voodoo, spirit possession, magic and healing powers. She seeks the hidden knowledge that goes into such practices, the knowledge that cannot be explained by science or logic.\\r\\nHer search for answers brings her and her team of scientists to India. She comes across Varun (Sanjay Dutt) a man who is gifted with special intuitive and healing powers which he claims to have developed through meditation. He is a blend of Indian philosophy and modern culture, a master at martial arts and a devotee of Lord Hanuman. He worships and trains by day, while working as a bouncer at a club by night. Gayatri is immediately impressed by Varun\\u2019s powers to take away pain and disease from people and cure them. He becomes the subject of her study.\\r\\nAfter a few experiments by Gayatri, Varun has an insight about the existence of a dark power that is hidden. He explains that the force is linked to Ravana's Rudraksh, which is hidden away from the world. This is not a normal Rudraksh - it carries in its seed the powers that can transmute humans into new species. The bearer of this Rudraksh will have supernatural powers beyond imagination. In the language of science, it is a 'multi-dimensional hologram' in the form of a seed. Meanwhile, Bhuria (Sunil Shetty), a Rakshasa, mentally communicates with Varun, so they can share their abilities since neither of them can utilize full power of the Rudraksha alone. Varun, refuses but Bhuria continues his attempts to join their powers and manipulate Varun.\\r\\nGayatri finds about a set of strange words which cause changes in people when spoken. She tests the effects of those sounds on a rat, and notices strange mutations and changes in functioning of the rat's body. Suzy, Gayatri's research assistant, hears those sounds directly, becomes possessed and starts working for Bhuria. Suzy tries to kill Gayatri, but Varun over powers her and saves Gayatri, after which Suzy dies while trying to escape.\\r\\nVarun and Gayatri thus set out to discover this Rudraksh, the reality of Bhuria and also find certain answers for Varun's own self. Their perilous journey leafs through the most rugged terrains of the Himalayas to the mysterious ruins of the legendary King Ravana's palaces in Yala, Sri Lanka.\\r\\nHe thus finds how Bhuria, a poor but wild and arrogant labor contractor in excavation team of the Rudraksha, transformed into a powerful Rakshasha & possessor of supernatural powers, that the words spoken by the madman were actually an ancient verse, a Rakshasha mantra, and that the real aim of Bhuria is to use the Rudraksha and Rakshasha mantra for spreading evil and hatred in the world, thus effectively restoring the rule of rakshashas once more.\\r\\nIt thus, once more becomes a battle of good vs. evil, where either must overcome the other.\",\n          \"The story is about two people who come to the house of a rich, elderly woman whose nephew is planning to rob her of her riches. Before they go any further, they must get past a number of cats that seem to know what is going on, then the old woman.\"\n        ],\n        \"semantic_type\": \"\",\n        \"description\": \"\"\n      }\n    }\n  ]\n}"
            }
          },
          "metadata": {},
          "execution_count": 38
        }
      ],
      "source": [
        "import pandas as pd\n",
        "import torch\n",
        "\n",
        "movies_data = pd.read_csv(\"data/movies.csv\").drop(columns=[\"Release Year\", \"Origin/Ethnicity\", \"Director\", \"Cast\", \"Wiki Page\"])\n",
        "genre_is_unknown = movies_data[\"Genre\"].isin([\"Unknown\", \"unknown\"])\n",
        "movies_data = movies_data[~genre_is_unknown].reset_index(drop=True)\n",
        "movies_data.head()"
      ]
    },
    {
      "cell_type": "code",
      "source": [
        "print(f\"Total number of movies: {len(movies_data)}\")\n",
        "print(f\"Total number of genres: {len(movies_data['Genre'].unique())}\")\n",
        "print(f\"Genres: {movies_data['Genre'].unique()}\")\n",
        "print(f\"Example plot: {movies_data['Plot'][0]}\")"
      ],
      "metadata": {
        "colab": {
          "base_uri": "https://localhost:8080/"
        },
        "id": "Q4EhJYTBJpEs",
        "outputId": "163af3f0-74b1-407e-a998-9ca7a1bd6d26"
      },
      "execution_count": null,
      "outputs": [
        {
          "output_type": "stream",
          "name": "stdout",
          "text": [
            "Total number of movies: 28803\n",
            "Total number of genres: 2264\n",
            "Genres: ['western' 'comedy' 'short' ... 'adventure, romance, fantasy film' 'ero'\n",
            " 'horror romantic comedy']\n",
            "Example plot: The film opens with two bandits breaking into a railroad telegraph office, where they force the operator at gunpoint to have a train stopped and to transmit orders for the engineer to fill the locomotive's tender at the station's water tank. They then knock the operator out and tie him up. As the train stops it is boarded by the bandits‍—‌now four. Two bandits enter an express car, kill a messenger and open a box of valuables with dynamite; the others kill the fireman and force the engineer to halt the train and disconnect the locomotive. The bandits then force the passengers off the train and rifle them for their belongings. One passenger tries to escape but is instantly shot down. Carrying their loot, the bandits escape in the locomotive, later stopping in a valley where their horses had been left.\r\n",
            "Meanwhile, back in the telegraph office, the bound operator awakens, but he collapses again. His daughter arrives bringing him his meal and cuts him free, and restores him to consciousness by dousing him with water.\r\n",
            "There is some comic relief at a dance hall, where an Eastern stranger is forced to dance while the locals fire at his feet. The door suddenly opens and the telegraph operator rushes in to tell them of the robbery. The men quickly form a posse, which overtakes the bandits, and in a final shootout kills them all and recovers the stolen mail.\n"
          ]
        }
      ]
    },
    {
      "cell_type": "markdown",
      "metadata": {
        "id": "-o12p5dYQy34"
      },
      "source": [
        "#### Simplifying the text\n",
        "\n",
        "Looking at the data, we can see that the genre label for each film can contain multiple different genres. This is a bit complicated for what we want to do here, so we simplify them below.\n",
        "\n"
      ]
    },
    {
      "cell_type": "code",
      "execution_count": null,
      "metadata": {
        "id": "-0Ho7jKkQzZG",
        "colab": {
          "base_uri": "https://localhost:8080/"
        },
        "outputId": "153ed9a6-e69a-4913-f28a-0de56567ae41"
      },
      "outputs": [
        {
          "output_type": "execute_result",
          "data": {
            "text/plain": [
              "                                               Title    Genre  \\\n",
              "0                            The Great Train Robbery  western   \n",
              "1                                    The Suburbanite   comedy   \n",
              "2                           Dream of a Rarebit Fiend    other   \n",
              "3  From Leadville to Aspen: A Hold-Up in the Rockies  western   \n",
              "4                                Kathleen Mavourneen    other   \n",
              "\n",
              "                                                Plot  \n",
              "0  The film opens with two bandits breaking into ...  \n",
              "1  The film is about a family who move to the sub...  \n",
              "2  The Rarebit Fiend gorges on Welsh rarebit at a...  \n",
              "3  The film features a train traveling through th...  \n",
              "4  Irish villager Kathleen is a tenant of Captain...  "
            ],
            "text/html": [
              "\n",
              "  <div id=\"df-d304805f-6d84-4c99-a1b6-be7fa3d068e7\" class=\"colab-df-container\">\n",
              "    <div>\n",
              "<style scoped>\n",
              "    .dataframe tbody tr th:only-of-type {\n",
              "        vertical-align: middle;\n",
              "    }\n",
              "\n",
              "    .dataframe tbody tr th {\n",
              "        vertical-align: top;\n",
              "    }\n",
              "\n",
              "    .dataframe thead th {\n",
              "        text-align: right;\n",
              "    }\n",
              "</style>\n",
              "<table border=\"1\" class=\"dataframe\">\n",
              "  <thead>\n",
              "    <tr style=\"text-align: right;\">\n",
              "      <th></th>\n",
              "      <th>Title</th>\n",
              "      <th>Genre</th>\n",
              "      <th>Plot</th>\n",
              "    </tr>\n",
              "  </thead>\n",
              "  <tbody>\n",
              "    <tr>\n",
              "      <th>0</th>\n",
              "      <td>The Great Train Robbery</td>\n",
              "      <td>western</td>\n",
              "      <td>The film opens with two bandits breaking into ...</td>\n",
              "    </tr>\n",
              "    <tr>\n",
              "      <th>1</th>\n",
              "      <td>The Suburbanite</td>\n",
              "      <td>comedy</td>\n",
              "      <td>The film is about a family who move to the sub...</td>\n",
              "    </tr>\n",
              "    <tr>\n",
              "      <th>2</th>\n",
              "      <td>Dream of a Rarebit Fiend</td>\n",
              "      <td>other</td>\n",
              "      <td>The Rarebit Fiend gorges on Welsh rarebit at a...</td>\n",
              "    </tr>\n",
              "    <tr>\n",
              "      <th>3</th>\n",
              "      <td>From Leadville to Aspen: A Hold-Up in the Rockies</td>\n",
              "      <td>western</td>\n",
              "      <td>The film features a train traveling through th...</td>\n",
              "    </tr>\n",
              "    <tr>\n",
              "      <th>4</th>\n",
              "      <td>Kathleen Mavourneen</td>\n",
              "      <td>other</td>\n",
              "      <td>Irish villager Kathleen is a tenant of Captain...</td>\n",
              "    </tr>\n",
              "  </tbody>\n",
              "</table>\n",
              "</div>\n",
              "    <div class=\"colab-df-buttons\">\n",
              "\n",
              "  <div class=\"colab-df-container\">\n",
              "    <button class=\"colab-df-convert\" onclick=\"convertToInteractive('df-d304805f-6d84-4c99-a1b6-be7fa3d068e7')\"\n",
              "            title=\"Convert this dataframe to an interactive table.\"\n",
              "            style=\"display:none;\">\n",
              "\n",
              "  <svg xmlns=\"http://www.w3.org/2000/svg\" height=\"24px\" viewBox=\"0 -960 960 960\">\n",
              "    <path d=\"M120-120v-720h720v720H120Zm60-500h600v-160H180v160Zm220 220h160v-160H400v160Zm0 220h160v-160H400v160ZM180-400h160v-160H180v160Zm440 0h160v-160H620v160ZM180-180h160v-160H180v160Zm440 0h160v-160H620v160Z\"/>\n",
              "  </svg>\n",
              "    </button>\n",
              "\n",
              "  <style>\n",
              "    .colab-df-container {\n",
              "      display:flex;\n",
              "      gap: 12px;\n",
              "    }\n",
              "\n",
              "    .colab-df-convert {\n",
              "      background-color: #E8F0FE;\n",
              "      border: none;\n",
              "      border-radius: 50%;\n",
              "      cursor: pointer;\n",
              "      display: none;\n",
              "      fill: #1967D2;\n",
              "      height: 32px;\n",
              "      padding: 0 0 0 0;\n",
              "      width: 32px;\n",
              "    }\n",
              "\n",
              "    .colab-df-convert:hover {\n",
              "      background-color: #E2EBFA;\n",
              "      box-shadow: 0px 1px 2px rgba(60, 64, 67, 0.3), 0px 1px 3px 1px rgba(60, 64, 67, 0.15);\n",
              "      fill: #174EA6;\n",
              "    }\n",
              "\n",
              "    .colab-df-buttons div {\n",
              "      margin-bottom: 4px;\n",
              "    }\n",
              "\n",
              "    [theme=dark] .colab-df-convert {\n",
              "      background-color: #3B4455;\n",
              "      fill: #D2E3FC;\n",
              "    }\n",
              "\n",
              "    [theme=dark] .colab-df-convert:hover {\n",
              "      background-color: #434B5C;\n",
              "      box-shadow: 0px 1px 3px 1px rgba(0, 0, 0, 0.15);\n",
              "      filter: drop-shadow(0px 1px 2px rgba(0, 0, 0, 0.3));\n",
              "      fill: #FFFFFF;\n",
              "    }\n",
              "  </style>\n",
              "\n",
              "    <script>\n",
              "      const buttonEl =\n",
              "        document.querySelector('#df-d304805f-6d84-4c99-a1b6-be7fa3d068e7 button.colab-df-convert');\n",
              "      buttonEl.style.display =\n",
              "        google.colab.kernel.accessAllowed ? 'block' : 'none';\n",
              "\n",
              "      async function convertToInteractive(key) {\n",
              "        const element = document.querySelector('#df-d304805f-6d84-4c99-a1b6-be7fa3d068e7');\n",
              "        const dataTable =\n",
              "          await google.colab.kernel.invokeFunction('convertToInteractive',\n",
              "                                                    [key], {});\n",
              "        if (!dataTable) return;\n",
              "\n",
              "        const docLinkHtml = 'Like what you see? Visit the ' +\n",
              "          '<a target=\"_blank\" href=https://colab.research.google.com/notebooks/data_table.ipynb>data table notebook</a>'\n",
              "          + ' to learn more about interactive tables.';\n",
              "        element.innerHTML = '';\n",
              "        dataTable['output_type'] = 'display_data';\n",
              "        await google.colab.output.renderOutput(dataTable, element);\n",
              "        const docLink = document.createElement('div');\n",
              "        docLink.innerHTML = docLinkHtml;\n",
              "        element.appendChild(docLink);\n",
              "      }\n",
              "    </script>\n",
              "  </div>\n",
              "\n",
              "\n",
              "<div id=\"df-452ff4bf-5d91-4788-95a3-0eab467bd99e\">\n",
              "  <button class=\"colab-df-quickchart\" onclick=\"quickchart('df-452ff4bf-5d91-4788-95a3-0eab467bd99e')\"\n",
              "            title=\"Suggest charts\"\n",
              "            style=\"display:none;\">\n",
              "\n",
              "<svg xmlns=\"http://www.w3.org/2000/svg\" height=\"24px\"viewBox=\"0 0 24 24\"\n",
              "     width=\"24px\">\n",
              "    <g>\n",
              "        <path d=\"M19 3H5c-1.1 0-2 .9-2 2v14c0 1.1.9 2 2 2h14c1.1 0 2-.9 2-2V5c0-1.1-.9-2-2-2zM9 17H7v-7h2v7zm4 0h-2V7h2v10zm4 0h-2v-4h2v4z\"/>\n",
              "    </g>\n",
              "</svg>\n",
              "  </button>\n",
              "\n",
              "<style>\n",
              "  .colab-df-quickchart {\n",
              "      --bg-color: #E8F0FE;\n",
              "      --fill-color: #1967D2;\n",
              "      --hover-bg-color: #E2EBFA;\n",
              "      --hover-fill-color: #174EA6;\n",
              "      --disabled-fill-color: #AAA;\n",
              "      --disabled-bg-color: #DDD;\n",
              "  }\n",
              "\n",
              "  [theme=dark] .colab-df-quickchart {\n",
              "      --bg-color: #3B4455;\n",
              "      --fill-color: #D2E3FC;\n",
              "      --hover-bg-color: #434B5C;\n",
              "      --hover-fill-color: #FFFFFF;\n",
              "      --disabled-bg-color: #3B4455;\n",
              "      --disabled-fill-color: #666;\n",
              "  }\n",
              "\n",
              "  .colab-df-quickchart {\n",
              "    background-color: var(--bg-color);\n",
              "    border: none;\n",
              "    border-radius: 50%;\n",
              "    cursor: pointer;\n",
              "    display: none;\n",
              "    fill: var(--fill-color);\n",
              "    height: 32px;\n",
              "    padding: 0;\n",
              "    width: 32px;\n",
              "  }\n",
              "\n",
              "  .colab-df-quickchart:hover {\n",
              "    background-color: var(--hover-bg-color);\n",
              "    box-shadow: 0 1px 2px rgba(60, 64, 67, 0.3), 0 1px 3px 1px rgba(60, 64, 67, 0.15);\n",
              "    fill: var(--button-hover-fill-color);\n",
              "  }\n",
              "\n",
              "  .colab-df-quickchart-complete:disabled,\n",
              "  .colab-df-quickchart-complete:disabled:hover {\n",
              "    background-color: var(--disabled-bg-color);\n",
              "    fill: var(--disabled-fill-color);\n",
              "    box-shadow: none;\n",
              "  }\n",
              "\n",
              "  .colab-df-spinner {\n",
              "    border: 2px solid var(--fill-color);\n",
              "    border-color: transparent;\n",
              "    border-bottom-color: var(--fill-color);\n",
              "    animation:\n",
              "      spin 1s steps(1) infinite;\n",
              "  }\n",
              "\n",
              "  @keyframes spin {\n",
              "    0% {\n",
              "      border-color: transparent;\n",
              "      border-bottom-color: var(--fill-color);\n",
              "      border-left-color: var(--fill-color);\n",
              "    }\n",
              "    20% {\n",
              "      border-color: transparent;\n",
              "      border-left-color: var(--fill-color);\n",
              "      border-top-color: var(--fill-color);\n",
              "    }\n",
              "    30% {\n",
              "      border-color: transparent;\n",
              "      border-left-color: var(--fill-color);\n",
              "      border-top-color: var(--fill-color);\n",
              "      border-right-color: var(--fill-color);\n",
              "    }\n",
              "    40% {\n",
              "      border-color: transparent;\n",
              "      border-right-color: var(--fill-color);\n",
              "      border-top-color: var(--fill-color);\n",
              "    }\n",
              "    60% {\n",
              "      border-color: transparent;\n",
              "      border-right-color: var(--fill-color);\n",
              "    }\n",
              "    80% {\n",
              "      border-color: transparent;\n",
              "      border-right-color: var(--fill-color);\n",
              "      border-bottom-color: var(--fill-color);\n",
              "    }\n",
              "    90% {\n",
              "      border-color: transparent;\n",
              "      border-bottom-color: var(--fill-color);\n",
              "    }\n",
              "  }\n",
              "</style>\n",
              "\n",
              "  <script>\n",
              "    async function quickchart(key) {\n",
              "      const quickchartButtonEl =\n",
              "        document.querySelector('#' + key + ' button');\n",
              "      quickchartButtonEl.disabled = true;  // To prevent multiple clicks.\n",
              "      quickchartButtonEl.classList.add('colab-df-spinner');\n",
              "      try {\n",
              "        const charts = await google.colab.kernel.invokeFunction(\n",
              "            'suggestCharts', [key], {});\n",
              "      } catch (error) {\n",
              "        console.error('Error during call to suggestCharts:', error);\n",
              "      }\n",
              "      quickchartButtonEl.classList.remove('colab-df-spinner');\n",
              "      quickchartButtonEl.classList.add('colab-df-quickchart-complete');\n",
              "    }\n",
              "    (() => {\n",
              "      let quickchartButtonEl =\n",
              "        document.querySelector('#df-452ff4bf-5d91-4788-95a3-0eab467bd99e button');\n",
              "      quickchartButtonEl.style.display =\n",
              "        google.colab.kernel.accessAllowed ? 'block' : 'none';\n",
              "    })();\n",
              "  </script>\n",
              "</div>\n",
              "\n",
              "    </div>\n",
              "  </div>\n"
            ],
            "application/vnd.google.colaboratory.intrinsic+json": {
              "type": "dataframe",
              "variable_name": "movies_data",
              "summary": "{\n  \"name\": \"movies_data\",\n  \"rows\": 28803,\n  \"fields\": [\n    {\n      \"column\": \"Title\",\n      \"properties\": {\n        \"dtype\": \"string\",\n        \"num_unique_values\": 27084,\n        \"samples\": [\n          \"Marine 3: Homefront, TheThe Marine 3: Homefront\",\n          \"A Lady Takes a Chance\",\n          \"Walking Across Egypt\"\n        ],\n        \"semantic_type\": \"\",\n        \"description\": \"\"\n      }\n    },\n    {\n      \"column\": \"Genre\",\n      \"properties\": {\n        \"dtype\": \"category\",\n        \"num_unique_values\": 16,\n        \"samples\": [\n          \"western\",\n          \"comedy\",\n          \"adventure\"\n        ],\n        \"semantic_type\": \"\",\n        \"description\": \"\"\n      }\n    },\n    {\n      \"column\": \"Plot\",\n      \"properties\": {\n        \"dtype\": \"string\",\n        \"num_unique_values\": 28351,\n        \"samples\": [\n          \"Ann Carver (Fay Wray) and Bill Graham (Gene Raymond) are college sweethearts who graduate, marry, and go to work. There are major differences in their career success. Ann has a lawyer's degree, and goes to work at the law firm of retired Judge Bingham. On the other hand, Bill, who in college was a campus football star and voted \\\"Most Popular Man on Campus\\\", lands a low-level job in an architectural firm. She scores a sensational success with her first case (see below) and receives a check for $5000 from her rich client, Harrison. This sets the stage for marital problems, because the very same day that she gets the check for $5000, her husband receives notice of a big raise at work \\u2014 $10.\\r\\nAnn quickly becomes a famous and wealthy lawyer, while husband Bill continues to slog along as a low-level wage slave. The two realize, and discuss, the strain that the disparity in their incomes is placing on the marriage. They resolve to work harder at their marriage, but it immediately becomes clear that the demands of her job will make it difficult for Ann to tear herself from work. There is also a scene in which Ann resents the fact that Bill will not accompany her to a dinner party because he has to go to work. Eventually, disgusted with the paltriness of his income as compared to his wife's success, Bill quits his job as an architect and\\u2014in hopes of hitting the big time as a singer\\u2014becomes a \\\"crooner\\\" at the Mirador, a friend's nightclub.\\r\\nWhile working at the club, Bill begins to drink heavily and becomes involved with alcoholic female singer Carole Rodgers (Claire Dodd). In a scene at the Mirador, Ann and a group of friends observe Carole giving Bill a kiss. In fury, Ann throws a handful of change at Bill and stalks out. That seals the rupture in their marriage. Ann misses Bill deeply, and becomes distracted and starts to perform badly at work, but when she tries to contact Bill, Bill refuses to talk to her.\\r\\nCarole loses her job as a result of her drinking and apparently begins spending a lot of time with Bill in his apartment. One evening, while alone in Bill's apartment, Carole gets drunk, passes out, and falls and hits her head on the arm of a couch, which renders her even more unconscious. Her necklace (a sturdy affair, designed to look like a snake) gets caught on the arm of the couch and she strangles as she is slumped over the side of the couch. Eventually, the necklace slips loose and Carole's body falls to the floor. Much later, Bill comes in, drunk, after work. He sees Carole on the floor, thinks that she is merely drunk and passed-out on the floor, and himself falls into bed.\\r\\nIn the next scene we discover that Bill is on trial, accused of killing Rogers. Ann knows that Bill must be innocent, and wants desperately to defend him. Judge Bingham warns Bill that his case looks very bad, but if he will allow Ann to defend him he will at least have the advantage of a passionately motivated defense attorney. Bingham persuades Bill to allow Ann to act as his defense attorney.\\r\\nThe prosecuting attorney's case is built on circumstantial evidence and his depiction of Bill's character. Key to the prosecution's case is its portrayal of Ann as a saintly (beautiful, talented, loving) and wronged wife, and of Bill as a playboy, drunk, and loafer who left his loving wife for a floozie, quit his job to live off of his wife's money, and gave up hard work to live a life of ease as a nightclub crooner.\\r\\nIn her speech to the jury, Ann first points out that it is highly unlikely that Bill killed Carole\\u2014he had no motive for killing her. Then, from personal knowledge, she contests the prosecution's depictions of her as the saintly wronged party. Instead, she says, Bill was the wronged party. She had been obsessed with money and fame and drove him away. She deeply regrets it, she says, and hopes that in this\\u2014the last trial of her career\\u2014she can convince the jury of Bill's innocence. In the last scene of the movie, we see Ann and Bill at home together, a happily married couple living in a nice house. We see that Bill has been acquitted, Ann has given up her career, and Bill has become a successful architect with projects showcased in Vanity Fair and House and Garden.[2]\",\n          \"Dr. Gayatri (Bipasha Basu) is an Indian American paranormal researcher at University of California, researching esoteric practices such as voodoo, spirit possession, magic and healing powers. She seeks the hidden knowledge that goes into such practices, the knowledge that cannot be explained by science or logic.\\r\\nHer search for answers brings her and her team of scientists to India. She comes across Varun (Sanjay Dutt) a man who is gifted with special intuitive and healing powers which he claims to have developed through meditation. He is a blend of Indian philosophy and modern culture, a master at martial arts and a devotee of Lord Hanuman. He worships and trains by day, while working as a bouncer at a club by night. Gayatri is immediately impressed by Varun\\u2019s powers to take away pain and disease from people and cure them. He becomes the subject of her study.\\r\\nAfter a few experiments by Gayatri, Varun has an insight about the existence of a dark power that is hidden. He explains that the force is linked to Ravana's Rudraksh, which is hidden away from the world. This is not a normal Rudraksh - it carries in its seed the powers that can transmute humans into new species. The bearer of this Rudraksh will have supernatural powers beyond imagination. In the language of science, it is a 'multi-dimensional hologram' in the form of a seed. Meanwhile, Bhuria (Sunil Shetty), a Rakshasa, mentally communicates with Varun, so they can share their abilities since neither of them can utilize full power of the Rudraksha alone. Varun, refuses but Bhuria continues his attempts to join their powers and manipulate Varun.\\r\\nGayatri finds about a set of strange words which cause changes in people when spoken. She tests the effects of those sounds on a rat, and notices strange mutations and changes in functioning of the rat's body. Suzy, Gayatri's research assistant, hears those sounds directly, becomes possessed and starts working for Bhuria. Suzy tries to kill Gayatri, but Varun over powers her and saves Gayatri, after which Suzy dies while trying to escape.\\r\\nVarun and Gayatri thus set out to discover this Rudraksh, the reality of Bhuria and also find certain answers for Varun's own self. Their perilous journey leafs through the most rugged terrains of the Himalayas to the mysterious ruins of the legendary King Ravana's palaces in Yala, Sri Lanka.\\r\\nHe thus finds how Bhuria, a poor but wild and arrogant labor contractor in excavation team of the Rudraksha, transformed into a powerful Rakshasha & possessor of supernatural powers, that the words spoken by the madman were actually an ancient verse, a Rakshasha mantra, and that the real aim of Bhuria is to use the Rudraksha and Rakshasha mantra for spreading evil and hatred in the world, thus effectively restoring the rule of rakshashas once more.\\r\\nIt thus, once more becomes a battle of good vs. evil, where either must overcome the other.\",\n          \"The story is about two people who come to the house of a rich, elderly woman whose nephew is planning to rob her of her riches. Before they go any further, they must get past a number of cats that seem to know what is going on, then the old woman.\"\n        ],\n        \"semantic_type\": \"\",\n        \"description\": \"\"\n      }\n    }\n  ]\n}"
            }
          },
          "metadata": {},
          "execution_count": 40
        }
      ],
      "source": [
        "import re\n",
        "from collections import OrderedDict\n",
        "\n",
        "def simplify_genre(genre):\n",
        "    genre_map = OrderedDict([\n",
        "        ((\"docu\", \"nature\"), \"documentary\"),\n",
        "        ((\"western\", \"cowboy\"), \"western\"),\n",
        "        ((\"sci\",), \"scifi\"),\n",
        "        ((\"horror\", \"slasher\"), \"horror\"),\n",
        "        ((\"rom\", \"love\"), \"romance\"),\n",
        "        ((\"bio\",), \"bio\"),\n",
        "        ((\"fantasy\",), \"fantasy\"),\n",
        "        ((\"crime\",), \"crime\"),\n",
        "        ((\"thriller\", \"mystery\", \"spy\", \"suspense\", \"detective\"), \"thriller\"),\n",
        "        ((\"action\", \"superhero\", \"martial\"), \"action\"),\n",
        "        ((\"adventure\",), \"adventure\"),\n",
        "        ((\"war\",), \"war\"),\n",
        "        ((\"anim\", \"cartoon\"), \"animation\"),\n",
        "        ((\"com\", \"satire\", \"parody\"), \"comedy\"),\n",
        "        ((\"drama\",), \"drama\"),\n",
        "    ])\n",
        "    for keywords, category in genre_map.items():\n",
        "        if any(keyword in genre for keyword in keywords):\n",
        "            return category\n",
        "    return \"other\"\n",
        "\n",
        "movies_data[\"Genre\"] = movies_data[\"Genre\"].apply(simplify_genre)\n",
        "movies_data.head()"
      ]
    },
    {
      "cell_type": "markdown",
      "source": [
        "The plot summaries are also very long; we're going to truncate them to speed up execution for this lab.\n"
      ],
      "metadata": {
        "id": "BHxqo9lpdXTr"
      }
    },
    {
      "cell_type": "code",
      "source": [
        "max_n_words = 100\n",
        "movies_data[\"Plot\"] = movies_data[\"Plot\"].map(lambda x: ' '.join(x.split()[:max_n_words]) if len(x.split()) > max_n_words else x)"
      ],
      "metadata": {
        "id": "sQ13wJgzeL9-"
      },
      "execution_count": null,
      "outputs": []
    },
    {
      "cell_type": "code",
      "source": [
        "movies_data[\"Plot\"]"
      ],
      "metadata": {
        "colab": {
          "base_uri": "https://localhost:8080/"
        },
        "id": "WW3qi7PVeQhr",
        "outputId": "9a3ac3a3-4476-4fe6-db23-e8a401506bee"
      },
      "execution_count": null,
      "outputs": [
        {
          "output_type": "execute_result",
          "data": {
            "text/plain": [
              "0        The film opens with two bandits breaking into ...\n",
              "1        The film is about a family who move to the sub...\n",
              "2        The Rarebit Fiend gorges on Welsh rarebit at a...\n",
              "3        The film features a train traveling through th...\n",
              "4        Irish villager Kathleen is a tenant of Captain...\n",
              "                               ...                        \n",
              "28798    Zeynep lost her job at weaving factory, and he...\n",
              "28799    Two musicians, Salih and Gürkan, described the...\n",
              "28800    Zafer, a sailor living with his mother Döndü i...\n",
              "28801    The film centres around a young woman named Am...\n",
              "28802    The writer Orhan Şahin returns to İstanbul aft...\n",
              "Name: Plot, Length: 28803, dtype: object"
            ],
            "text/html": [
              "<div>\n",
              "<style scoped>\n",
              "    .dataframe tbody tr th:only-of-type {\n",
              "        vertical-align: middle;\n",
              "    }\n",
              "\n",
              "    .dataframe tbody tr th {\n",
              "        vertical-align: top;\n",
              "    }\n",
              "\n",
              "    .dataframe thead th {\n",
              "        text-align: right;\n",
              "    }\n",
              "</style>\n",
              "<table border=\"1\" class=\"dataframe\">\n",
              "  <thead>\n",
              "    <tr style=\"text-align: right;\">\n",
              "      <th></th>\n",
              "      <th>Plot</th>\n",
              "    </tr>\n",
              "  </thead>\n",
              "  <tbody>\n",
              "    <tr>\n",
              "      <th>0</th>\n",
              "      <td>The film opens with two bandits breaking into ...</td>\n",
              "    </tr>\n",
              "    <tr>\n",
              "      <th>1</th>\n",
              "      <td>The film is about a family who move to the sub...</td>\n",
              "    </tr>\n",
              "    <tr>\n",
              "      <th>2</th>\n",
              "      <td>The Rarebit Fiend gorges on Welsh rarebit at a...</td>\n",
              "    </tr>\n",
              "    <tr>\n",
              "      <th>3</th>\n",
              "      <td>The film features a train traveling through th...</td>\n",
              "    </tr>\n",
              "    <tr>\n",
              "      <th>4</th>\n",
              "      <td>Irish villager Kathleen is a tenant of Captain...</td>\n",
              "    </tr>\n",
              "    <tr>\n",
              "      <th>...</th>\n",
              "      <td>...</td>\n",
              "    </tr>\n",
              "    <tr>\n",
              "      <th>28798</th>\n",
              "      <td>Zeynep lost her job at weaving factory, and he...</td>\n",
              "    </tr>\n",
              "    <tr>\n",
              "      <th>28799</th>\n",
              "      <td>Two musicians, Salih and Gürkan, described the...</td>\n",
              "    </tr>\n",
              "    <tr>\n",
              "      <th>28800</th>\n",
              "      <td>Zafer, a sailor living with his mother Döndü i...</td>\n",
              "    </tr>\n",
              "    <tr>\n",
              "      <th>28801</th>\n",
              "      <td>The film centres around a young woman named Am...</td>\n",
              "    </tr>\n",
              "    <tr>\n",
              "      <th>28802</th>\n",
              "      <td>The writer Orhan Şahin returns to İstanbul aft...</td>\n",
              "    </tr>\n",
              "  </tbody>\n",
              "</table>\n",
              "<p>28803 rows × 1 columns</p>\n",
              "</div><br><label><b>dtype:</b> object</label>"
            ]
          },
          "metadata": {},
          "execution_count": 42
        }
      ]
    },
    {
      "cell_type": "markdown",
      "source": [
        "#### Inspecting the data 📝"
      ],
      "metadata": {
        "id": "JOcJNA-WYSeX"
      }
    },
    {
      "cell_type": "markdown",
      "source": [
        "It's often useful to visualise the data before you pipe it into an ML model. This could help you understand some of the behaviour of the trained model, or inform choices about architecture such as layer width.\n",
        "\n",
        "📝 **In the cell below, plot a bar chart of the genres in the database against the number of times they appear.**"
      ],
      "metadata": {
        "id": "tuRzA00qYUZ3"
      }
    },
    {
      "cell_type": "code",
      "source": [
        "import matplotlib.pyplot as plt\n",
        "\n",
        "# TODO: Plot a bar chart of the genres against their counts\n",
        "# ...\n",
        "counts = movies_data[\"Genre\"].value_counts()\n",
        "plt.barh(counts.index, counts.array)\n",
        "plt.ylabel(\"Genre\")\n",
        "plt.xlabel(\"Count\")"
      ],
      "metadata": {
        "colab": {
          "base_uri": "https://localhost:8080/"
        },
        "id": "YYgH-vLNNDna",
        "outputId": "20adbcf0-b9d0-43e7-95c9-22db0ea49cde"
      },
      "execution_count": null,
      "outputs": [
        {
          "output_type": "execute_result",
          "data": {
            "text/plain": [
              "Text(0.5, 0, 'Count')"
            ]
          },
          "metadata": {},
          "execution_count": 43
        },
        {
          "output_type": "display_data",
          "data": {
            "text/plain": [
              "<Figure size 640x480 with 1 Axes>"
            ],
            "image/png": "[encoded data removed]"
          },
          "metadata": {}
        }
      ]
    },
    {
      "cell_type": "markdown",
      "source": [
        "📝 **What do you notice? What effect might this have on our model?**"
      ],
      "metadata": {
        "id": "Av4FVSCXZAoB"
      }
    },
    {
      "cell_type": "code",
      "source": [
        "# TODO: Your answer here\n",
        "# ..."
      ],
      "metadata": {
        "id": "jGX7GMWCZD_4"
      },
      "execution_count": null,
      "outputs": []
    },
    {
      "cell_type": "markdown",
      "source": [
        "#### Selecting a subset of the data\n",
        "\n",
        "Because this is quite a big dataset, we're going to downsample to make training a bit faster."
      ],
      "metadata": {
        "id": "3O9VnWqvhBZg"
      }
    },
    {
      "cell_type": "code",
      "source": [
        "movies_downsampled = movies_data.sample(frac=0.4, random_state=42)\n",
        "movies_downsampled.drop(movies_downsampled.loc[movies_downsampled['Genre']=='drama'].index, inplace=True)\n",
        "print(f\"Downsampled to {len(movies_downsampled)}\")"
      ],
      "metadata": {
        "colab": {
          "base_uri": "https://localhost:8080/"
        },
        "id": "Y3N2hZl6hRgT",
        "outputId": "60066d1f-c46b-4eb0-8924-9d9247dc7272"
      },
      "execution_count": null,
      "outputs": [
        {
          "output_type": "stream",
          "name": "stdout",
          "text": [
            "Downsampled to 8857\n"
          ]
        }
      ]
    },
    {
      "cell_type": "markdown",
      "metadata": {
        "id": "-DEQ_-B4RMe1"
      },
      "source": [
        "#### Tokenization & lemmatization 📝\n",
        "\n",
        "*Tokenization* is the process of splitting paragraphs and sentences into smaller units that can be more easily assigned meaning.\n",
        "\n",
        "*Lemmatization* is the process of grouping together the different forms of a word so that they can be analysed as a single item, identified by the word's lemma (dictionary form). For instance, in English, the verb 'watch' may appear as 'watch', 'watched', 'watches' or 'watching'. The base form, 'watch' is called the lemma for the word.\n"
      ]
    },
    {
      "cell_type": "markdown",
      "source": [
        "In the previous section on named entity recognition, we performed a very simple ad-hoc tokenization process - treating each word as an individual token.\n",
        "While this worked ok for the simple NER task, to do someting more beefy we're going to need to do full tokenization and lemmatization using an off-the-shelf pre-trained tokenizer and lemmatizer.\n",
        "\n",
        "We're using a model from SpaCy, a fairly straightforward library for simple NLP tasks. Running the SpaCy tokenizer takes a few minutes; in the next lab, you will use tokenizers from HuggingFace that are much more efficient.\n"
      ],
      "metadata": {
        "id": "MvH6ThU5Z3bb"
      }
    },
    {
      "cell_type": "code",
      "execution_count": null,
      "metadata": {
        "id": "TxyQIVq8Rdr7",
        "colab": {
          "base_uri": "https://localhost:8080/"
        },
        "outputId": "813ed449-32ea-4f57-98ef-75885fee555c"
      },
      "outputs": [
        {
          "output_type": "stream",
          "name": "stdout",
          "text": [
            "\u001b[38;5;2m✔ Download and installation successful\u001b[0m\n",
            "You can now load the package via spacy.load('en_core_web_md')\n",
            "\u001b[38;5;3m⚠ Restart to reload dependencies\u001b[0m\n",
            "If you are in a Jupyter or Colab notebook, you may need to restart Python in\n",
            "order to load all the package's dependencies. You can do this by selecting the\n",
            "'Restart kernel' or 'Restart runtime' option.\n"
          ]
        },
        {
          "output_type": "stream",
          "name": "stderr",
          "text": [
            "100%|██████████| 8857/8857 [02:24<00:00, 61.50it/s]\n"
          ]
        }
      ],
      "source": [
        "import spacy\n",
        "from tqdm import tqdm\n",
        "\n",
        "# Load a pretrained tokenizer\n",
        "spacy.cli.download(\"en_core_web_md\")\n",
        "tokenizer = spacy.load(\"en_core_web_md\")\n",
        "\n",
        "# Create an iterator that performs the tokenization and lemmatization\n",
        "movie_plots = tokenizer.pipe(movies_downsampled['Plot'], batch_size=128, n_process=1)\n",
        "\n",
        "n_movie_plots = len(movies_downsampled['Plot'])\n",
        "movie_plot_tokens_str = []\n",
        "\n",
        "# Iterate over all the synopses\n",
        "for synopsis in tqdm(movie_plots, total=n_movie_plots):\n",
        "    token_strs = []\n",
        "\n",
        "    # Iterate over all the tokens in this synopsis\n",
        "    for token in synopsis:\n",
        "        if token.is_alpha and not token.is_stop:\n",
        "            # Get the string version of the lemmatised token\n",
        "            token_strs.append(token.lemma_.lower())\n",
        "\n",
        "    movie_plot_tokens_str.append(token_strs)\n"
      ]
    },
    {
      "cell_type": "markdown",
      "source": [
        " 📝 **In the next cell, compare some of the movies' plots before and after tokenisation and lemmatization.**"
      ],
      "metadata": {
        "id": "3K4JE0Y40gKB"
      }
    },
    {
      "cell_type": "code",
      "execution_count": null,
      "metadata": {
        "id": "8piStJR2RhXX",
        "colab": {
          "base_uri": "https://localhost:8080/"
        },
        "outputId": "90aab00b-994f-4c94-acf0-9087ca77af47"
      },
      "outputs": [
        {
          "output_type": "stream",
          "name": "stdout",
          "text": [
            "Input:\t Bugs is spring cleaning until he notices a whole stampede of animals running away in fear. He manages to stop a turtle, who stat\n",
            "Tokenized and lemmatized: \t ['bugs', 'spring', 'cleaning', 'notice', 'stampede', 'animal', 'run', 'away', 'fear', 'manage']\n",
            "\n",
            "\n",
            "Input:\t Ravi (Vijay), a youth from Thoothukudi, aspires to become a policeman like his role model, Chennai-based Encounter Specialist DC\n",
            "Tokenized and lemmatized: \t ['ravi', 'vijay', 'youth', 'thoothukudi', 'aspire', 'policeman', 'like', 'role', 'model', 'chennai']\n",
            "\n",
            "\n",
            "Input:\t The film is a love story between a prince and a gypsy girl, based on a Parsi play written by Joseph David. David later served as\n",
            "Tokenized and lemmatized: \t ['film', 'love', 'story', 'prince', 'gypsy', 'girl', 'base', 'parsi', 'play', 'write']\n",
            "\n",
            "\n",
            "Input:\t In the slums of New York, on the East River just below the Queensboro Bridge, wealthy people live in opulent and luxurious apart\n",
            "Tokenized and lemmatized: \t ['slum', 'new', 'york', 'east', 'river', 'queensboro', 'bridge', 'wealthy', 'people', 'live']\n",
            "\n",
            "\n"
          ]
        }
      ],
      "source": [
        "# TODO: display some movie plot summaries before and after the tokenisation+lemmatization process\n",
        "# ...\n",
        "n_chars = 128\n",
        "n_tokens = 10\n",
        "\n",
        "for i in range(4):\n",
        "  print(\"Input:\\t\", movies_downsampled['Plot'].iloc[i][:n_chars])\n",
        "  print(\"Tokenized and lemmatized: \\t\", movie_plot_tokens_str[i][:n_tokens])\n",
        "  print(\"\\n\")"
      ]
    },
    {
      "cell_type": "markdown",
      "source": [
        " 📝 **What kinds of words have been removed? Which line of code is the cause of this?**\n",
        "\n",
        " 📝 **Give 3 examples of lemmatization. Which line of the code is the cause?**"
      ],
      "metadata": {
        "id": "6ReLazmsd8d9"
      }
    },
    {
      "cell_type": "code",
      "source": [
        "# TODO: Your answer here\n",
        "\n",
        "# Word removal:\n",
        "# ...\n",
        "\n",
        "# Lemmatisation:\n",
        "# ...\n",
        "# 1.\n",
        "# 2.\n",
        "# 3."
      ],
      "metadata": {
        "id": "jNXnH0zKedHs"
      },
      "execution_count": null,
      "outputs": []
    },
    {
      "cell_type": "markdown",
      "source": [
        "#### Input encoding 📝\n",
        "\n",
        "To improve the performance of our LSTM, we're going to use a pre-trained embedding layer. If we don't have to learn meaningful representations of the words *themselves* during training, more of the training time can be spent learning the relationships *between* the words."
      ],
      "metadata": {
        "id": "J1ZiO7a8fI4f"
      }
    },
    {
      "cell_type": "markdown",
      "source": [
        "We're going to use embeddings learnt using the `word2vec` algorithm, applied to a collection of data from Wikipedia. This should have a sufficiently wide vocabulary so that most the words in our movie summaries can be represented.\n",
        "\n",
        "*Note: downloading the embeddings can be a bit slow!*"
      ],
      "metadata": {
        "id": "tNQ4_xHyh6Xb"
      }
    },
    {
      "cell_type": "code",
      "source": [
        "from gensim.models import Word2Vec\n",
        "import gensim.downloader as api\n",
        "\n",
        "word2vec_embeddings = api.load('glove-wiki-gigaword-50')"
      ],
      "metadata": {
        "id": "50W15LYzh1OD",
        "colab": {
          "base_uri": "https://localhost:8080/"
        },
        "outputId": "39fc075a-1f52-4552-bc67-c18aa860bbca"
      },
      "execution_count": null,
      "outputs": [
        {
          "output_type": "stream",
          "name": "stdout",
          "text": [
            "[==================================================] 100.0% 66.0/66.0MB downloaded\n"
          ]
        }
      ]
    },
    {
      "cell_type": "markdown",
      "source": [
        "`word2vec` supplies the functions we need for encoding and embedding - it's effectively a big look-up table, mapping between words, token indices, and embedding vectors."
      ],
      "metadata": {
        "id": "TNeoH1jfjEL1"
      }
    },
    {
      "cell_type": "code",
      "source": [
        "print(\"'hello' has index\", word2vec_embeddings.get_index(\"hello\"), \"and vector embedding\",  word2vec_embeddings.get_vector(\"hello\"))\n",
        "print(f\"'{word2vec_embeddings.index_to_key[100]}' has index 100 and vector embedding\", word2vec_embeddings.get_vector(100))\n",
        "\n",
        "print(\"Embedding matrix is shape\", word2vec_embeddings.vectors.shape)"
      ],
      "metadata": {
        "colab": {
          "base_uri": "https://localhost:8080/"
        },
        "id": "c0mSLHzEkJnz",
        "outputId": "4f6b4998-1aea-43a1-d231-909b6a3adddd"
      },
      "execution_count": null,
      "outputs": [
        {
          "output_type": "stream",
          "name": "stdout",
          "text": [
            "'hello' has index 13075 and vector embedding [-0.38497   0.80092   0.064106 -0.28355  -0.026759 -0.34532  -0.64253\n",
            " -0.11729  -0.33257   0.55243  -0.087813  0.9035    0.47102   0.56657\n",
            "  0.6985   -0.35229  -0.86542   0.90573   0.03576  -0.071705 -0.12327\n",
            "  0.54923   0.47005   0.35572   1.2611   -0.67581  -0.94983   0.68666\n",
            "  0.3871   -1.3492    0.63512   0.46416  -0.48814   0.83827  -0.9246\n",
            " -0.33722   0.53741  -1.0616   -0.081403 -0.67111   0.30923  -0.3923\n",
            " -0.55002  -0.68827   0.58049  -0.11626   0.013139 -0.57654   0.048833\n",
            "  0.67204 ]\n",
            "'so' has index 100 and vector embedding [ 6.0308e-01 -3.2024e-01  8.8857e-02 -5.5176e-01  5.3182e-01  4.7069e-02\n",
            " -3.6246e-01  5.7018e-03 -3.7665e-01  2.2534e-01 -1.3534e-01  3.5988e-01\n",
            " -4.2518e-01  7.1324e-02  7.7065e-01  5.6712e-01  4.1226e-01  1.2451e-01\n",
            "  1.4230e-01 -9.6535e-01 -3.9053e-01  3.4199e-01  5.6969e-01  3.1635e-02\n",
            "  6.9465e-01 -1.9216e+00 -6.7118e-01  5.7971e-01  8.6088e-01 -5.9105e-01\n",
            "  3.7787e+00  3.0431e-01 -4.3103e-02 -4.2398e-01 -6.3915e-02 -6.6822e-02\n",
            "  6.1983e-02  5.6332e-01 -2.2335e-01 -4.7386e-01 -4.7021e-01  9.1714e-02\n",
            "  1.4778e-01  6.3805e-01 -1.4356e-01 -2.2928e-03 -3.1500e-01 -2.5187e-01\n",
            " -2.6879e-01  3.6657e-01]\n",
            "Embedding matrix is shape (400000, 50)\n"
          ]
        }
      ]
    },
    {
      "cell_type": "markdown",
      "source": [
        "📝 **Complete the code below to transform a sentence between string and index representations.**\n"
      ],
      "metadata": {
        "id": "6tW2yoPrkHut"
      }
    },
    {
      "cell_type": "code",
      "source": [
        "sentence = \"the quick brown fox jumped over the lazy dog\"\n",
        "\n",
        "# TODO: Complete the code\n",
        "# ...\n",
        "str_sequence = sentence.split()\n",
        "idx_sequence = [word2vec_embeddings.get_index(tok) for tok in str_sequence]\n",
        "reconstructed_str_sequence = [word2vec_embeddings.index_to_key[idx] for idx in idx_sequence]\n",
        "\n",
        "print(\"Original:\", str_sequence)\n",
        "print(\"Encoded:\", idx_sequence)\n",
        "print(\"Reconstructed: \", reconstructed_str_sequence)"
      ],
      "metadata": {
        "colab": {
          "base_uri": "https://localhost:8080/"
        },
        "id": "ZMfXs3GejBB0",
        "outputId": "611bb825-0ec5-4f0f-94e1-3a6e71c7f0fd"
      },
      "execution_count": null,
      "outputs": [
        {
          "output_type": "stream",
          "name": "stdout",
          "text": [
            "Original: ['the', 'quick', 'brown', 'fox', 'jumped', 'over', 'the', 'lazy', 'dog']\n",
            "Encoded: [0, 2582, 1042, 2106, 3450, 74, 0, 16531, 2926]\n",
            "Reconstructed:  ['the', 'quick', 'brown', 'fox', 'jumped', 'over', 'the', 'lazy', 'dog']\n"
          ]
        }
      ]
    },
    {
      "cell_type": "markdown",
      "source": [
        "However, as we now have a set of embeddings defined from an external source, we might encounter scenarios where we want to represent a word that isn't found in the lookup table. When this occurs, we need to come up with some way of representing the unknown word.\n",
        "\n",
        "A good choice for the vector representation of an unknown word is to use the *mean* of all vectors in the table. This ensures that the \"unknown\" isn't treated as a word that means something specific, which could lead to odd behaviour.\n",
        "\n",
        "📝 **Use `word2vec_embeddings.add_vector` to add the following token to the embedding table:**\n",
        "- **String representation `\\0` (= the null character).**\n",
        "- **Embedding vector equal to the average of the embedding matrix.** Note that the embedding dimension must match (=50), so you must be careful with the axis you take the mean along.\n",
        "\n",
        "**Replace all the nouns in the sentence above with the new token, `\\0`. Copy and paste your code from before to demonstrate that the encoding and decoding works correctly with the new token.**"
      ],
      "metadata": {
        "id": "dHBN5R0bouXo"
      }
    },
    {
      "cell_type": "code",
      "source": [
        "# TODO: Add the \\0 token to the embeddings\n",
        "# ...\n",
        "m = word2vec_embeddings.vectors.mean(axis=0)\n",
        "word2vec_embeddings.add_vector(key=\"\\0\", vector=m)"
      ],
      "metadata": {
        "colab": {
          "base_uri": "https://localhost:8080/"
        },
        "id": "k05Taec9sf7d",
        "outputId": "0d061cb1-6811-492a-fdf5-4763b3b7a18a"
      },
      "execution_count": null,
      "outputs": [
        {
          "output_type": "stream",
          "name": "stderr",
          "text": [
            "/usr/local/lib/python3.11/dist-packages/gensim/models/keyedvectors.py:551: UserWarning: Adding single vectors to a KeyedVectors which grows by one each time can be costly. Consider adding in batches or preallocating to the required size.\n",
            "  warnings.warn(\n"
          ]
        },
        {
          "output_type": "execute_result",
          "data": {
            "text/plain": [
              "400000"
            ]
          },
          "metadata": {},
          "execution_count": 52
        }
      ]
    },
    {
      "cell_type": "code",
      "source": [
        "# TODO: Check that \\0 is encoded and decoded correctly\n",
        "sentence = \"the \\0 brown \\0 jumped over the lazy \\0\"\n",
        "\n",
        "str_sequence = sentence.split()\n",
        "idx_sequence = [word2vec_embeddings.get_index(tok) for tok in str_sequence]\n",
        "reconstructed_str_sequence = [word2vec_embeddings.index_to_key[idx] for idx in idx_sequence]\n",
        "\n",
        "print(\"Original:\", str_sequence)\n",
        "print(\"Encoded:\", idx_sequence)\n",
        "print(\"Reconstructed: \", reconstructed_str_sequence)"
      ],
      "metadata": {
        "colab": {
          "base_uri": "https://localhost:8080/"
        },
        "id": "c4DWQCC_t9wZ",
        "outputId": "0cdbaf54-f2ba-4574-861b-474276e5059e"
      },
      "execution_count": null,
      "outputs": [
        {
          "output_type": "stream",
          "name": "stdout",
          "text": [
            "Original: ['the', '\\x00', 'brown', '\\x00', 'jumped', 'over', 'the', 'lazy', '\\x00']\n",
            "Encoded: [0, 400000, 1042, 400000, 3450, 74, 0, 16531, 400000]\n",
            "Reconstructed:  ['the', '\\x00', 'brown', '\\x00', 'jumped', 'over', 'the', 'lazy', '\\x00']\n"
          ]
        }
      ]
    },
    {
      "cell_type": "markdown",
      "source": [
        "Now we need to define a function that replaces unknown words in the input with  the null character.\n",
        "\n",
        "📝 **Fill in the `encode` function below. Your function should turn a sequence of string tokens into a sequence of token indices, while replacing unknown tokens with `\\0`.**\n",
        "\n"
      ],
      "metadata": {
        "id": "rbiZN8bMu9cy"
      }
    },
    {
      "cell_type": "code",
      "source": [
        "def encode(list_of_str: list[str]) -> list[int]:\n",
        "  # TODO:\n",
        "  # ...\n",
        "  list_of_idx = []\n",
        "  for s in list_of_str:\n",
        "    try:\n",
        "      list_of_idx.append(word2vec_embeddings.get_index(s))\n",
        "    except:\n",
        "      list_of_idx.append(word2vec_embeddings.get_index('\\0'))\n",
        "  return list_of_idx\n",
        "\n",
        "# Apply the encode function to the dataset\n",
        "movie_plot_tokens_idx = list(map(encode, movie_plot_tokens_str))\n",
        "print(movie_plot_tokens_idx[:10])"
      ],
      "metadata": {
        "colab": {
          "base_uri": "https://localhost:8080/"
        },
        "id": "THwOCAWBvKZZ",
        "outputId": "6b5ed135-410a-4813-e484-d4bc22e24e98"
      },
      "execution_count": null,
      "outputs": [
        {
          "output_type": "stream",
          "name": "stdout",
          "text": [
            "[[12430, 1509, 7330, 3995, 16636, 2694, 307, 420, 1655, 4210, 837, 13841, 92, 23095, 6697, 5128, 346, 23095, 6697, 12430, 242, 2924, 662, 13837, 4466, 79928, 562, 400000, 11655, 57606, 11042, 3623, 2694, 488, 12425, 79928, 1650, 125187, 2432, 12425, 539, 169, 11035, 999, 12430, 234, 9916, 5716, 79928, 161], [20523, 15325, 1875, 138691, 25808, 6856, 117, 542, 1423, 14392, 815, 5991, 4875, 136368, 180846, 48402, 260641, 1336, 15496, 1224, 2420, 1266, 1429, 499, 14392, 3546, 3849, 756, 1203, 2612, 42741, 746, 700, 419, 732, 1162, 197445, 137850, 39697, 807, 835, 9679, 197445, 5903, 20523, 2048, 20523, 169, 275, 7400, 291878, 4372, 320, 197445, 1058, 1452, 377, 1067, 180846, 11923, 142], [319, 835, 523, 1781, 17386, 1749, 815, 67135, 282, 2432, 1969, 684, 684, 168, 1367, 1541, 46953, 319, 128, 523, 1437, 16933, 2245, 1142, 213, 1859, 400000, 444, 1395, 691, 7267, 43224, 2985, 136, 702, 400000, 34095, 400000, 34095, 7914, 15987, 81780, 6326, 400000, 3045, 691, 8141, 400000, 3130, 1266, 4160, 1859, 276, 141, 216, 34186, 2985, 85351, 24224, 4160], [14730, 50, 196, 322, 620, 112179, 1641, 4551, 69, 682, 34537, 16885, 2996, 16921, 1139, 620, 25252, 992, 682, 1482, 1687, 50005, 91728, 44719, 156, 491, 9211, 322, 620, 218, 4396, 2996, 248, 14730, 767, 156, 1813, 410, 5536, 3302, 4785, 400000, 3688, 491, 55379, 2818, 214, 9995, 1340, 393], [3755, 39021, 25808, 1541, 1749, 9128, 1230, 578, 5903, 36612, 13395, 3755, 2099, 1230, 1606, 2214, 1210, 6412, 3004, 15480, 523, 461, 787, 2382, 179, 1403, 1749, 9128, 89564, 1744, 2699, 15414, 38768, 1744, 30462, 28093, 117, 2986, 1085, 1853, 853, 3755, 841, 12169, 912, 34841, 2996, 447, 1712, 2567, 16392, 3693, 75584, 14682, 854, 2327, 998, 12169], [319, 1092, 25945, 19535, 78102, 3933, 2636, 1930, 167, 166, 8561, 3453, 253, 1324, 6804, 5413, 2933, 3453, 2271, 2357, 13708, 611, 61816, 9999, 8254, 14803, 3937, 6804, 61816, 927, 400000, 50, 5247, 580, 521, 2061, 1711, 333, 167, 2791, 682, 13230, 61816, 167, 1201, 63870, 12457, 326, 163, 170712, 23639, 2569, 1930, 41797, 13816, 3634, 61816, 2137], [1092, 12782, 29179, 461, 6308, 6315, 76895, 343697, 9987, 9091, 307, 461, 787, 1203, 163, 364, 165, 11009, 4147, 322, 954, 586, 355, 14392, 2099, 891, 767, 719, 1203, 420, 168, 12782, 6314, 5186, 596, 7271, 5675, 1650, 1835, 190, 3534, 1960, 12782, 1221, 3950, 4591, 2901, 269, 978, 1835, 4223, 16091], [400000, 57942, 72923, 5783, 2725, 7271, 352, 346, 131246, 3796, 1528, 72923, 54843, 8970, 72923, 6327, 683, 28659, 1210, 12174, 85, 309813, 72923, 1092, 234, 131246, 3796, 9415, 214, 10459, 400000, 460, 8514, 12174, 5034, 410, 357, 303221, 3388, 5031, 309813, 6627, 938, 1033, 28659, 12174, 400000, 29197, 400000, 6327, 5508, 6374, 170427], [4520, 1283, 3873, 3873, 137155, 96868, 1186, 8977, 4324, 4131, 70364, 3052, 1545, 13187, 978, 9059, 2368, 3245, 400000, 499, 4629, 70099, 3873, 282, 410, 912, 1062, 19513, 4324, 4551, 9651, 10395, 1179, 20232, 5499, 3245, 22503, 7985, 1409, 4716, 567, 9651, 10395, 2065, 122, 642, 528, 4520, 50578, 712], [1082, 11697, 140, 2219, 19405, 7843, 1786, 1977, 1332, 3510, 1114, 945, 2280, 35191, 3428, 29701, 11064, 5366, 1619, 4034, 424, 804, 104, 112, 325, 352, 224, 4302, 41633, 1576, 2584, 19590, 20854, 1332, 354, 842, 1657, 2199, 467, 518, 467, 808, 849, 1332, 8632, 638, 4756, 161, 3510, 715, 7843, 35191, 2361, 2567, 1456]]\n"
          ]
        }
      ]
    },
    {
      "cell_type": "markdown",
      "source": [
        "You should be able to see some values `400000` appearing in the encoded data.\n",
        "\n",
        "\n",
        "Finally, as before, we need to pad the input so that all sequences are the same length.\n",
        "This time, we'll use an in-built PyTorch function."
      ],
      "metadata": {
        "id": "s3nLm8bDxIh9"
      }
    },
    {
      "cell_type": "code",
      "execution_count": null,
      "metadata": {
        "id": "SgQLOS3NRx44"
      },
      "outputs": [],
      "source": [
        "from torch.nn.utils.rnn import pad_sequence\n",
        "\n",
        "pad_token_str = \"\\0\"\n",
        "pad_token_idx = word2vec_embeddings.get_index(pad_token_str)\n",
        "\n",
        "movie_plot_tokens_idx_padded = pad_sequence([torch.tensor(a, dtype=int) for a in movie_plot_tokens_idx], batch_first=True, padding_value=pad_token_idx)\n",
        "\n",
        "x = movie_plot_tokens_idx_padded"
      ]
    },
    {
      "cell_type": "code",
      "source": [
        "movie_plot_tokens_idx_padded.shape"
      ],
      "metadata": {
        "colab": {
          "base_uri": "https://localhost:8080/"
        },
        "id": "12UEgUuSF744",
        "outputId": "b2740603-7ee3-4af7-e9cd-0c7b48518219"
      },
      "execution_count": null,
      "outputs": [
        {
          "output_type": "execute_result",
          "data": {
            "text/plain": [
              "torch.Size([8857, 75])"
            ]
          },
          "metadata": {},
          "execution_count": 56
        }
      ]
    },
    {
      "cell_type": "markdown",
      "metadata": {
        "id": "YGNE3Me9R0tb"
      },
      "source": [
        "#### Output encoding\n",
        "\n",
        "This is pretty much identical to the previous example. We transform the genres into class labels, and the labels into one-hot vectors."
      ]
    },
    {
      "cell_type": "code",
      "execution_count": null,
      "metadata": {
        "id": "belTMHKQR5-g"
      },
      "outputs": [],
      "source": [
        "from torch import nn\n",
        "\n",
        "# Convert text genre labels to integer labels\n",
        "genres = movies_downsampled[\"Genre\"].unique()\n",
        "class_labels = torch.arange(len(genres))\n",
        "genre_to_label = {g: l.item() for g, l in zip(genres, class_labels)}\n",
        "movies_downsampled[\"class\"] = movies_downsampled[\"Genre\"].map(lambda x: genre_to_label[x])\n",
        "\n",
        "# Convert integer labels to one-hot vectors\n",
        "y = nn.functional.one_hot(torch.tensor(movies_downsampled[\"class\"].values), num_classes=len(genres))"
      ]
    },
    {
      "cell_type": "code",
      "source": [
        "genres"
      ],
      "metadata": {
        "colab": {
          "base_uri": "https://localhost:8080/"
        },
        "id": "yIiXQurdDg2K",
        "outputId": "2cc7bcc2-76ca-4439-9cd7-9ac7c99f1ea9"
      },
      "execution_count": null,
      "outputs": [
        {
          "output_type": "execute_result",
          "data": {
            "text/plain": [
              "array(['animation', 'action', 'other', 'crime', 'comedy', 'horror',\n",
              "       'fantasy', 'thriller', 'adventure', 'bio', 'scifi', 'western',\n",
              "       'romance', 'documentary', 'war'], dtype=object)"
            ]
          },
          "metadata": {},
          "execution_count": 58
        }
      ]
    },
    {
      "cell_type": "markdown",
      "source": [
        "#### Train/test split\n",
        "\n",
        "This is exactly identical to the previous example."
      ],
      "metadata": {
        "id": "e32MKE8ACzZr"
      }
    },
    {
      "cell_type": "code",
      "execution_count": null,
      "metadata": {
        "id": "Z2-_ZQ3iR8ae"
      },
      "outputs": [],
      "source": [
        "test_fraction = 0.2\n",
        "validation_fraction = 0.1\n",
        "train_fraction = 0.7\n",
        "\n",
        "torch.manual_seed(0)\n",
        "train_data, validation_data, test_data = torch.utils.data.random_split(\n",
        "    dataset=torch.utils.data.TensorDataset(x, y),\n",
        "    lengths=[\n",
        "        train_fraction,\n",
        "        validation_fraction,\n",
        "        test_fraction,\n",
        "    ],\n",
        ")\n",
        "\n",
        "x_train, y_train = train_data.dataset.tensors\n",
        "x_validation, y_validation = validation_data.dataset.tensors\n",
        "x_test, y_test = test_data.dataset.tensors\n",
        "\n",
        "y_test = y_test.to(dtype=torch.float32)"
      ]
    },
    {
      "cell_type": "markdown",
      "metadata": {
        "id": "bmX6auwSR-8D"
      },
      "source": [
        "---\n",
        "\n",
        "### **3.2 LSTM training and evaluation 📝**\n",
        "\n",
        "In this section, we'll use the nicely prepared data to train an LSTM. There are a few changes we have to make in order to make the model appropriate for the genre classification task.\n"
      ]
    },
    {
      "cell_type": "markdown",
      "source": [
        "#### Modifying the LSTM for sequence classification 📝\n",
        "\n",
        "In the NER task, we were considering classification of *words*. This meant that as each new word came into the LSTM layer of our model we wanted to produce an output value, leading to the output having shape `(batch_size, sequence_length, num_classes)`.\n",
        "\n",
        "\n",
        "In order to classify at the *sequence* level, we want to produce an output of shape `(batch_size, num_classes)`- one label for each sequence in the dataset (in this case, the plot summaries)."
      ],
      "metadata": {
        "id": "ulJ37cVn1t0U"
      }
    },
    {
      "cell_type": "markdown",
      "source": [
        "Rather than caring about what the LSTM layer generates as each new word is fed in, this means that we want to extract the final state of the LSTM after it's seen the full sequence. **This is exactly the `hidden_state` variable produced when the LSTM layer is called.**\n",
        "\n",
        "\n",
        " 📝 **Implement the forward method for the `SequenceClassifierLSTM` class. Instead of using the output value of the LSTM layer, use the hidden_state value.**"
      ],
      "metadata": {
        "id": "U6cflwWwN78O"
      }
    },
    {
      "cell_type": "code",
      "source": [
        "class SequenceClassifierLSTM(nn.Module):\n",
        "    def __init__(self, num_hidden_layers, hidden_dim, output_dim, num_embeddings, embedding_dim):\n",
        "        super().__init__()\n",
        "        self.embedding = torch.nn.Embedding(num_embeddings, embedding_dim)\n",
        "        self.lstm = torch.nn.LSTM(input_size=embedding_dim, hidden_size=hidden_dim, batch_first=True, num_layers=num_hidden_layers)\n",
        "        self.dense = torch.nn.Linear(in_features=hidden_dim, out_features=output_dim)\n",
        "        self.softmax = torch.nn.Softmax(dim=-1)\n",
        "\n",
        "    def forward(self, x):\n",
        "        # TODO: Implement the forward method for the SequenceClassifierLSTM\n",
        "        # ...\n",
        "        x = self.embedding(x)\n",
        "        _, (hidden_state, _) = self.lstm(x)\n",
        "        x = self.dense(hidden_state[-1, ...])\n",
        "        x = self.softmax(x)\n",
        "        return x"
      ],
      "metadata": {
        "id": "wUTjtLRON8oJ"
      },
      "execution_count": null,
      "outputs": []
    },
    {
      "cell_type": "markdown",
      "source": [
        "#### Loading pre-trained weights for the embedding layer 📝\n",
        "\n",
        "As we're using a pre-trained embedding layer, we need to construct the model with the correct dimensions.\n",
        "The weights for the embedding layer will be given by `word2vec_embeddings.vectors`.\n",
        "\n"
      ],
      "metadata": {
        "id": "F-1XsM96xhwD"
      }
    },
    {
      "cell_type": "code",
      "source": [
        "embedding_matrix = torch.tensor(word2vec_embeddings.vectors)\n",
        "embedding_matrix.shape"
      ],
      "metadata": {
        "colab": {
          "base_uri": "https://localhost:8080/"
        },
        "id": "_729WL0Di0mH",
        "outputId": "3cc7708c-055f-46e7-b00e-7d68e4f80b6b"
      },
      "execution_count": null,
      "outputs": [
        {
          "output_type": "execute_result",
          "data": {
            "text/plain": [
              "torch.Size([400001, 50])"
            ]
          },
          "metadata": {},
          "execution_count": 61
        }
      ]
    },
    {
      "cell_type": "markdown",
      "source": [
        " 📝 **Instantiate a SequenceClassifierLSTM with 1 hidden layer, hidden_dim of 128, and appropriate values for the other dimensions.**"
      ],
      "metadata": {
        "id": "DiyKqWlh2O8R"
      }
    },
    {
      "cell_type": "code",
      "source": [
        "# TODO: Instantiate a SequenceClassifierLSTM\n",
        "# ...\n",
        "lstm = SequenceClassifierLSTM(num_hidden_layers=1, hidden_dim=128, output_dim=len(genres), num_embeddings=embedding_matrix.shape[0], embedding_dim=embedding_matrix.shape[1])\n",
        "\n",
        "# Visualise\n",
        "model_graph = torchview.draw_graph(lstm, input_data=x_train)\n",
        "model_graph.visual_graph\n"
      ],
      "metadata": {
        "colab": {
          "base_uri": "https://localhost:8080/"
        },
        "id": "ylfm-KMLKb1A",
        "outputId": "0be8a76e-db62-47ea-a1ed-86bfd741ea4e"
      },
      "execution_count": null,
      "outputs": [
        {
          "output_type": "execute_result",
          "data": {
            "image/svg+xml": "<?xml version=\"1.0\" encoding=\"UTF-8\" standalone=\"no\"?>\n<!DOCTYPE svg PUBLIC \"-//W3C//DTD SVG 1.1//EN\"\n \"http://www.w3.org/Graphics/SVG/1.1/DTD/svg11.dtd\">\n<!-- Generated by graphviz version 2.43.0 (0)\n -->\n<!-- Title: model Pages: 1 -->\n<svg width=\"347pt\" height=\"498pt\"\n viewBox=\"0.00 0.00 347.00 498.00\" xmlns=\"http://www.w3.org/2000/svg\" xmlns:xlink=\"http://www.w3.org/1999/xlink\">\n<g id=\"graph0\" class=\"graph\" transform=\"scale(1 1) rotate(0) translate(4 494)\">\n<title>model</title>\n<polygon fill=\"white\" stroke=\"transparent\" points=\"-4,4 -4,-494 343,-494 343,4 -4,4\"/>\n<!-- 0 -->\n<g id=\"node1\" class=\"node\">\n<title>0</title>\n<polygon fill=\"lightyellow\" stroke=\"transparent\" points=\"246.5,-490 92.5,-490 92.5,-458 246.5,-458 246.5,-490\"/>\n<polygon fill=\"none\" stroke=\"black\" points=\"92.5,-458 92.5,-490 175.5,-490 175.5,-458 92.5,-458\"/>\n<text text-anchor=\"start\" x=\"97.5\" y=\"-477\" font-family=\"Linux libertine\" font-size=\"10.00\">input&#45;tensor</text>\n<text text-anchor=\"start\" x=\"112.5\" y=\"-466\" font-family=\"Linux libertine\" font-size=\"10.00\">depth:0</text>\n<polygon fill=\"none\" stroke=\"black\" points=\"175.5,-458 175.5,-490 246.5,-490 246.5,-458 175.5,-458\"/>\n<text text-anchor=\"start\" x=\"180.5\" y=\"-471.5\" font-family=\"Linux libertine\" font-size=\"10.00\">(8857, 75)</text>\n</g>\n<!-- 1 -->\n<g id=\"node2\" class=\"node\">\n<title>1</title>\n<polygon fill=\"#c1ffc1\" stroke=\"transparent\" points=\"282,-422 57,-422 57,-380 282,-380 282,-422\"/>\n<polygon fill=\"none\" stroke=\"black\" points=\"57.5,-380 57.5,-422 122.5,-422 122.5,-380 57.5,-380\"/>\n<text text-anchor=\"start\" x=\"62.5\" y=\"-404\" font-family=\"Linux libertine\" font-size=\"10.00\">Embedding</text>\n<text text-anchor=\"start\" x=\"68.5\" y=\"-393\" font-family=\"Linux libertine\" font-size=\"10.00\">depth:1</text>\n<polygon fill=\"none\" stroke=\"black\" points=\"122.5,-401 122.5,-422 181.5,-422 181.5,-401 122.5,-401\"/>\n<text text-anchor=\"start\" x=\"133.5\" y=\"-409\" font-family=\"Linux libertine\" font-size=\"10.00\">input:</text>\n<polygon fill=\"none\" stroke=\"black\" points=\"181.5,-401 181.5,-422 282.5,-422 282.5,-401 181.5,-401\"/>\n<text text-anchor=\"start\" x=\"198.5\" y=\"-409\" font-family=\"Linux libertine\" font-size=\"10.00\">(8857, 75) </text>\n<polygon fill=\"none\" stroke=\"black\" points=\"122.5,-380 122.5,-401 181.5,-401 181.5,-380 122.5,-380\"/>\n<text text-anchor=\"start\" x=\"127.5\" y=\"-388\" font-family=\"Linux libertine\" font-size=\"10.00\">output: </text>\n<polygon fill=\"none\" stroke=\"black\" points=\"181.5,-380 181.5,-401 282.5,-401 282.5,-380 181.5,-380\"/>\n<text text-anchor=\"start\" x=\"186.5\" y=\"-388\" font-family=\"Linux libertine\" font-size=\"10.00\">(8857, 75, 50) </text>\n</g>\n<!-- 0&#45;&gt;1 -->\n<g id=\"edge1\" class=\"edge\">\n<title>0&#45;&gt;1</title>\n<path fill=\"none\" stroke=\"black\" d=\"M169.5,-457.94C169.5,-450.45 169.5,-441.12 169.5,-432.24\"/>\n<polygon fill=\"black\" stroke=\"black\" points=\"173,-432.16 169.5,-422.16 166,-432.16 173,-432.16\"/>\n</g>\n<!-- 2 -->\n<g id=\"node3\" class=\"node\">\n<title>2</title>\n<polygon fill=\"#c1ffc1\" stroke=\"transparent\" points=\"339,-344 0,-344 0,-302 339,-302 339,-344\"/>\n<polygon fill=\"none\" stroke=\"black\" points=\"0.5,-302 0.5,-344 53.5,-344 53.5,-302 0.5,-302\"/>\n<text text-anchor=\"start\" x=\"14.5\" y=\"-326\" font-family=\"Linux libertine\" font-size=\"10.00\">LSTM</text>\n<text text-anchor=\"start\" x=\"5.5\" y=\"-315\" font-family=\"Linux libertine\" font-size=\"10.00\">depth:1</text>\n<polygon fill=\"none\" stroke=\"black\" points=\"53.5,-323 53.5,-344 112.5,-344 112.5,-323 53.5,-323\"/>\n<text text-anchor=\"start\" x=\"64.5\" y=\"-331\" font-family=\"Linux libertine\" font-size=\"10.00\">input:</text>\n<polygon fill=\"none\" stroke=\"black\" points=\"112.5,-323 112.5,-344 339.5,-344 339.5,-323 112.5,-323\"/>\n<text text-anchor=\"start\" x=\"180.5\" y=\"-331\" font-family=\"Linux libertine\" font-size=\"10.00\">(8857, 75, 50) </text>\n<polygon fill=\"none\" stroke=\"black\" points=\"53.5,-302 53.5,-323 112.5,-323 112.5,-302 53.5,-302\"/>\n<text text-anchor=\"start\" x=\"58.5\" y=\"-310\" font-family=\"Linux libertine\" font-size=\"10.00\">output: </text>\n<polygon fill=\"none\" stroke=\"black\" points=\"112.5,-302 112.5,-323 339.5,-323 339.5,-302 112.5,-302\"/>\n<text text-anchor=\"start\" x=\"117.5\" y=\"-310\" font-family=\"Linux libertine\" font-size=\"10.00\">(8857, 75, 128), 2 x (1, 8857, 128) </text>\n</g>\n<!-- 1&#45;&gt;2 -->\n<g id=\"edge2\" class=\"edge\">\n<title>1&#45;&gt;2</title>\n<path fill=\"none\" stroke=\"black\" d=\"M169.5,-379.63C169.5,-371.82 169.5,-362.73 169.5,-354.18\"/>\n<polygon fill=\"black\" stroke=\"black\" points=\"173,-354.16 169.5,-344.16 166,-354.16 173,-354.16\"/>\n</g>\n<!-- 3 -->\n<g id=\"node4\" class=\"node\">\n<title>3</title>\n<polygon fill=\"aliceblue\" stroke=\"transparent\" points=\"288,-266 51,-266 51,-224 288,-224 288,-266\"/>\n<polygon fill=\"none\" stroke=\"black\" points=\"51.5,-224 51.5,-266 128.5,-266 128.5,-224 51.5,-224\"/>\n<text text-anchor=\"start\" x=\"56.5\" y=\"-248\" font-family=\"Linux libertine\" font-size=\"10.00\">__getitem__</text>\n<text text-anchor=\"start\" x=\"68.5\" y=\"-237\" font-family=\"Linux libertine\" font-size=\"10.00\">depth:1</text>\n<polygon fill=\"none\" stroke=\"black\" points=\"128.5,-245 128.5,-266 187.5,-266 187.5,-245 128.5,-245\"/>\n<text text-anchor=\"start\" x=\"139.5\" y=\"-253\" font-family=\"Linux libertine\" font-size=\"10.00\">input:</text>\n<polygon fill=\"none\" stroke=\"black\" points=\"187.5,-245 187.5,-266 288.5,-266 288.5,-245 187.5,-245\"/>\n<text text-anchor=\"start\" x=\"192.5\" y=\"-253\" font-family=\"Linux libertine\" font-size=\"10.00\">(1, 8857, 128) </text>\n<polygon fill=\"none\" stroke=\"black\" points=\"128.5,-224 128.5,-245 187.5,-245 187.5,-224 128.5,-224\"/>\n<text text-anchor=\"start\" x=\"133.5\" y=\"-232\" font-family=\"Linux libertine\" font-size=\"10.00\">output: </text>\n<polygon fill=\"none\" stroke=\"black\" points=\"187.5,-224 187.5,-245 288.5,-245 288.5,-224 187.5,-224\"/>\n<text text-anchor=\"start\" x=\"201.5\" y=\"-232\" font-family=\"Linux libertine\" font-size=\"10.00\">(8857, 128) </text>\n</g>\n<!-- 2&#45;&gt;3 -->\n<g id=\"edge3\" class=\"edge\">\n<title>2&#45;&gt;3</title>\n<path fill=\"none\" stroke=\"black\" d=\"M169.5,-301.63C169.5,-293.82 169.5,-284.73 169.5,-276.18\"/>\n<polygon fill=\"black\" stroke=\"black\" points=\"173,-276.16 169.5,-266.16 166,-276.16 173,-276.16\"/>\n</g>\n<!-- 4 -->\n<g id=\"node5\" class=\"node\">\n<title>4</title>\n<polygon fill=\"#c1ffc1\" stroke=\"transparent\" points=\"267,-188 72,-188 72,-146 267,-146 267,-188\"/>\n<polygon fill=\"none\" stroke=\"black\" points=\"72.5,-146 72.5,-188 125.5,-188 125.5,-146 72.5,-146\"/>\n<text text-anchor=\"start\" x=\"80.5\" y=\"-170\" font-family=\"Linux libertine\" font-size=\"10.00\">Linear</text>\n<text text-anchor=\"start\" x=\"77.5\" y=\"-159\" font-family=\"Linux libertine\" font-size=\"10.00\">depth:1</text>\n<polygon fill=\"none\" stroke=\"black\" points=\"125.5,-167 125.5,-188 184.5,-188 184.5,-167 125.5,-167\"/>\n<text text-anchor=\"start\" x=\"136.5\" y=\"-175\" font-family=\"Linux libertine\" font-size=\"10.00\">input:</text>\n<polygon fill=\"none\" stroke=\"black\" points=\"184.5,-167 184.5,-188 267.5,-188 267.5,-167 184.5,-167\"/>\n<text text-anchor=\"start\" x=\"189.5\" y=\"-175\" font-family=\"Linux libertine\" font-size=\"10.00\">(8857, 128) </text>\n<polygon fill=\"none\" stroke=\"black\" points=\"125.5,-146 125.5,-167 184.5,-167 184.5,-146 125.5,-146\"/>\n<text text-anchor=\"start\" x=\"130.5\" y=\"-154\" font-family=\"Linux libertine\" font-size=\"10.00\">output: </text>\n<polygon fill=\"none\" stroke=\"black\" points=\"184.5,-146 184.5,-167 267.5,-167 267.5,-146 184.5,-146\"/>\n<text text-anchor=\"start\" x=\"192.5\" y=\"-154\" font-family=\"Linux libertine\" font-size=\"10.00\">(8857, 15) </text>\n</g>\n<!-- 3&#45;&gt;4 -->\n<g id=\"edge4\" class=\"edge\">\n<title>3&#45;&gt;4</title>\n<path fill=\"none\" stroke=\"black\" d=\"M169.5,-223.63C169.5,-215.82 169.5,-206.73 169.5,-198.18\"/>\n<polygon fill=\"black\" stroke=\"black\" points=\"173,-198.16 169.5,-188.16 166,-198.16 173,-198.16\"/>\n</g>\n<!-- 5 -->\n<g id=\"node6\" class=\"node\">\n<title>5</title>\n<polygon fill=\"#c1ffc1\" stroke=\"transparent\" points=\"264,-110 75,-110 75,-68 264,-68 264,-110\"/>\n<polygon fill=\"none\" stroke=\"black\" points=\"75.5,-68 75.5,-110 128.5,-110 128.5,-68 75.5,-68\"/>\n<text text-anchor=\"start\" x=\"80.5\" y=\"-92\" font-family=\"Linux libertine\" font-size=\"10.00\">Softmax</text>\n<text text-anchor=\"start\" x=\"80.5\" y=\"-81\" font-family=\"Linux libertine\" font-size=\"10.00\">depth:1</text>\n<polygon fill=\"none\" stroke=\"black\" points=\"128.5,-89 128.5,-110 187.5,-110 187.5,-89 128.5,-89\"/>\n<text text-anchor=\"start\" x=\"139.5\" y=\"-97\" font-family=\"Linux libertine\" font-size=\"10.00\">input:</text>\n<polygon fill=\"none\" stroke=\"black\" points=\"187.5,-89 187.5,-110 264.5,-110 264.5,-89 187.5,-89\"/>\n<text text-anchor=\"start\" x=\"192.5\" y=\"-97\" font-family=\"Linux libertine\" font-size=\"10.00\">(8857, 15) </text>\n<polygon fill=\"none\" stroke=\"black\" points=\"128.5,-68 128.5,-89 187.5,-89 187.5,-68 128.5,-68\"/>\n<text text-anchor=\"start\" x=\"133.5\" y=\"-76\" font-family=\"Linux libertine\" font-size=\"10.00\">output: </text>\n<polygon fill=\"none\" stroke=\"black\" points=\"187.5,-68 187.5,-89 264.5,-89 264.5,-68 187.5,-68\"/>\n<text text-anchor=\"start\" x=\"192.5\" y=\"-76\" font-family=\"Linux libertine\" font-size=\"10.00\">(8857, 15) </text>\n</g>\n<!-- 4&#45;&gt;5 -->\n<g id=\"edge5\" class=\"edge\">\n<title>4&#45;&gt;5</title>\n<path fill=\"none\" stroke=\"black\" d=\"M169.5,-145.63C169.5,-137.82 169.5,-128.73 169.5,-120.18\"/>\n<polygon fill=\"black\" stroke=\"black\" points=\"173,-120.16 169.5,-110.16 166,-120.16 173,-120.16\"/>\n</g>\n<!-- 6 -->\n<g id=\"node7\" class=\"node\">\n<title>6</title>\n<polygon fill=\"lightyellow\" stroke=\"transparent\" points=\"249.5,-32 89.5,-32 89.5,0 249.5,0 249.5,-32\"/>\n<polygon fill=\"none\" stroke=\"black\" points=\"89.5,0 89.5,-32 178.5,-32 178.5,0 89.5,0\"/>\n<text text-anchor=\"start\" x=\"94.5\" y=\"-19\" font-family=\"Linux libertine\" font-size=\"10.00\">output&#45;tensor</text>\n<text text-anchor=\"start\" x=\"112.5\" y=\"-8\" font-family=\"Linux libertine\" font-size=\"10.00\">depth:0</text>\n<polygon fill=\"none\" stroke=\"black\" points=\"178.5,0 178.5,-32 249.5,-32 249.5,0 178.5,0\"/>\n<text text-anchor=\"start\" x=\"183.5\" y=\"-13.5\" font-family=\"Linux libertine\" font-size=\"10.00\">(8857, 15)</text>\n</g>\n<!-- 5&#45;&gt;6 -->\n<g id=\"edge6\" class=\"edge\">\n<title>5&#45;&gt;6</title>\n<path fill=\"none\" stroke=\"black\" d=\"M169.5,-67.84C169.5,-59.89 169.5,-50.66 169.5,-42.26\"/>\n<polygon fill=\"black\" stroke=\"black\" points=\"173,-42.24 169.5,-32.24 166,-42.24 173,-42.24\"/>\n</g>\n</g>\n</svg>\n",
            "text/plain": [
              "<graphviz.graphs.Digraph at 0x7d7b858be910>"
            ]
          },
          "metadata": {},
          "execution_count": 62
        }
      ]
    },
    {
      "cell_type": "markdown",
      "source": [
        "To load the pretrained weights, we need to overwrite the `lstm.embedding` layer with a new layer constructed from the `embedding_matrix`.\n",
        "We set `freeze=True`, so that these parameters are marked as not trainable."
      ],
      "metadata": {
        "id": "E68zNK5X2ioC"
      }
    },
    {
      "cell_type": "code",
      "source": [
        "print(\"Trainable parameters before: \", [name for name, p in lstm.named_parameters() if p.requires_grad])\n",
        "lstm.embedding = nn.Embedding.from_pretrained(embedding_matrix, freeze=True)\n",
        "print(\"Trainable parameters after: \", [name for name, p in lstm.named_parameters() if p.requires_grad])"
      ],
      "metadata": {
        "colab": {
          "base_uri": "https://localhost:8080/"
        },
        "id": "gk5krGbgKw3K",
        "outputId": "3a338160-4f95-4d3c-e3e3-3df0694a1747"
      },
      "execution_count": null,
      "outputs": [
        {
          "output_type": "stream",
          "name": "stdout",
          "text": [
            "Trainable parameters before:  ['embedding.weight', 'lstm.weight_ih_l0', 'lstm.weight_hh_l0', 'lstm.bias_ih_l0', 'lstm.bias_hh_l0', 'dense.weight', 'dense.bias']\n",
            "Trainable parameters after:  ['lstm.weight_ih_l0', 'lstm.weight_hh_l0', 'lstm.bias_ih_l0', 'lstm.bias_hh_l0', 'dense.weight', 'dense.bias']\n"
          ]
        }
      ]
    },
    {
      "cell_type": "markdown",
      "source": [
        "You can see that the `embedding.weight` has disappeared from the trainable parameters."
      ],
      "metadata": {
        "id": "ozbzeK993WvX"
      }
    },
    {
      "cell_type": "markdown",
      "metadata": {
        "id": "7OFtRY2ISDYv"
      },
      "source": [
        "#### Training 📝\n",
        "\n",
        " 📝 **Now it's over to you! Using the previous LSTM training and test code as a template, train the SequenceClassifierLSTM on the data.**\n",
        "\n",
        " - Use a learning rate of 1e-3.\n",
        " - Use a batch size of 32.\n",
        " - *Hint: your first attempt might fail due to a tensor shape mismatch. You can use `.squeeze()` to discard any unwanted dimensions of a tensor with length 1.*\n"
      ]
    },
    {
      "cell_type": "code",
      "execution_count": null,
      "metadata": {
        "id": "o53wQ5bvSFly",
        "colab": {
          "base_uri": "https://localhost:8080/"
        },
        "outputId": "7b78eadf-71fe-4692-d919-f2f0dc25f8cc"
      },
      "outputs": [
        {
          "output_type": "stream",
          "name": "stderr",
          "text": [
            "Train loss = 2.6914894580841064: 100%|██████████| 500/500 [00:33<00:00, 14.73it/s]\n"
          ]
        }
      ],
      "source": [
        "# TODO: Train a SequenceClassifierLSTM on the data\n",
        "# ...\n",
        "\n",
        "from tqdm import trange\n",
        "\n",
        "# Loss function for classification\n",
        "# Compute the loss by doing loss_fn(predictions, targets)\n",
        "loss_fn = nn.CrossEntropyLoss()\n",
        "\n",
        "n_training_steps = 500\n",
        "optimiser = torch.optim.Adam(lstm.parameters(), lr=1e-3)\n",
        "\n",
        "# At each step, we will randomly sample a batch of data\n",
        "train_loader = torch.utils.data.DataLoader(train_data, shuffle=True, batch_size=32)\n",
        "\n",
        "progress_bar = tqdm(range(n_training_steps))\n",
        "train_loss_history = torch.empty(n_training_steps)\n",
        "\n",
        "for step in progress_bar:\n",
        "  # Sample a batch of training data\n",
        "  x_train_batch, y_train_batch = next(iter(train_loader))\n",
        "\n",
        "  # TODO: Ensure that the inputs are int tensors and the outputs are float tensors\n",
        "  # ...\n",
        "  x_train_batch = x_train_batch.to(dtype=torch.int)\n",
        "  y_train_batch = y_train_batch.to(dtype=torch.float)\n",
        "\n",
        "  # TODO: Perform the forward pass through the model\n",
        "  # ...\n",
        "  predictions = lstm(x_train_batch).squeeze()\n",
        "\n",
        "  # TODO: Compute the training loss\n",
        "  # ...\n",
        "  train_loss = loss_fn(predictions, y_train_batch)\n",
        "\n",
        "  # TODO: Perform a gradient step. This should be 3 distinct function calls.\n",
        "  # ...\n",
        "  optimiser.zero_grad()\n",
        "  train_loss.backward()\n",
        "  optimiser.step()\n",
        "\n",
        "  progress_bar.set_description(f\"Train loss = {train_loss}\")\n"
      ]
    },
    {
      "cell_type": "code",
      "source": [
        "# TODO: Test your trained model\n",
        "# ...\n",
        "with torch.no_grad():\n",
        "  prediction_probabilities = lstm(x_test).squeeze()\n",
        "  prediction_label = prediction_probabilities.argmax(-1)\n",
        "  true_label = y_test.argmax(axis=-1)\n",
        "  test_loss = loss_fn(prediction_probabilities, y_test)\n",
        "  test_accuracy = torch.sum(prediction_label == true_label) / (y_test.shape[0])\n",
        "\n",
        "print(f\"Test loss = {test_loss.item() : .3f}\")\n",
        "print(f\"Test accuracy = {test_accuracy.item() * 100 : .3f}%\")\n"
      ],
      "metadata": {
        "colab": {
          "base_uri": "https://localhost:8080/"
        },
        "id": "CUCfa0uNPbnf",
        "outputId": "c9b636e6-685e-458c-811f-e98e5f799822"
      },
      "execution_count": null,
      "outputs": [
        {
          "output_type": "stream",
          "name": "stdout",
          "text": [
            "Test loss =  2.557\n",
            "Test accuracy =  25.934%\n"
          ]
        }
      ]
    },
    {
      "cell_type": "markdown",
      "source": [
        " 📝 **What do you think of the model's performance? What could be done to improve it?**\n"
      ],
      "metadata": {
        "id": "2F9AMuM0zw8H"
      }
    },
    {
      "cell_type": "code",
      "source": [
        "# TODO: Your answer here\n",
        "# ..."
      ],
      "metadata": {
        "id": "J9oHbT-tz3Mi"
      },
      "execution_count": null,
      "outputs": []
    }
  ],
  "metadata": {
    "colab": {
      "provenance": [],
      "toc_visible": true
    },
    "kernelspec": {
      "display_name": "Python 3",
      "name": "python3"
    },
    "language_info": {
      "name": "python"
    }
  },
  "nbformat": 4,
  "nbformat_minor": 0
}